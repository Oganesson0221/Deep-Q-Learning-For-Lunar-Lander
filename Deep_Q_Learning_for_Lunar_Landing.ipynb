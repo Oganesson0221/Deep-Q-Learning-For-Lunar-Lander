{
  "cells": [
    {
      "cell_type": "markdown",
      "metadata": {
        "id": "LbZcI9ZXHl3a"
      },
      "source": [
        "# Deep Q-Learning for Lunar Landing"
      ]
    },
    {
      "cell_type": "markdown",
      "metadata": {
        "id": "E8yPRjteXgPb"
      },
      "source": [
        "## Part 0 - Installing the required packages and importing the libraries"
      ]
    },
    {
      "cell_type": "markdown",
      "metadata": {
        "id": "slEm5teGWjWU"
      },
      "source": [
        "### Installing Gymnasium"
      ]
    },
    {
      "cell_type": "code",
      "execution_count": 28,
      "metadata": {
        "id": "dbnq3XpoKa_7",
        "colab": {
          "base_uri": "https://localhost:8080/"
        },
        "outputId": "65487f7d-0019-41a9-a908-39168f30e965"
      },
      "outputs": [
        {
          "output_type": "stream",
          "name": "stdout",
          "text": [
            "Requirement already satisfied: gymnasium in /usr/local/lib/python3.10/dist-packages (1.0.0)\n",
            "Requirement already satisfied: numpy>=1.21.0 in /usr/local/lib/python3.10/dist-packages (from gymnasium) (1.26.4)\n",
            "Requirement already satisfied: cloudpickle>=1.2.0 in /usr/local/lib/python3.10/dist-packages (from gymnasium) (3.1.0)\n",
            "Requirement already satisfied: typing-extensions>=4.3.0 in /usr/local/lib/python3.10/dist-packages (from gymnasium) (4.12.2)\n",
            "Requirement already satisfied: farama-notifications>=0.0.1 in /usr/local/lib/python3.10/dist-packages (from gymnasium) (0.0.4)\n",
            "Requirement already satisfied: gymnasium[accept-rom-license,atari] in /usr/local/lib/python3.10/dist-packages (1.0.0)\n",
            "\u001b[33mWARNING: gymnasium 1.0.0 does not provide the extra 'accept-rom-license'\u001b[0m\u001b[33m\n",
            "\u001b[0mRequirement already satisfied: numpy>=1.21.0 in /usr/local/lib/python3.10/dist-packages (from gymnasium[accept-rom-license,atari]) (1.26.4)\n",
            "Requirement already satisfied: cloudpickle>=1.2.0 in /usr/local/lib/python3.10/dist-packages (from gymnasium[accept-rom-license,atari]) (3.1.0)\n",
            "Requirement already satisfied: typing-extensions>=4.3.0 in /usr/local/lib/python3.10/dist-packages (from gymnasium[accept-rom-license,atari]) (4.12.2)\n",
            "Requirement already satisfied: farama-notifications>=0.0.1 in /usr/local/lib/python3.10/dist-packages (from gymnasium[accept-rom-license,atari]) (0.0.4)\n",
            "Requirement already satisfied: ale-py>=0.9 in /usr/local/lib/python3.10/dist-packages (from gymnasium[accept-rom-license,atari]) (0.10.1)\n",
            "Reading package lists... Done\n",
            "Building dependency tree... Done\n",
            "Reading state information... Done\n",
            "swig is already the newest version (4.0.2-1ubuntu1).\n",
            "0 upgraded, 0 newly installed, 0 to remove and 49 not upgraded.\n",
            "Requirement already satisfied: gymnasium[box2d] in /usr/local/lib/python3.10/dist-packages (1.0.0)\n",
            "Requirement already satisfied: numpy>=1.21.0 in /usr/local/lib/python3.10/dist-packages (from gymnasium[box2d]) (1.26.4)\n",
            "Requirement already satisfied: cloudpickle>=1.2.0 in /usr/local/lib/python3.10/dist-packages (from gymnasium[box2d]) (3.1.0)\n",
            "Requirement already satisfied: typing-extensions>=4.3.0 in /usr/local/lib/python3.10/dist-packages (from gymnasium[box2d]) (4.12.2)\n",
            "Requirement already satisfied: farama-notifications>=0.0.1 in /usr/local/lib/python3.10/dist-packages (from gymnasium[box2d]) (0.0.4)\n",
            "Requirement already satisfied: box2d-py==2.3.5 in /usr/local/lib/python3.10/dist-packages (from gymnasium[box2d]) (2.3.5)\n",
            "Requirement already satisfied: pygame>=2.1.3 in /usr/local/lib/python3.10/dist-packages (from gymnasium[box2d]) (2.6.1)\n",
            "Requirement already satisfied: swig==4.* in /usr/local/lib/python3.10/dist-packages (from gymnasium[box2d]) (4.3.0)\n"
          ]
        }
      ],
      "source": [
        "!pip install gymnasium\n",
        "!pip install \"gymnasium[atari, accept-rom-license]\"\n",
        "!apt-get install -y swig\n",
        "!pip install gymnasium[box2d]"
      ]
    },
    {
      "cell_type": "markdown",
      "metadata": {
        "id": "brqiMN3UW9T9"
      },
      "source": [
        "### Importing the libraries"
      ]
    },
    {
      "cell_type": "code",
      "execution_count": 29,
      "metadata": {
        "id": "mZaKXP_aMl9O"
      },
      "outputs": [],
      "source": [
        "import os\n",
        "import random\n",
        "import numpy as np\n",
        "import torch\n",
        "import torch.nn as nn\n",
        "import torch.optim as optim\n",
        "import torch.nn.functional as F\n",
        "import torch.autograd as autograd\n",
        "from torch.autograd import Variable\n",
        "from collections import deque, namedtuple"
      ]
    },
    {
      "cell_type": "markdown",
      "metadata": {
        "id": "EzlDKXvkXzGI"
      },
      "source": [
        "## Part 1 - Building the AI"
      ]
    },
    {
      "cell_type": "markdown",
      "metadata": {
        "id": "UtG6Zc83YYy3"
      },
      "source": [
        "### Creating the architecture of the Neural Network"
      ]
    },
    {
      "cell_type": "code",
      "source": [
        "#Network is the brain of the AI\n",
        "class Network(nn.Module):\n",
        "  def __init__(self, state_size, action_size, seed = 42): #state size is the number of inputs in a state\n",
        "    super(Network, self).__init__() #this is done in order to activate the inheritance\n",
        "    self.seed = torch.manual_seed(seed) #this is to generate some random vectors\n",
        "    #now we start with the architecture\n",
        "    #fc1 represents the first full connection layer between the input layer and the first fully connected layer\n",
        "    #first argument is the number of neurons in the input layer which is going to be the state size\n",
        "    self.fc1 = nn.Linear(state_size, 64) #the optimal number of neurons 64 takes trial and error to find out\n",
        "    #for the second fc, the first argumnet will be the number of neurons in the fully connected layer which is 64\n",
        "    self.fc2 = nn.Linear(64, 64) #through trial and error it was found that the best wayy is having another/ a second fully connected layer\n",
        "    #again fc3, will have the first argument as the number of the neurons in the fully connected layer which is basically the second argument of the\n",
        "    #previous step\n",
        "    self.fc3 = nn.Linear(64,action_size ) #the best architecture in this case contains two intermediate fully connected layers between the input layer and the output layer\n",
        "\n",
        "    #Now we built the forward method inside this network class which will forward propagate the signal from the input layer to the output layer through our two fully connected layers\n",
        "\n",
        "  def forward(self, state):\n",
        "      #First we will propagate teh signal from the input layer to the first fully connected layer\n",
        "      # x = self.fc1(state) #x contains what is returned by self.fc1(state)\n",
        "      # #Now we need to activate teh signal thanks to the rectifier activation function\n",
        "      # x = F.relu(x) #this is the rectifier activation function\n",
        "      # #The above two lines of code propagate the signal from the input layer to the first fully connected layer with a rectifier activation function\n",
        "      # x = self.fc2(x)\n",
        "      # x = F.relu(x)\n",
        "      # #The above two lines of code propagate the signal from the first fully connected layer to the second fully connected layer with a rectifier activation function\n",
        "\n",
        "      # #fc3 is fully connected with our rectifier activation function\n",
        "      # return self.fc3(x)\n",
        "    x = self.fc1(state)\n",
        "    x = F.relu(x)\n",
        "    x = self.fc2(x)\n",
        "    x = F.relu(x)\n",
        "    return self.fc3(x)\n"
      ],
      "metadata": {
        "id": "wtA_C3Udl7LP"
      },
      "execution_count": 30,
      "outputs": []
    },
    {
      "cell_type": "markdown",
      "metadata": {
        "id": "UxVrBnFWZKb1"
      },
      "source": [
        "## Part 2 - Training the AI"
      ]
    },
    {
      "cell_type": "markdown",
      "metadata": {
        "id": "T364fz9qZb2j"
      },
      "source": [
        "### Setting up the environment"
      ]
    },
    {
      "cell_type": "code",
      "source": [
        "import gymnasium as gym\n",
        "env = gym.make('LunarLander-v3') # The Lunar Lander environment was upgraded to v3\n",
        "state_shape = env.observation_space.shape\n",
        "state_size = env.observation_space.shape[0]\n",
        "number_actions = env.action_space.n\n",
        "print('State shape: ', state_shape) #vector of 8 elements so it is of the form (8, 0)\n",
        "print('State size: ', state_size)\n",
        "print('Number of actions: ', number_actions)"
      ],
      "metadata": {
        "id": "41sgnpCwtd5f",
        "colab": {
          "base_uri": "https://localhost:8080/"
        },
        "outputId": "b5224a08-c546-4d6a-961c-5442fbe6d68d"
      },
      "execution_count": 31,
      "outputs": [
        {
          "output_type": "stream",
          "name": "stdout",
          "text": [
            "State shape:  (8,)\n",
            "State size:  8\n",
            "Number of actions:  4\n"
          ]
        }
      ]
    },
    {
      "cell_type": "markdown",
      "metadata": {
        "id": "c_dZmOIvZgj-"
      },
      "source": [
        "### Initializing the hyperparameters"
      ]
    },
    {
      "cell_type": "code",
      "source": [
        "learning_rate = 5e-4 #the best value attained after experimentation\n",
        "minibatch_size = 100 #this refers to the number of observations used in one step of training to update the model parameters\n",
        "discount_factor = 0.99 #discount factor represents the present value of the future rewards so if we have a low discount factor close to zero that will make the agent shorsighted by\n",
        "#considering only the current rewards. However if we have a discount factor close to 1, that will make the agent consider the future rewards in its accumulation of the total reward\n",
        "#and we will get the best performance with a good consideration of future rewards\n",
        "replay_buffer_size = int(1e5) #the size of the memory of the AI meaning how many experiences including state, action, reward, next date and whether done or not in the memory of the agent\n",
        "#the training to sample and break correlations in the observation sequences. Purpose is to stabilize and improve the training process\n",
        "#we choose to store 100000 experiences in the memory\n",
        "\n",
        "#final parameter which is the interpolation parameter for the training so that is the parameter which will be used in the sub update of the target networks\n",
        "interpolation_parameter = 1e-3"
      ],
      "metadata": {
        "id": "hpfTitpbr_Jd"
      },
      "execution_count": 32,
      "outputs": []
    },
    {
      "cell_type": "markdown",
      "metadata": {
        "id": "8hD_Vs-bYnip"
      },
      "source": [
        "### Implementing Experience Replay"
      ]
    },
    {
      "cell_type": "code",
      "source": [
        "class ReplayMemory(object):\n",
        "\n",
        "  def __init__(self, capacity): #self to refer to the object and capacity for the capacity of the memory\n",
        "    self.device = torch.device(\"cuda:0\" if torch.cuda.is_available() else \"cpu\") #if we want to make the training faster and more performance using a gpu\n",
        "    self.capacity = capacity\n",
        "    self.memory = []\n",
        "\n",
        "\n",
        "  def push(self, event): #this will add experiences to the ReplayMemory buffer while also checking we dont exceed the capacity\n",
        "    self.memory.append(event)\n",
        "    # The following line is changed to check the length of self.memory\n",
        "    if len(self.memory) > self.capacity:\n",
        "      del self.memory[0]\n",
        "\n",
        "  #the next method is going to be a sample method that will randomly select a batch of experiences from the memory buffer\n",
        "  def sample(self, batch_size):\n",
        "    experiences = random.sample(self.memory, k=batch_size) #an experience contains the state, the action, the reward, the next state\n",
        "    states = torch.from_numpy(np.vstack([e[0] for e in experiences if e is not None])).float().to(self.device) #we need to convert these stack of states into pytorch tensors and we do this using the pyTorch library\n",
        "    #we need to make sure that the data type of the tensor is only float\n",
        "    actions = torch.from_numpy(np.vstack([e[1] for e in experiences if e is not None])).long().to(self.device)\n",
        "    rewards = torch.from_numpy(np.vstack([e[2] for e in experiences if e is not None])).float().to(self.device)\n",
        "    next_states = torch.from_numpy(np.vstack([e[3] for e in experiences if e is not None])).float().to(self.device)\n",
        "    dones = torch.from_numpy(np.vstack([e[4] for e in experiences if e is not None]).astype(np.uint8)).float().to(self.device)#np.uint8 datatype is used to represent boolean values before we convert them to float\n",
        "    return states, next_states, actions, rewards, dones"
      ],
      "metadata": {
        "id": "b7-R9XpVuXsU"
      },
      "execution_count": 33,
      "outputs": []
    },
    {
      "cell_type": "markdown",
      "metadata": {
        "id": "JmEkbFbUY6Jt"
      },
      "source": [
        "### Implementing the DQN class"
      ]
    },
    {
      "cell_type": "code",
      "source": [
        "class Agent():\n",
        "\n",
        "  def __init__(self, state_size, action_size):\n",
        "    self.device = torch.device(\"cuda:0\" if torch.cuda.is_available() else \"cpu\")\n",
        "    self.state_size = state_size\n",
        "    self.action_size = action_size\n",
        "    self.local_qnetwork = Network(state_size, action_size).to(self.device)\n",
        "    self.target_qnetwork = Network(state_size, action_size).to(self.device)\n",
        "    self.optimizer = optim.Adam(self.local_qnetwork.parameters(), lr = learning_rate)\n",
        "    self.memory = ReplayMemory(replay_buffer_size)\n",
        "    self.t_step = 0\n",
        "\n",
        "  def step(self, state, action, reward, next_state, done):\n",
        "    self.memory.push((state, action, reward, next_state, done))\n",
        "    self.t_step = (self.t_step + 1) % 4\n",
        "    if self.t_step == 0:\n",
        "      if len(self.memory.memory) > minibatch_size:\n",
        "        experiences = self.memory.sample(100)\n",
        "        self.learn(experiences, discount_factor)\n",
        "\n",
        "  def act(self, state, epsilon = 0.):\n",
        "    state = torch.from_numpy(state).float().unsqueeze(0).to(self.device)\n",
        "    self.local_qnetwork.eval()\n",
        "    with torch.no_grad():\n",
        "      action_values = self.local_qnetwork(state)\n",
        "    self.local_qnetwork.train()\n",
        "    if random.random() > epsilon:\n",
        "      return np.argmax(action_values.cpu().data.numpy())\n",
        "    else:\n",
        "      return random.choice(np.arange(self.action_size))\n",
        "\n",
        "  def learn(self, experiences, discount_factor):\n",
        "    states, next_states, actions, rewards, dones = experiences\n",
        "    next_q_targets = self.target_qnetwork(next_states).detach().max(1)[0].unsqueeze(1)\n",
        "    q_targets = rewards + discount_factor * next_q_targets * (1 - dones)\n",
        "    q_expected = self.local_qnetwork(states).gather(1, actions)\n",
        "    loss = F.mse_loss(q_expected, q_targets)\n",
        "    self.optimizer.zero_grad()\n",
        "    loss.backward()\n",
        "    self.optimizer.step()\n",
        "    self.soft_update(self.local_qnetwork, self.target_qnetwork, interpolation_parameter)\n",
        "\n",
        "  def soft_update(self, local_model, target_model, interpolation_parameter):\n",
        "    for target_param, local_param in zip(target_model.parameters(), local_model.parameters()):\n",
        "      target_param.data.copy_(interpolation_parameter * local_param.data + (1.0 - interpolation_parameter) * target_param.data)"
      ],
      "metadata": {
        "id": "f4Y0dWLa3gz5"
      },
      "execution_count": 34,
      "outputs": []
    },
    {
      "cell_type": "markdown",
      "metadata": {
        "id": "o1tZElccZmf6"
      },
      "source": [
        "### Initializing the DQN agent"
      ]
    },
    {
      "cell_type": "code",
      "source": [
        "agent = Agent(state_size, number_actions)"
      ],
      "metadata": {
        "id": "PTQhCEO2bMNX"
      },
      "execution_count": 35,
      "outputs": []
    },
    {
      "cell_type": "markdown",
      "metadata": {
        "id": "E8v0PtUfaVQp"
      },
      "source": [
        "### Training the DQN agent"
      ]
    },
    {
      "cell_type": "code",
      "source": [
        "number_episodes = 2000\n",
        "maximum_number_timesteps_per_episode = 1000\n",
        "epsilon_starting_value  = 1.0\n",
        "epsilon_ending_value  = 0.01\n",
        "epsilon_decay_value  = 0.995\n",
        "epsilon = epsilon_starting_value\n",
        "scores_on_100_episodes = deque(maxlen = 100)\n",
        "\n",
        "for episode in range(1, number_episodes + 1):\n",
        "  state, _ = env.reset()\n",
        "  score = 0\n",
        "  for t in range(maximum_number_timesteps_per_episode):\n",
        "    action = agent.act(state=state, epsilon=epsilon)\n",
        "    next_state, reward, done, _, _ = env.step(action)\n",
        "    agent.step(state, action, reward, next_state, done)\n",
        "    state = next_state\n",
        "    score += reward\n",
        "    if done:\n",
        "      break\n",
        "  scores_on_100_episodes.append(score)\n",
        "  epsilon = max(epsilon_ending_value, epsilon_decay_value * epsilon)\n",
        "  print('\\rEpisode {}\\tAverage Score: {:.2f}'.format(episode, np.mean(scores_on_100_episodes)), end = \"\")\n",
        "  if episode % 100 == 0:\n",
        "    print('\\rEpisode {}\\tAverage Score: {:.2f}'.format(episode, np.mean(scores_on_100_episodes)))\n",
        "  if np.mean(scores_on_100_episodes) >= 200.0:\n",
        "    print('\\nEnvironment solved in {:d} episodes!\\tAverage Score: {:.2f}'.format(episode - 100, np.mean(scores_on_100_episodes)))\n",
        "    torch.save(agent.local_qnetwork.state_dict(), 'checkpoint.pth')\n",
        "    break"
      ],
      "metadata": {
        "colab": {
          "base_uri": "https://localhost:8080/"
        },
        "id": "4TF8gnzr7Vz6",
        "outputId": "616de150-7e22-4d1a-fea8-b78a8a141dfd"
      },
      "execution_count": 36,
      "outputs": [
        {
          "output_type": "stream",
          "name": "stdout",
          "text": [
            "Episode 100\tAverage Score: -179.67\n",
            "Episode 200\tAverage Score: -83.06\n",
            "Episode 300\tAverage Score: 26.65\n",
            "Episode 400\tAverage Score: 69.34\n",
            "Episode 500\tAverage Score: 92.63\n",
            "Episode 600\tAverage Score: 171.48\n",
            "Episode 668\tAverage Score: 200.48\n",
            "Environment solved in 568 episodes!\tAverage Score: 200.48\n"
          ]
        }
      ]
    },
    {
      "cell_type": "markdown",
      "metadata": {
        "id": "O8CNwdOTcCoP"
      },
      "source": [
        "## Part 3 - Visualizing the results"
      ]
    },
    {
      "cell_type": "code",
      "execution_count": 37,
      "metadata": {
        "id": "cb9nVvU2Okhk",
        "colab": {
          "base_uri": "https://localhost:8080/",
          "height": 459
        },
        "outputId": "d17971f8-8e1b-4ae8-b94c-81b0a8ce6995"
      },
      "outputs": [
        {
          "output_type": "stream",
          "name": "stderr",
          "text": [
            "WARNING:imageio_ffmpeg:IMAGEIO FFMPEG_WRITER WARNING: input image is not divisible by macro_block_size=16, resizing from (600, 400) to (608, 400) to ensure video compatibility with most codecs and players. To prevent resizing, make your input image divisible by the macro_block_size or set the macro_block_size to 1 (risking incompatibility).\n"
          ]
        },
        {
          "output_type": "display_data",
          "data": {
            "text/plain": [
              "<IPython.core.display.HTML object>"
            ],
            "text/html": [
              "<video alt=\"test\" autoplay\n",
              "                loop controls style=\"height: 400px;\">\n",
              "                <source src=\"data:video/mp4;base64,AAAAIGZ0eXBpc29tAAACAGlzb21pc28yYXZjMW1wNDEAAAAIZnJlZQAA2wptZGF0AAACrgYF//+q3EXpvebZSLeWLNgg2SPu73gyNjQgLSBjb3JlIDE1OSByMjk5MSAxNzcxYjU1IC0gSC4yNjQvTVBFRy00IEFWQyBjb2RlYyAtIENvcHlsZWZ0IDIwMDMtMjAxOSAtIGh0dHA6Ly93d3cudmlkZW9sYW4ub3JnL3gyNjQuaHRtbCAtIG9wdGlvbnM6IGNhYmFjPTEgcmVmPTMgZGVibG9jaz0xOjA6MCBhbmFseXNlPTB4MzoweDExMyBtZT1oZXggc3VibWU9NyBwc3k9MSBwc3lfcmQ9MS4wMDowLjAwIG1peGVkX3JlZj0xIG1lX3JhbmdlPTE2IGNocm9tYV9tZT0xIHRyZWxsaXM9MSA4eDhkY3Q9MSBjcW09MCBkZWFkem9uZT0yMSwxMSBmYXN0X3Bza2lwPTEgY2hyb21hX3FwX29mZnNldD0tMiB0aHJlYWRzPTMgbG9va2FoZWFkX3RocmVhZHM9MSBzbGljZWRfdGhyZWFkcz0wIG5yPTAgZGVjaW1hdGU9MSBpbnRlcmxhY2VkPTAgYmx1cmF5X2NvbXBhdD0wIGNvbnN0cmFpbmVkX2ludHJhPTAgYmZyYW1lcz0zIGJfcHlyYW1pZD0yIGJfYWRhcHQ9MSBiX2JpYXM9MCBkaXJlY3Q9MSB3ZWlnaHRiPTEgb3Blbl9nb3A9MCB3ZWlnaHRwPTIga2V5aW50PTI1MCBrZXlpbnRfbWluPTI1IHNjZW5lY3V0PTQwIGludHJhX3JlZnJlc2g9MCByY19sb29rYWhlYWQ9NDAgcmM9Y3JmIG1idHJlZT0xIGNyZj0yMy4wIHFjb21wPTAuNjAgcXBtaW49MCBxcG1heD02OSBxcHN0ZXA9NCBpcF9yYXRpbz0xLjQwIGFxPTE6MS4wMACAAAAGy2WIhAA3//728P4FNlYEUJcRzeidMx+/Fbi6NDe92RHgidr9AdI3I0v2CJhHItLXD07PJthrdxjJwhUywQ97QLU2lpodQdAoyv1tkNgFMbVSyDOg6RG0Nuo7w1JhCIxBH//y/E1vdN+wzml7M8sstkLt/AIrrJcYthWJSgNL2pSZ+odwmV3QsAzTDujvfMwjLvJJnkHoWhUNk2QnqlJS/saSOwT8+XLseBRoz6vqdr2sG+Xy9ndHngFe0+Tnu3HtdRzjwp86ms36Y55mb/D+gztD7aztEuoAvD3+uanHuiBSgCyCFCX7fm6fAAADAAADAguWxfqfPk+yPv5D7uzVKtNhzzjUAAAEuBlNEPDJCdCqDgEVHgNocA2CDFsBc12tnDdLQcf+NOEi2If4J7YMI7LZzdHHu5SW203PI0yiw9ePsHN+YN826dG7dYx2+z/z5CcGkR2pY9yzytvvK88JWLHe8K0U6RTONEKPcVCNgvu8TsVrNrswqX9W+JhI8yyqGTxUMjvInfT4Z99sm8TtWy4LlTiYRQzL7mmiqZnUGIpTfR8Lne42xJ1Je8FGPpvfGyVr/E3ZCMmE1J5D8LD++qdUnTg1nQT8pWlHZbwfgq4ureTzBzutq6JA37H6nPqBARBmMnO1L2TpyNdC9ogvMqjrKZsH2LVaArbo0kKoEficwvRGCrTighQ4JTx9gXm1IgSyx5bP8wubeCOeorswQVcjGF5gT5nZcpNcVSXd1LvbfJbopjivycmonOCDnnXSl4ZCSJqCsrZu4mvyy18XTlCm5mcvc92t+thxjmndO7CZt5F2vcf98j/9wRW6lUynCiwn+lLdWYXaGJqscXsfIjqwcdQ4nvFOpnByU9Gi4kH9um0pNESbna/EtjiR8e0t4y4vcVsFm8lbDZDb+n2UpC6t9ok63/zEdW8LPH0toJmfPWU5hgGunnEtjBzZP/OVQSbI48C2V9+KKwJrSVENziSqH/qWYRWj6WM+jbXryXowWIeyP7HaZyIw2ES6TNsnjhl4a1v+zAYa4hz8lqaviAQ0UBH69wEsHuMGBNJA4fCwKkdrG+LleDrQTaRCJhSYa/1V7BvGujvXBmmk58hm5nx3J2qMJjmXhIlnSEGphfN3b3y20Vk3RGyw+wgkUxQzvsLEAgCR+ALDH1oMxYCbsxiGSEo74AufpHiSn0Z/6ZMM5HG3GHT0B+/H1VBYGT+jNpFXRGECKyiL+MuxoAr/C1YeI3f6Q/CEkkJEg/zDAu5+BkjnsrvG8mWWEeExenwzyfOLgWB3qRhbBtYeBC7wJ6RoSr/CwQt9BC8nuYJqi80VQfBIV2/8eogcC7A7gUzU1dLZBeIvE4udIz5sJqXZcigWXVFuHL16IxTQ4a35FTsImRceaeJT1KXL6IwzCvHjny+GcD/oOuhDRPRBWUrUnaFfPEtGRzbVPqtWC5hopFZQoQ5qyeLwbXtKf/G2EOIBLIYmJnULv6iJtQmRh/ZXMwSvMQfpvO27UTPNfBF3iRss9/zyD5W7+jiPrMO0DiILz/U1LAOjUWg6QD+zZ3L4s8+4P4DftfXXPzJhUv1RF2OmpCy6n7J7JI8dKbTGmq3///wBpeWnmwtFdcPxq2Y57LILVB0npd0vRBycW/8X+xHQnUPX3G3Sg4dIgjhK3HnbHoOYVQYrx8jrq0jWliXF9c0QZ5/4/jZEr7aWGNdYdXronf4d06WFMxxdsi+naaceaaONh6am0Ve+U2YpHXNDcBbnypbz3f059BqUUVNp4Nhne/C4S98rRmxz8EENxMcvTB3NuTeBSWlPY4dz15VUFF26ROm68qvtNrIPRbOCkioaHgSvgIJms8ZFi4WTeB3PI4FCPQbXy3QHie3ElybfqjlZbjQONBRVhgSUV0XU2ENSIEHTXOCEQWdXJqnonu9wxcbLvihDmtAzlpDqnQ330dSePYaGou0z2yhn48wLooUlHArX2Ck3MqvgKLqbQnuCl58F6rNxZehY7Fwec75q/Po+s0zuwDuk2maxqTelEF95fTlgU3bldWNZqr03brkagF8hpQOvoE48wOTFomEaDVZrI3L2lawzktDGoMZ+RZwTAFg8MgXVxnkWQLL2fIFs9Qt3Yb/SD3ZJTMimYXmvU+50ykx9Uje/WMzCuEd+3JNmbrko4fUD5wHWynZz6lMPB3jCS2SDJ4QZ3K2K4csSOBJLuXWmpsA5eyrSKnqojP/8E2wkfpyG/ie2pLAdV8VHCb+kHao8Rt6Kw4WfZOEFpz/xdeGlR6EgrrlAg4UP5A7GD8x2qVzZMHDQJd6H0gAAAwAAAwAAAwAAAwFvAAAA3UGaI2xDf/6njkVOzc3IAVklvZD7Op8XRHdhj63aBb4OYIY2C+O8vn0VvkxnxiZCBGLS5wucU9F6za1AkYx2R+A2005GyeLVpdAwHi5F/JxHVUE65ZJdmyoVsQ/1jbKOT/sSYcWepa7L8v5iGt45gdvQvoIQZ/EXH6Gh6AFdyqxPL/auhDi5du8nnrfFc2hJcmYifeHftaXKDQLmauG/Q7ybooPNhPHqtPqdes6VhIrc3bxtgFqwBaDDhWr5Ir7HEPgERu6TCw0sjCyrcMI0XqDowSx6Bv3abZKZatXQAAAATEGeQXiFfwvSrq5K9VHDwJT77SQAkQRc0mYnl4LujIu4c9BY3v91X0FTkexrVxGbGMxVkd9rqgCnWdgABp93OORz6EH1JsipusDECRkAAAAsAZ5iakJ/Dd1ieKZbpdMcuspPaJFGSJMvZLSoUZseAAc+Sb9eMROESq9DITcAAAEAQZpnSahBaJlMCG///qePQBSxYlSEgBxu2VxVcM86FO1JQHWR/B6hgNq7uIv+QNykqO+fmqE5zFVv778zmQA1yeFulB570b/4xciss0DxcTrjtqagEchc7uMpf8svG3MyHNF0g+Y46YGSenzEPjOesdB8H+kfjy7b8vBgBAAAAwHccfjNBPj6TPM4DzWl6MV26radi8TNxuKvTuz+y+E15ZxiHyu7rUWfrR4Au4whKkAIwyG4ojDa2/b24GdmnrpsMKYYGmGZ1ze+7WpWOYP78fgRdxAHGhYGUeKe1tDSVS8X9aIBrBtdozZQYUmCxrCQiiuhAG3rYW7h3SASa98I1QAAAElBnoVFESwr/wuyf0HoW5Dx5JyIZSH0AVvQC053MQRTRW4eJ5DAOfOjOFj7v1pjK0X1PoAS2uEJoYS/r1NNHe0LX+U/PJo4AH+BAAAAMAGepHRCfw3g6R98zjkz+wmdmd70cAIbOyuIBQU9xIuVRK0SAB0Fe6EkYz+cjmWDpwAAADYBnqZqQn8N+f/SBR4Zo2cmwBaAjMmgUz2k8K4sjFZeev//QAlrwd9B9plAiHaCVl7POWyeAQ8AAAEgQZqqSahBbJlMCG///qePQBsxr73NyAFXTtBgNoUO4TQgg/RhkCEXXq2yAtpq8ZE9ZQx47ZL7Hti4lKkDyfEkgiS7dXj17iohHH1yDeEnsMo+gQlXEXJhpMl5l+413Eurx4ZPWLh6m0AAAAMAABFtAgBu6FDkWlq64RBcX3ADW+adVPwDG4qu++7WpVtxIntPFIjaaBBhihogEFHLKCd6YglsMMNkAIEF6Vdmxxiq5F1q/t/4ze6onTxLCBGAsXZjGGxwA0gUj0Zt3FMO8XQhao64tU6w9Yk5k7+Yii2MUg1sAd6ZxfihbzbmEmuddT+qn2eyNtQLcItQve5Q9d1G27jVGHvpkrSS5g28HqcBII/mBtdTEwhX4MNqARsylChgAAAATUGeyEUVLCv/C/JU6ywAAOF1Uyf/9cwupBiZuk50feCVWb/Ya9evDY9LWH6wANNEkGT59FfOwSTGeDmhrUKOLFgfBqNHAE/1e+vuaQMqAAAAMQGe6WpCfw2kwQr2DT5GIGlVrySyqcClXqrGW1zGbH98ABvX6pxzh2HwATyqYALSpWEAAAEtQZruSahBbJlMCG///qeWZADkWEXACE7nTuZhLBhY2izTZlN+ajolaBnWkvbSBL/iKdkT4t8PHMyABovxvikUDOcYELTNmJF3zSUZlM/H13X0gvU9PdvhiG5HBbP8x1M4MQ1Vwa0Z4r2TTdyl5zv60cVgYKFHVHImo1/Zee+cHe1EoVu+AAADAABLMo5PRSnf/B7C4piWze1Veew5E85qI2Bl1hSwZeNBCMyWiXTCotcDHpDO1Hisd/oaGLQdQjImLRuQ/owK6xEKKQ/A/5yCVgvjkFn7e7apmIubEk0rEvaqAYA6eGXNFIj1VSvsorFAV+CcGXINdzKbSOnsY4VgwiH3BkFBf2+uJo3ec/CnT/Zzt4LdMT4bhKjQiGza6RiOrqvgSEOkv8ludDgCpgAAAGFBnwxFFSwr/w9rSIAJSWtfiPx3vs3YOPXBPeBjSWKpG3YhKYk187WaYpShSqlDuw2iYzO/qrvRSkeHEiRBqNHR//9hNYYQYTtQXvQArGPKVmxvukhjoRokLDnZsrdpCwHdAAAAMQGfK3RCfxGsbYAZUo1G2toi6J2A8culbXvfSPBFqiZh0RDE7TUrYeEAANSL/QRIBlUAAABdAZ8takJ/Eqj4gERVJQuQtMvJJ3XWwEHQuBmdD2GtoJz9rfUzM1izz+JKp1b1owG6gUgAM7g4lkem9v7/wJ+2X7NW76lQgAux72eUuFoW9JzYmn0xxAbUJ5BAgCNhAAABYkGbMkmoQWyZTAhv//6oNHvSAGvSJbmX5+oyGGT92L+FTbpR9ah3H6ToF7X2EMbgRhVBxYSbJHkCq7ZSz3U8zRJxFRsBQzX/PtN7arMt7x++hztHCy3TVOjxj1GnYVxxE/KxTWFHmKXYEFJ3EMMt7s2IwUZsb3R9Bg/oROp/AhubszLQE5YgGnDMt2yJraGTyb5xrAAAAwAY/Skg4L5JY1g3cyPwpSKiiHsR0j3pG4v2fB/z2Cr//4mtakWyo5uInatq2YoVmlhFB4rkJom7VMsSgM/uTievE785nvy6+zCvkyMGilpGhKo/3U6xX9PXv84pYY/mpdLIVZ7vo6/ivivuOkAhq6IMmKCv+/TPMlLc+inVUjX/c5lwrRheTnG9noK9cUI79TXwmKCxiEcIxCLewsnY5SkX+7LN8Oh88xvv0Eza0+eR1peaNzeB/wUtSN7QrX5nFSiV2m+MdPrE6RMUOwAAAHBBn1BFFSwr/xdBlghxAFI3X+85P0TtqcL2p0lLxp3rCu9kxPAAMgX4Yf8XudM9eR+DyV6Ztlf2s23qnGanD8NQ7Jed9P/GeOTUYKoodKbkb825EpBjsUXyTwqKowDW2PpivwBcG8bPhN0qa0nU/A7oAAAAYAGfb3RCfxRIZL4ABVs35rtZXS5D2bq4Dlbew0a4TCzU1FcCxhHKy32Htlm4eucg3/CxeFzvrLt+NCyg6l9KUH/zfOYn276XhRga0+T523DS8PGYQANe7EkHEwyHgTQZ8AAAAH4Bn3FqQn8bXI3A4ADNcYjeARf+Aqv0/RFyeCUApXl54GtwaTeSojf8vzvTMW0FQtoJ1dDrwoK8hkt2QWdZv+QowpUiv32tTC+Nxv1XQQAwTP5WYfl1eeowe19dUAspUOUgwSFCpTzRg7gDOkJpevIAO1Fq41AdNC2Q2viABB0AAAELQZt1SahBbJlMCG///qkeg+E4QIwAluSLjSlHGNffjRTYc2s2kFVCMiJaVPg6dNarH4u94yva9v7rhgMNF1fQNX3dC9BQoSA14ZWx3TLd9+wj55l86+iINU77sxqMIdp7iwngKOhGPQjz4a+IjJgP0Ba8DpQA61D3vsTR9Y1l6TGERdEubFY5Hu15mvwDTomDGoBvGegjFIIVYWdfMSkJcryZ1ijM02jt6EQKpoJRxRJLr21y1NntxabTzCaB90Y2hEsLp+NepoVkI25Z+ttnkK2Eb52E04DRMtAEYc1djPs3KbNBafuaoe1HdZhNXPfJ/6BqAHGNZNWpiNJ6KvjBmNkceW9Aikg7AApoAAAAekGfk0UVLCv/G3lpsjXuDSb5gByJyk4DpECpYX4ulcKWT0FAAhICepsqTg6BBiKsHFBYDSRwhMgBC3RS3q4q8sRtVgqcH53T/ovVgS74PTf3VVcZM84xx/s/g/uD+YHtRPhRSqTMnAqbmjzrEqw7ZquX1nrBbQ2AAAOmAAAAUAGftGpCfyA9HFpEAOkcZxcIO7ys4N1uq9baaKvOuuMzu91MJttKnaouOdyf/Ixj8QgFESt8O1W/MZUtsOJov6n7g4hH3MU0sNtkUhgAAD0hAAAAykGbt0moQWyZTBRMN//+qOT5LK1DbqoIYgAzlmaEsMPgBZXA+Tr0coUFr5rQTVUYCr0U77+QaNA53xtL1s8FM+LxWPTUlU5NMco1vwNiGy6qideAI8432jhEvNOsEHtTzNu0u8rH0iJzpX2S+9Jai1SuyFQYOZU2tSXyz+EhinRbpJ3ZYM3cSIXbTiorr3CpVhEapRUvyQAUj/l3Sx4+2tR4Enx3wEM3dH0ijkbcQtH89AkTbcZfLcJOgfY+fpMoRMSaj/0nWJuoekAAAABUAZ/WakJ/IGE340W+K4rQAqFJKRjPjRxnf7uS3ISb9WR8eZijso2TkUXk2+WGuMLWVS9sLi2QVlbKWuYZXUIZFUhn1Rqyjg0insJAE94LoMFL4ImBAAAA7UGb2knhClJlMCG//qeEA5M19z2VLf/8BY7X+9xDnYnuUOJ1Ot7cAJpkjKZtMKfC9LQyHxEIwJCClxdgaweMOX7bJ0n8FQR/PmXfhzHtaTji4Q2uGxaBdgHJiOzRLtuti6ckplKN0tHUWneq0O2noptys8+MDFer4Qrf7UTJ2QXL1m//MuBh+9dGccBbMIptli9ET2vjvst2pqzS5W7xUfvyG0km150YXhkwGS4FFcUHpAuk9xRDHL0RXSyfO7x5Y4HwCNW4LRtMmjloeicqEkuzUIPSecFJ3WaP/ObCFYCeWj5+VLTOuGg6DlVnwQAAAF1Bn/hFNEwr/wHGFp4AWskYG3SVZ/bE0xtDv5no9i9H3KJGGaFq1c1hw+DDeuxUZf7FMTIcexb7xoWE1uDBpndruWaV46qDrVxDyWq6y1cIJ51R23S18B43cKaetgQAAABjAZ4ZakJ/AkkRjc7yorbYO30oABVPvJz5F/GP4ti9GyZyOJEb5g6VGZkC8dIxr3ONioyEa0PGlsm/NnO3l27Oy1cwkoXbsrG3zIqM4qvC45thZmUXIZ215GlQVOFwBmF7+gYNAAAA/UGaHEmoQWiZTBTw3/6nhAC0yReGzzOgv9uIBZCaxsvyDVg5QVy3D9IuARaRzaq4DL+YsMnDJGtOfeWqfUiwCYi12YjtLVqdhlxn5Hpy0ed63Xvy9AQ1riRvd27zP+nCPw6oO3ne+FM5LR1n8Nh5ssT/FMJG9dLqcBt5lU9Di5+4JIbT2vi9mRPW48/BfrOjNQl1c6jHTYnDWtpk+lq+Eu8pOpTJt5oJ2wZxqEKL3pY9piF7j6lrCi30IL9T4SPNe4qsRbIygWz+O3kXxBL7vKLNawjTKuj+ZALUyyH3jYEOZXLUic8q2TuKX4J/vvzLEJZRI5yigHccaFWwGVAAAAB5AZ47akJ/Afq9430v7uoeP5+okoipdKY+seTuSdrEpZ/XJKDlZLTfgjAC4rHW+xOTY3A8fibSOOy3ntC1fhGljlBkK6+8euZbcW6r0eqs1Zug67Uq5RaI/TkC+6SchOvgPg/B3gEegiJYGnGl68U5TB/r/Vi4ynfKkQAAAeNBmj9J4QpSZTAhv/6nhAC0+ik1NY+IbGht90GQHWmGwwg5MQjPGl+DvosaTn9UVl8qMXeXt+7l3I/DPnjEHxyjj8jdVbi4yp7Ut2JOJ9+NkcxGyfDY7KpVvR6HMmo0y50VHCwvZNHGB2seRF9T/8mjm//UTRxOkPsK4tU6snNqcEOV0k3AX8cfheHYnRWBneNaftuPIbG+OTyo6Tu4jh9Zx0Ig2CDBh/zxnEpxD6F3qO6qWTrzvs4ZdVa4Gz6d/c90Maja55DeTyR8PuJITt1Pvp3XDHUt1knHnOkFqSL9KYVupdM2CP3RJdhhI4gqUirMSuZoKfyuchqXXRMgHMgsTfWm4lbUvJ+JYOGZhponmGgcMMiescNqqx9RmFGFr3vXtqcVNuUK6XJjzHlrj4aDPNpd4bsvXR9KgeMKI0tmtOud0HYToCrCVgyO3srQEmhiJ6p1LBGT15HJBDFhMd9/f7gQu3SxsAVvHLqWo2f80E179xusvg6CE1jfFsraRNEHEylKwcpIWncl9OhN3r7zN9dPgth8+TeikMdPnetVmSn2UQP77qyW1eYtSVuk8EDFCLUjuy4WGiXTNikETAqG4xdc2CUqJE5QuLNOCFyJ+anNne7XSd5FXlAAXV4FSwcAHpEAAACaQZ5dRTRMK/8Bk5MMw5v9CxzQoAajclxFR9YcoVoRwEmGVLpqhjrqLaFNTQU/hvQ8aAEH9NO4tDZuyUhSVFPtMalxVe6yFI+mxsV0XAYZPFe8+Xlw2YXeMpFNgHpRLo4rL1yVhyuZrvOdbpYVDz7laTPq491s4S0KY8qibCYNheuI0zKQMUkKnRw4/UQPXMNWRCep3+6foCAEjAAAALABnn5qQn8B+njMfVq1+gv0NLmbdSRex5qx7iAG7qxetFBsyInaeHwswvsu4ZU8mg1MvaKtKzC4pVAibKoRUN+FVQ1Sqm/YfEd/FGxi5CE8GmEajXczJ8jirCpKFavGrQfqRcEYWN3HcVzlNTp8gSSVEq0zoKauGpxydhnO0UzeqyC4YHQp+4uynF4Q/iSPYl32mM/vrm+846v+upTdy9fWg/CO/fl409dCDvNwoACDgAAAASlBmmJJqEFomUwIb//+p4QARUcmhdMkAXGp4U4zP9nH5A9rbEZEVyPuTnoZnXAbx26X5DfV6APaliLxM/qZuuwrAbHZRguFQSLNMJoBpJF0HPY7gReD+5STHgqDc5iZZdJUZw3+wruUkTD4diOTiRtJvx5Uy5Hq2KEo3UXogJ3GFcPFENpWF3zioc96Yjp9D4CwJDvOND8bUTAZNjqaQ/8/NIWFGcuxSVivWqxtebvlDWq78j6LDvg0iGvb6vjZP7tPRV3wsc2AGfqsrQhu3uAxbsiCOMR74mZSO5lrpIVNwwX335h2OoW4cwF45sadNfdtOAoQi2hjBwo4Fwema2YeBtNHhtLKKkOaC5wjVuApaguXfeOD3zQHBPQtCp6BJ9i6BstGoMAuBTUAAAD2QZ6ARREsK/8Bk7DJn16jzwBW60GJn1F1xcrfpi3tLA8ff9cpP6TiESRGTqC3S4RbVEX1Jve5MggSvs4GfpF6IAtP4s9Y4iVXZrUQfZkkr4t9T+Nuq6WTor9f8mHCgP06wINAk/rFRQxr+2yEhLod64jaJ8hXbrL7KAQTr5HoNNnWtswJpU+6RilsSEPDhxgqUWymhvvKh+hT/Mb8Zx6SOaZ93Y4K/lRzuiBnNlPZGV7wwntaIvcig/Rfin2TrKQKNWqO5ueIw+P/176N92VlFktqu0F0Idk3yCk/MA8D25pEwefxBJHQZcVuJNH+6j5xcEtQAAW0AAAAtQGeoWpCfwH6eMx/NJXMXqO28PSLhBo1vEgAV9PP8UQAS+B2fkZdjr61abUOLTRWTXrW06Gtegqtni+Oa9OmUyrqV3hwTPHgpzCUDRH9SVUqtQ+y10XEoYv7VW/Tl2FVb/gfbKXTCViZbqyQ54Pj54lva6FSAsUwMN3D1Ogz7zzoTINBKLu+fOc4//3tmz6c3U0mdhJrqurrdp4xwpKQxh2spgjVnWxcEkjIT6iW58Ij1pUABhUAAAEqQZqmSahBbJlMCG///qeEAEW6b2jm8oe3tClG8zrrOABdVyCAfcQcuko7VgTzf4fdYkQ6V4SzeFnJ7S0NzecsrZUCgYdrPcN3PhaUWrG9QrRoLg2cbmXpPO1RnirBHJ9tEdALJOfWgj91YTADepShI5yTPf6s/Agr3QGmBm57/SzEca27fGGdrnpiIjO15/cTD/OwV3vZn0PSAL3kP3Cyx8xdgGeXiwO4i7Gs/5zgP/QpTwFh78hJKZBr58hR7ja2HDlLHknpYNe8G8hCUVXFGG6pXUemXgaqw4m3Olc9uFdEIvTys9GHTLxAfTi1QjNQLNbrqX7K2jR9nOJRLID2YdYqz5GsBMhLDLbP2qhooym1Ve4YDWYc0yaWtgZ+LzX1VUHr/GnMvQAD8gAAAMxBnsRFFSwr/wGTsMmlT0g/17NDA8S4B/+rzAEJJZvIGabfAAmGLm3SOPL+okOz7eSNk7BsDsuonYz/s/LGDsEg/Tryda6k4WZWYBoaQNMTiiE73D0An33MAbSGgoyAux2124JgawGv2eZOAbFFzetUHtrzWKavW0UZcm5ga8mdJM7MHcp/iRsPo3DLx/kHP+UxAPQlBHem919G+4Kqu4arnsBdW/cBPXLFEbyt+Q18ftg3ZTZMBhrZPz5S5xZta6m7iAbZ1y3dMgKACDkAAAC9AZ7jdEJ/AfnZdSTTzq610anFIfIKK1O+AAisHIPypbO+FDJ/jaA3xoRWtnl64P3k+LEpQD5HcBzZrDQ8iPLZSXjJx0A56O9kAEQATNNRSL92SnFKzWx1MtADCkYm4ETanzI32znFtm2Ouj9uabyOb5gzMNBM6tG1ZDtkzHuN400gjyq+H7B5oXYV7CCm+aDovOZ8YFhIN548SWiz6MELzDj6NHw6YL0WWjbavTX0557G/AHr6/AYltSgAB8xAAAAyAGe5WpCfwH6eL1rfTe5ixwBVsd6eSQNBts4xTaJ1nayGQ7impy2ZwW8nOIVzTGHpt5/2ChWECutbwPwT2ND8wPZeVCQDaTEKQfwBHxxNDmpZkfLaM5uP8MHolpE7e/V49/0YtH8z1U+yJtV22UwPfMuRjfcr1MF5Q6c21evkcPBJoqTZuFp+s6pzdlwwPm2nmf71PUzr5nHZ4pC7qmHXYMWZ3PmZy2UpHBF1mR+ostKOELauwAMScToGj+QhZ5v5JAZ0CHIqgFTAAABHUGa6kmoQWyZTAhv//6nhAA43sp+C5kvg6eImkAR1+SR/+Uj4likXFb5UZENRCx/yjuKeFe2ecDI8YybopwCHyR67LJ9gmmmH/J/daET2Sthq3ZI9XXKObofMw4X47Jh1QXjOwzEZdGZTuwQV7YmlS1IfMYRADggRk5brTgb/pPHpdzfJ9Orf0woqEyP18Kzmpg5fEFfOHkz6qUU0BIqyYshgutyK+sjzVXI+QghFhe3MnqscCCzamKWOauhKNi8/hXebXpbblyKMgIwgq+RIvPnIPobXEjwabqJAOJqSlrx52KIydeDASFl2eYMGJE6UxQgkxQ56iuVykpIWFXHPCbk7YQy8oGEG8aVBxXVx+DbVvtikTaXUMorVgDAgQAAAM9BnwhFFSwr/wGTsMlQ/JaIjMHHDIGAZ5Rm9bdLgiTqmAFs83x+GH+Is/QfdXKJD6IAGr/uAcjw7mIX+IsYUafvdXpaxWrobWbtJ/EoTiCxWcAGlmAMI1D56QyE0K4Vr6Htm1fRSEpVPmdYuc3LGvW6UhD8pBM6UGvRjbXjgDl42QInKVo5yPs2sfzOvMg42MQzTdF9yWZoHvR2WhgTzmWK0vvpxAdOHhMjDctoI1eOpmRdundmD4s8fc6O3QVW6LfyqrEv9sNZ82etYC+AK2AAAADYAZ8ndEJ/AfnZcoa2htgRWyvxOqgA/Ij4Clko7ihEl3P1TZ3PSqQyhW25JfqgGnuPJkJ8emqbA9TPZ57ppjzVpZ0unIOt3UqQ3uJ++eeAlHvS2yXKrg9mWTlHiDYVbThnV0zjJqjCiyCZU+Hj1YvEgORxyUdSRXvkQ1/26kqDIzX7u3GvVDbOvQ4f14ZOofLSveCNMZ8SwXjCMhQeFsneu6QM7QS44PerprPRS7LbFmEmXoHyldUfJue9HX/XXJlnXyvkyvH1hU/NK+4CVyy3pTze/yWaQBlQAAAA9AGfKWpCfwH6eLd+zMUu5+tjCMaEv2gAnfx8Oh7e8HNhlH3UEYo/peGC3b5eYiFz+idYFgH4PTIvkWzXM4/5XAqJcgEdp9sXAONHIiokgjUWI8xKyYywjGqQo5O1/+1qzWg7xS8Hzv60ORm9ZxEMfoTAWU/JZDc79NtcOR0u6AK5s3aDOvKiDiwC7GFaLZgz+5W70c951sWcljblv4yotkrxLwO9BkakgaSR1qM+E8KCYVIQyCWK0TJaZyU7fzB5viy302kUJnL2s36I+ASPfy7bDgwIrsQPEbW7UWLrD3t8fDq2QPBG+l66HL0rzQYwONUQgbMAAAEgQZsuSahBbJlMCG///qeEABp+Ezp8uzc/PtC7x1Daaob0n+lZR+LVDVAxbMnjiiGF0MgqqQTvigFpWFxLUUXmuVlD/nhLtFWT9vZf3e+hIR5zfyZQwP4y+6ZxTh0p/Td7v3du1DwXMouWkN8jxQeGCqyIdgZvfb9DrCNK1Mz6B2MChL0YGNst/dDy2iNzG+yBR+Y48+FzSIIPTV8L4FkroAIoaQNOMAo0Me33EUzRl84RJ0bydQZSZu7jF77RB9bZdgA+avcOyZ5noNL844WvL+cMD9BuMhRumstSDaxSP5/LsFIw/fE3n6y7ZtV5hYH17wZenUiGjD09PEqbYw8RhFl8kZyeoTQjU09qkyyoNsNOJyvca+adtGge0u/5tAY0AAAAu0GfTEUVLCv/AZOwyHog+xT9hL5oux6o8x4YAEqAjPIOB0lUU4jRp8mqHytg48j0IjXQ4F75VGE0sJgYXSgXJgjcpsHjQxAp5LTVKn1erGagADqZDzJnn2/eClre9hIKm6fimC2+victViv8Xp/lvH1YDughgGgdfAGQyPTypNFgS/wKP2NnU+os1+Fo5ymdSssSMQsY79mxzxe16NbnT9Y8/dfFN4DCeyqPiTkWDQjn3QIpFMQ27peAqoAAAADjAZ9rdEJ/AfnZa9AbQoYrpo23GhAYfSseWcpOdABNM5xh7oKV5owZm9ZglvPmQIuukC66Va4vE4V8VUYWqeECNiCJqfygjzxtBKUXpO+vfLskcIDgedhCVGuldVqfRdTAtH4UnF+PirYxlYnzFQc20Dbtk8rg4pIpXQgWtuAbgK9F05exaCaVEI2yqxFBZU7mL3z4FrwguGhvKeZ2VV8Kz1j2QD7GuMc6Diq2ax1mBD60pjoKry1MuT5IIZ47escy0MB1SePkYhiZVRLYhE4T71sIpnPHRijv9bKmwwa10anOiHkAAACvAZ9takJ/Afp4tWIgXhA2HYD2PgtS7p3AEOjDWG6YONM6PYPrARG1luUbXMMkaBW8NXrsUoerLMM22PRRVtr3z82m9i7NztWn1aWUQupJV/33bQtrkC1R0qzCmRiBxhy94Vy0+LReg+DHarXQby7WqedwY6P68V/NVocspSkvcomuqrsThvIcexxTRHZQxZKcD/cY7DYeMrxLfCKm576hSTng5kuQz09VWFadE8gDawAAATdBm3JJqEFsmUwIb//+p4QACkcy7RzeUOpn09jH2FfV3YBACtTSdz30Gamu6dyQk7xwS3eDfo3kvwZemv2ueWVhKQXWTBlszPUAB1kOVNk3spNwmjBkd/oj9qOHWXx+sTpZ4/KXFdYAdhLf5Z00vNSHGKoFTHyHHGRaQWNdqLQ9P+8kYZbEMEleilygCSYLPA3t2HRPtLqSK8jvzj3smMIDspdkjTwW6apzU9r9zg+sQAFlYaukx8QsrAAbtXWJxT6AC3JVn1Mf2i8z5veycDxFPPu3hRrky91+w4hYy/wrb+XVTyk4L8Tyuozoq6bfUaWvDS8irAMojt3E+ZYsvM055rV9F+SE2yNgBdJfKA2v7+ijn1iaGmQenFlbJJNkZQVVEIGRIvaO8d5GvVmtxZyERR/96cgccQAAAOlBn5BFFSwr/wGTsMgFeZd7DCC9wyvLGOwb/VBWZEv2GX/2EAoOTzI9fTuSdC7qkaTLJC/UPR7K8ZlPaHgxK2ajgujeC4A6bVJbVED7+hGNWsPg7g4uWGRLmared3szgR+cwLsGcAg+KPQ7Z5iRrs6egkshRGrE5a/LZmj+FIBkeoqfCiKReLNGG/oVbECILr38e9PkAXOjJKfgrq2jaCPmsXMkf1QM5ea4aQVMdmnjsqc6RlHZz3mJAy2YiO/Od4INZuIqi4KpiUlfC5aQ9blV8eUAQynfE16CkiKzprX+xbkjCtrpYABLwAAAALkBn690Qn8B+dloI7URLBezFf4HMcHZc1tk9yCmv7AC3BAsBuKcxNJ6lTsxI9qeFLtxF5z48B9pXWulp7aFHlgwutCHJAqQ6PJrmaVrn2BFjEI7PNyvHwXvMWrNp49v2l3oORZYTkIgM9umwUfHjcQJJ45Wctp0j7gbGAd1xeI+I4lr3jegWmZ5cLHQ1HRBNlocWaALMPd/k9crJy0B6aZFsKBYgNkDymhiYZMlTaWUynCzn72pvtMCDgAAAMUBn7FqQn8B+ni1WQrRLR6i7xWCOofIM+XniSAhz4JEsX7EhABxsmOmu7+5bMUwyhrJpMwiqMO1Y9hV08O2TEJuJe/nSv1qLAG55ZhuGxn620cxyzFU9HDbUE85rKoJLH9cynHB/txWlX6E5xt+YWcouM8JUH/fpDjkyyH/0rtw7DMxmmsklKgtE/oQLV/5tOUD3r2QvXYdtCTX8qKSGkzsrd6SN3EkyWjnuBM6oXOZJ8YvUItQgyblqLOvQDPK5ghHMQsBVQAAAQtBm7ZJqEFsmUwIb//+p4QAA8oIOnibkAX6e398b/wk/+xZsisupJQlO8ijRm+MuOh0ievJ3GCcD42A8ia9yP/grNBPb1YzTMLk3QZWRAzRkqGa5EzVPxi6R0lu+MVfGW/ZbvViz0d35tGC9gtlt8/TnQ9tVKrjHDSr3N83ssJ3e3iNYXYIDizyeHnQPSYzCAynThzyFUo8RK9Cp59+PX5hvtGOlmCy8z2PH/xfb0yj00SO38NJPGcsUb3yH9BrkIFDW7GEIkMRNoHwiD8X80p8f0gyHH2bgS/0Z/mm1kVN1Ylmeb2UwRC5bJ2Deuhgo+R6v7aIkgm+TcG6Al+8IUZ52ZOPQPhvsgmQm4AAAAC9QZ/URRUsK/8Bk7DH2uyZio9yQWvaYf9OXTTJByN517pl6pL5T4S0erAZ/dSkqfo89Z5idVsuugY51FbxKXhJNPeh1xT8YeJiESvupI/+1358mP2VLQuXSAatoNZGPif5zcVTzSVl3n7Y28UdFuNhxBTDbp/d4my6pBC02yHBOdYdvjMfM6J/DS4hiF8A/IivwQ7jExT7gsVHs0kNkEvDGkJDRzuFcT9Ip7Ma9z5Lnz6et4AnDRgP56BFrAWUAAAApwGf83RCfwH52WbYT+0tLAYKAACcQ8SLZPIDPqMsHeyd8LAxAYdPNnD6IaG2SMuodbJ3jr7Y5zAyRu/lq6loQ6hPSpgh4FWhYL5mQOegHufq/KKyvF3kaN00VAHeHeWXO32cidFafaH5tQwZTgkEU7LdNF3hT1hDEkN1X5zHcY3/puqz4mXAsro9QopXSYgUbIAnGYAn9GLHsg1y7+TkjfAUWH7k3EGLAAAAgAGf9WpCfwH6eLSCq5vJSguabxX4kXg05gElY8o5LT3e92+wA6RD5NF2g4QduQmQW/Qi+yLAfMBX5DepP4lXFaFgH2unWHE+WQ7RTCtgXxCWd0jB36KKVClq1xIBXC9v7oQAKKujFZAFe1zOx5zF41w/ZIdDZzQOaGX4pUAppWE3AAABAkGb+kmoQWyZTAhv//6nhAADz8JuxXeOTce7Ll7kgAC6rcHGbqxa6G2Vus63h1Po0SV2lpBaP3PUeBuA29ih1rJMM6xSVbgSwvLGWze1GAuVrLB84Q3tJ4ZZhVtnV+/Y6ul1ANFF92//+UlumjvJv3BjEEDehLpd4aDiTeBJqdLeej+w31tDakMfMoQAKGphODF2JcifaqMcxThK1duwsciuMvKKmuqZCW2wZ4/ZzHUw/hIuCi3gJv4dIXFy6XJdC/KIxcVAG1rm5iUWD/+gSFNLrocvfoiIAPxY3yzJEyYysH0eBUyN5QVXeNyXY213hggXpLAQ8KJvd2eQujSH3vKCtwAAAJNBnhhFFSwr/wGTsMfa/8jqftMcNDqqZhhqnQLDiLJXzQPJyIWoqi4AAEkUKKYazFTVDyK71/xo9VUYYwUWl6m91tDvB9cKNdUq/2MsmlUXrk8HRmhqLawQ04xprU6heuGZjKRwiaXtELFjR9mQg8RJf0tAJEX6QNi/pWCfMWWJDPnPHZJ9TqGn1QiPt1cqAeAwCbkAAACQAZ43dEJ/AfnZZtgbP8te9zn6B8V5ZzmAB+5zUNmof2akWUf/YL7ud1oq64Y114WX3rY3mhhseM5XLODzoS5YOkSnz1Az9pBW0Zt9lqPY3ntVrEfloks6fDjtpgysm7oqtsiPgZatpItf4v1nZd6Hi6nrBAeYx0JIZoFvjz0PFh/ialQEVX6TMir3NbnKxgYsAAAAxgGeOWpCfwH6eLQxmieCKTqpV6uJm5umSrNgcvPn0Zv/kCACdWW9NT44rFhFA0jDeui+e3H0IHThdhCSVYFEDwdMWeBsneBCGb8njxegf2qyo4Ac9/ECB1m77G+jQq0zUSInQz82cDOz0H39WG74ICxef1+wv8IIu22gtMeo2ZwG8z3ofU7tk3mVwj451asyy41tTl/jmfiDTtFmCJQtoKXiyj0+PN/FSBAnyummu58hX3+O21T7T9peNnBLY7pQ530bD2wccQAAAO9Bmj5JqEFsmUwIb//+p4QAAXP/+WG32QDTA3qm6KUVTizjXbM5D2v8ipSPv67CKBURLQTeiNr5ZKo1ewB1VfmdSijG8mvXUtDJFMEHgXO2oBkLks4jdncJk/p1YsbzQOXZ18UsgD9KNcjDSXgB6md4lPISPj1lv1WcAuFAiEgnGh7+zSMTwnZsIUWEI6y5dtqkmlZqyyVXveND/nyZluTeYj1v0pMx3kdvK5Ec4Py2p7ROeTH9C5DK9gWYBx9UaDJqHSdNbCTGCgE42RF0QFlFzIOJbBOPv+G1/Rx90mp28PyWim1ooz2JrW7STlpUkAAAALtBnlxFFSwr/wGTsMfKOXJpXnQLMEwl6av5coK29XFtR/KlBmC+CfkQ+KXf58TDHxUtyaA41jgu+OYBB+pbgMQDnuyeTjhPi+1gZqzTeIiY7JdvH0U0MNxtCxFMY9W2DsTVWiuqviCuRJl5ikQ8G2mlhTqZq1LuN7l+xWP+BJZluFs3nlGAnxM8qnARrqDEBse87RcI9DQq7F3N7gXGupjxN7S78aRDpAL7sD7Wrb1YRoy3gFdQZc07pTKhAAAAjAGee3RCfwH52WZR7jBiSyNLne6VvG15+8+ZUPYoAHzmiyxDxL2qZJ4Im/H/y5iz9Ko0UVU+37ZXcAS0sy+NR1xG+cXayjqfe5Oz9d4SB0OIe+H+LVyHtZAs0M8AnBQawTWxMS0d/hoFrnv4azDxm4R1Y+WPbHM8SEEPFnInueUu+0LD9ISk32YopBBxAAAAvgGefWpCfwH6eLQyWKh5uW4vT2/GUdp9dGuWjaARABOpaHb1Z5540Cps8xGD3XHHqdiCijD7JQWVb89lyL75cz9wla8Mt5tk5C7EW5dnNulSFjQeBSuwT3ZJiXp6CNxpG1i5+2oGBCm0XprR6sXnS7lKjsXWhEnZ9msZzc0pjrCe11ESrtAqomd3wXplROUK336rk4INc/jMFYyZdOZ30/7A4zBVDpCDa6lZEEy9tzl9VJ+D/RDFQHHGyxxefcAAAAEKQZpiSahBbJlMCG///qeEAAF15l2mCeQVWHhFjtGH8Tr75Nd8AQwdGyISoh+SH+BF/OK9gLWcGXdlKA8AYJFw2NDR7FDULGt2kK0HMnq/mw2m+flDz4jPNT7cjwjoDlXWRqhdxaWPzjPK4tv60S8JyNZuDPoP7ZjyYVGnuiWX25Dnvrtzbp8jUVZnjq5OQRVg+0YIp5AJ56/pkRJYTljytAxLpeigyl7mGL+b2SLck1tg/bDR+aA2V0XHB2vm2amLMRqmeplXxdvbNl9p3+pap6zlKVgy1ur4pt3VpQDDwqTKZbU2LFdXMkCEQCLyBXfy+vqpBstm+lYjfUAL2VfZDQfXMCOl+yUn0PAAAACgQZ6ARRUsK/8Bk7DHyjoP00VhjOpzdsmLuHwaXPCMSDRwAjwM0SQBJgfVsuMThutdpj8DcXENn0GBA4HvLl55TAyME5XtxdEDw86lAVr6S7Y1qjd8eJ80g/2cqK0teDczmkYR4h3FDmEfIQGSLjOdn9/9yk5EuBhL/Lhl97BQlWr19anI9gYNcTVlFs8HmsrLO0SVnfTLB/1enZd6NrgjYQAAAJYBnr90Qn8B+dlmUcG0vtcFKl1IAPY/ap1oDw04fmeAE3Osg9iYgQlL2b3TRV9qTSDsETGJ3liEAOy+pRCw6G/cZfE994lfl6xDvzImyAMsEl7gZkrCGLWtb/fhqC1HpR/WPAxVacuzuLo0QxylBoWK1+eIKfsgckFAuNMA3GHcfWSmCD7q9+7hrCq2P6mRIZ1W3tvkKmAAAACUAZ6hakJ/Afp4tCs0iCnIB3fChqlzHUmOzIJXKNsAAtHIZ0wAhgnRcQ4xp+hzSBYwRAE9MJADOkBIs7XBkHAdLm4WnHBzSz4IJ04VcE0zDLi5Fax8ihOeRvzVp+0TnrGB+5N5u5Y2c1pUANl9KUTpqrkZMh6QCW+RAZwVrYY1E9aSin1fOcneS3yNQbXaJELhYpwC7wAAATJBmqZJqEFsmUwIb//+p4QAAIt/dIhvDDCyfLeT3c+5M9x3w/hMXS5nVD1AYlrQjWr/I7mEK03xhPjgaqdD/glj8/VVG+9Yq31PskYKMWfbDRbIAa4WaNGSW3MCbrvnMu2FMBr8dYTCFLIr5/AKvJ0fq9t/yPPqPpvfDRlS4Sts0ffNruE+ajh3n6g++L9IJ36C4dGQ+8natcMp47TulXI2KvFj0A7OrYcU2HiHuAkbaGsoCoTQC5zNfA6hPH5j/tEOljRTQgD3i2jXjLOQ/ZvYYtVTcvQ5xq8l5Iu7cgwp8yJbYZLtIoXwq99Dt2Y9/JPLZG3Bb8n/uguT6/Hlv1Kd/TUU+6vrFerRHoj2FUE5afMrlcZ7Fkzhx4fHevcpIoy8lSwXlPi30oZGOMGVXTzg1IAAAACvQZ7ERRUsK/8Bk7DHyLCRBHkvTpGuRPaL8iglNR3ZEcEgBsYHCTE69bBzsE3b0V+dr9Kc8Buk0Bc52nrGqwMSMUl7W3Y4Vm+7TdU3ia97YS9nMoaNEMbD1EwChuWWDfw4cKcuDBQh7C3XBEj3rpbMOzxPk+iGUn5RWOEzTHXoi4JZjdCD5cB+bxEbgemYWtMgCQA2ZzU0aLzQbrB1fOgmzN8P80y6oOgkUttXOwAj4QAAAGgBnuN0Qn8B+dlmRVJvWgdgxw7nY+zoE5TC9V/0grjmOtEMhe4buyg09pAg8b4ASyV28Cu0OtF2ot+Y6YdnDUlZ+hr+y+bwC2PLVuhvj8wZ1yWETK47gKQIklSEVzyGMv+QaD2a/5cEHQAAAJoBnuVqQn8B+ni0KzSISPo3CoNiTEm/VRqYTKOFxjlzMcy/0JrjiVaqAlmEniVHO8QAXUQ+bNlmj763WVWCRkG8EgyA9V+eTO2Uyn4kUd8lSaIyLJUXVsZhMSHKTzS413eVIanYjEvaNZjZCKy2C81OdcjoG9lo9qaqH/RdVq4BbgjHA7HmYOJHa8GYDGRLEr5YbGym1u7iDHzBAAABMEGa6kmoQWyZTAhv//6nhAAANzM+MgAH95BpakaIqH6Cbm4pvEGhszoI51ETLAAA35hRAA6S24sm06uYfRCnyZYJJp9NyS3WMfBYFrMAnFmsLscj+jic7LLpXtlsWAmv6AZr/5xQkwnUYk7rdVNl8U0ZnJsyJsHRRSmkj7r13vPnf99lLUJ7U5wWd6JFjft1LyT4IBGM+BF3XcMqtaYB3qwqc2mbfm1T3aercXevHmprImO5Y1Wy4zyBc6rkRf9uxsdbZ+Maccj/tJYwauAalAe/zt/t5Bdipu05Lw1Mapp+7Bbcxy8CoB+QpG3OXfYxGquhP2QtVWH3cLs/Adj2Tr4zgPVdHVWggRRXHQCWSyCnbGzMSujzOaYKp5pDBsKAhL+IIR39a80/rfh75dkDX+EAAADRQZ8IRRUsK/8Bk7DHyLCRGkvvoPjwAJY6ytINXdpneIdeuhDX/gmGXB5glb438nBsgPlMmUOHeFe/USSXkpFkEoN4ZG6CMud7IQ4jfj1roi3HHqtg+xgEF/1fgL2Lnh3vkFZEaW6eIjMpBjT8cNesjYo5ZkK+v4s7VPNJPnVXnOjZXaVuAY1oe9ShXhge7gr5KbHug2xyKKPHLRzklXMhhMtS2NZk2CS8hZCj69lJPwwGWwJDwgY++8gLzlRezCVB3pVA18Zs3F3tC7kvICPCk4AAAACvAZ8ndEJ/AfnZZkVSYIChCD/cRZ9jpneJkvdV/Kg0xXogA7Wkcmtutuu0b99QNNP4uXmOmu7+5fI0AfQ1kttVjxj3KrCAnXwcj/4kxHV6Kcycxxk937d20XqfnqGBRu6kodaWgvNvCXcXHyy6nRbqkCRZlFWw58RfDsSyao72NW7R01Tyhh7YAv695PM3ZtU9gGc/QhEFdEm0IG8XkFuMmR2nDxeJZ04fsg76VKyQQAAAALQBnylqQn8B+ni0KzSJpo7E7MAVvt7Og+hAD+NgEDoLaS5NrpVO4bYwMxLF6WSk7wi7zFHNUhozDLg414/oaNFMzqhjIiEeDYFN3u1mR6JTiEBlQAltKhNTfRV0yZUr4/GNrtuzdHoGORcfkiJZaploWDgzeLoLmd3zEl4ssnJRzdrr7p4EDZteinXp4DGRvI6pS9MYQbByzb87ew8nz7v9VGndPLqZuLvIsOGi5yEajtVxvTEAAAE3QZsuSahBbJlMCG///qeEAAA3NqIZ2/z27NMuzfTwa2ABajUo9EZAG6mV0Lmy50gRXoi0Ywe8uO7CkOrvV2B735PFqeHQjIbKshnmW7Qwk0VKVQwjxnfDw4dNWOAWcxo/FvGDMYBH5tpUvCihhKJQ5PrmHW4k6Y3Z9zzuRf3x7qA4W0bLrGGidpwusof6QQhKNuqYTuJY9PIQ+gh5HXC10F+vpO5kMBh6j6Hs0R0jsEG/P0mfgkCU9RHT6DoaNfPurdy3KzoBpGiWV/UCxir8ZBj0mOXvw73iLFV5pyyd0c3ykYiW+xdsdoJC9S2kHH3p7Tty7gARnk/qHbBSlCYeedFENhmWbv5O+oKbBFSKRPt4qQZT02fXwbPSg/cgybJi7ic6U17t2fxmDliW2J1FaLVgyS0hXkAAAADcQZ9MRRUsK/8Bk7DHyLCRGsK0+v/EtgB/as0lizskhF2c5TwLS84w+nqumVTijT7iP87XJiVLUN1/WEiy8rUv6QQs5ZewCnXjApKYMx5B7h5CONxzT5cb6JdyncyovgcxuC7nFL8tBODVOsdHFemKcHDrNtA6yuqWSGH8XBX8Vga52DLf5cWvkCvr2WXMpjr19dccBcVgzCuSGoAU8ANYI3hNJZk9fV/+ANCARM/YPg+4r0+y4A8IKFf5Zo0udMdH9MsMxXcLhcNKUjgGMuJided88tONcyJocvT6YAAAALYBn2t0Qn8B+dlmRVJx+i2hVe2FnkIMmAKtnB4vQSEUr3IFOSn73Qh8cgTiNyLGwdRWn9aV1ifyx1o666iZcQO77GYJOK3pt5/bHn4A9wve7LRs18NjjQyWMCrP/azoDKKNpH6gt8294D4ssThLJGBdHIHh2jXuRb50pb+qiWe2DVAGRaZXtstZRTPXf3UZmZeFPA03IVa2A9bBUPhz49z7EFWnPwESrfdLej5AGJnVPZcXmoAPgQAAAM8Bn21qQn8B+ni0KzSJppMDYxAKD7mi92uolTHCnONboxoYOkh7XL0DvgbiaQ2oFJkkLoUOQglCZKS40hzG/hJ7pJFHFi0Cn+tczEBQR5mbsARQPPXiY31eiFNxSlIwUeVXP+J27GsJRDgm0MF1adA9JsQKHmhdVMxeTqYShuYUC+9WSPCSTrpoOsFgQVHzflOjmp6O4/cndFS1mtnlNAXbm2WoN/X4E7nKqQsXGyFxx8xtxeDskLm0uOOxOYyuwe/8G4w5odlTwExHBuMaGssAAAEJQZtySahBbJlMCG///qeEAAA0/CeZLEO131IZWK+BeRSdFAC3rku4y1iPhcljtG7ucW6Y2Vks+7xEMp2V80AutajYoqxa9lOD618QvaZGk5WcSyNgRh/c15XfCjO7+dir7QhQR3TVLUwHsNp22KlJjqv4Qxd3EwBGdRRzt0h3czVlICqgo8zaIc7UtNap/M1A+w8nKy+YGKdLb4bsse5dXGBMPMqxUABSw8oeIFFfv6zPkhKUvgWyEgYw9aZ+MgAPDtGU3MwXrMMbqg6y9DkQTmDI2q8tlh/PAoWROf+gaun/pnr3UjENC5RnYOfZlkqYOMh96HUFG3NvUKtsdjSxHu/DWAj0h1CpgQAAANhBn5BFFSwr/wGTsMfIsJEawrOwSLWvhbACw91ivNVFOSXg/x5pMKGCAC3hla4E6tpuzB4vzqEaykQUNZ1+2KcY7OmQ0Hiv8n0mQrh9xRot3EUr+HImHGl2DxvzNC72viN7F7Lk8Dr+wfhvDlG2v6sMx7B5h9M9nCa9jSFJflD0X7OooQC3vs2A3pxq9+x/27p9mv9vBq6y+D0TrG1keDJRBNCK9zYkwbUF2lLZri5MS8HFi2oIBxhj//nM/4H/Bm6dzOO340s2epuC6LOmn3s+8tmkZTh+D5gAAACnAZ+vdEJ/AfnZZkVScfopbS7d+QBVYRplYjimhMO5I0PspFFofy1stqs/PRpOPAyS8/HnooLK3kTnva3/0tdK4Im575NRG0F5fNsEIZ58ifeni640DANwSsXuLEoYBDiqB/IJTj+pJvZcvOeXgE0votuKFlWdokSqTbPc5ymUNBRv25o1d3zAcJnxS9gfbyIayXQtnY/LU6pd/oKx9wqIGfdTqw4A44AAAACEAZ+xakJ/Afp4tCs0iaaQtXIHyIQARFJ0xJrZEttQxgrukNrFg9tg9KQbr7mfcCTsS5r0eE09U6UN3HOjbZ1ZRn+Mec+ncd1ndjhsVTHTLEJtV8a5IpVDVzZW9avriqUBPm1H98bivnge1LQ5kCPNeBbBptm6efwidD9HEQb53k1W2cXBAAAA9EGbtkmoQWyZTAhv//6nhAAAFj3987IWGUgAnIobUk5+5Tn/5A5kCNQ6ehyj1ZeE2sGTYNHPlTxn2yx62FeLVhD77Zzm9oguuHb7m75KOff2TDCeY3hw/lvR+3d16GKKGwPGn8o06OBhDIzKohlRXKv+RyXGfMAhjiGqLZwrPwAvb574ilHeYs2AyRYZsmPOzxo34xTmTsR1nGPXjZrrzA2mw6H91mDreiQss19UAxbZt878o0l9csRZJKDs0DhsoLkNFELGMIQ5RwxVTwnC+l2/qOUR3cnJn5fEGEVmc4cJEDwXVVDfmwo44juLHL9lmC4dj3oAAACrQZ/URRUsK/8Bk7DHyLCRGsK0Q9In8gCIBoqMD3mCV7DEV4A8g1Nz0TZwWK4aTYmfwjHuf+R5vkhua4JnGMfQKMO/CCrhPuIqheY7uvBhh5JFf5RfZY6nqWL+c5wIyY7EVnYx9Ik0qwojQIsmqs8RHTxQN64+VkDcTpmOH12/8tzbCwy2GDiFo+Geym3u2pLjMe0hrP3AQisVu2OBX70j+KuwBaUCgzJPIKGpAAAAgAGf83RCfwH52WZFUnH6KVnw/8AbTTnnpoW3V5+1aKGPhiI6cJ59xxtSp7t1V6vH73HNK463DS0u306VFq4Y8LRaYMH2r0+qJe/Q3YWf/qjydE0dUuNBfwz34BzVdeufEzpDgwBAqMSBg0Cb3Y+qe5lf6g5uxXcTUPQrAkrVZeWVAAAAkAGf9WpCfwH6eLQrNImmkK2Y9qPAFLHvA/PM6a2/g9TJXRuzpWL//vcO9oF6UL3oNWcNwGJR9oji5LBBgJ/WUsAOrRViZzTSdR0cATRtONThXF4wJfxfhf2wm2xMVaefjSHxadlxCmv9b2KOSBoMOgEkoAhhHIWnONkExtPdfO518y2MFNr1iEqvf6Z7Z/DvIAAAAUtBm/pJqEFsmUwIb//+p4QAABY/eFY7D1Uzrv4pgdqLaGvABN14in+N7yVQcoqLDuLSO/ROMsprd6Tz5D3P8R/25vHzAo6LfPayZrgiIf6b9yPK7FpBkrJpVC0K58DprgabUSY6H5t3+0XXyUQ2iFGlSoJtZLcQElT6qXDf3QKV9Lr1Q5vWitLd7BD0j3MS9Y+10Ldlni6BcNuF7HpbrnYD46je0nhFSTuyaZP/VR9/qk219t9bXGKMpPgrFPaX1XrhaTY5lHZ/gfocjLhJq8NAfLw2VqgunSYoaIoyIudEEztl6lAikO65szUSzLSdlGelkXOJKwHq7E960DOOSG0ssoYshitqvb9y1V1kVRMPOvhbJa/z5CpImHooH/v+1b6blMCwtno5yuvXpgWL52sTGtjW9R5FpeXXvI6m6Iqtw5C5XkXQ039xLxWxAAAAs0GeGEUVLCv/AZOwx8iwkRrCtEPSJ/gcX8YI5+qqbKtscARqRl+t0WwRzx8TyZbxHpR6001sTO4PEDiKr8pnVWvUaLMpVmxD5bAuFrDNvnXr7ZqDEUh9PlXDGkRP+2UNmBTLfb8nTpDa3SR1gYomOVxDE0NoL665Of38Lor3+BvXK2+Sm4/cEnfMVfzz+Ymzc3lNsi0p6QgNoxuOSf6kYgQHqxf+eCGymuinFCn5YMKG5QqpAAAAkAGeN3RCfwH52WZFUnH6KW9v0AOSLbQPaGyrl6psxcUGSSPXya31UpOjnyyKKkqXWMj56GtIx/ADpqEqxPRgRu8xwIEe4fD/ub1dT2YpidhmsqRwEH77ofXSLMBv6Qyl8JrzPh6D2/yatQGUrzjte5JGHvrLRR8izP9Xt+XF2qWXfluKAcdWDPJlGqyMsiILuAAAAKgBnjlqQn8B+ni0KzSJppCk4ZSoHBviNM//+/QBCI0Z52rvq+MYqzPy1yuARkFwsgAuPjddccLRpLnRHPt9pUDoZ5QXf75g9x+mw1zPKccSH61mp6A+A/X8okSfjG/2/dmN6dofiULx9sqV0pWZjtVX55fioyZv5+SVkF4cAEHMj+9DLMxODLKamCR9u7uHfNjpGWGB9MYprhZqr2R+ZC9IDexpFQ0f2QMAAAEsQZo+SahBbJlMCG///qeEAAAIKoQDEh9074JYNOOPpUTVvM7y6ACGO3P1IzTKmh6NPoprqTvwuywq0RNSLs+2FUwueOhAaYmTuJoDbJl8yRhjb3vdOphtybK1XYt8aEHLjLv2fE3KvWNX5KXmOkvHjfN8BqBUeYherbfyuOZ2EK4byeWIdGEhQ3NaN5MFiGjobicLup57z7xk5Yndoc4noWzIPWSN0WweX050MBQGKD3Hjz8kad/+x/bKThpQv90Fu63TXycWt05hru7514qfh52/GqxYUPqrmaD8oX27kqjvNo62B+PYS4s3Yj+4BpUNXL0187NbGdkutHZgUA3ep4qLxB4mSCVBEEf0UsZsUdLaOffCNMfdhTErjrTE+c2p2Bfpm9Ulj2nVxmsoAAAAsEGeXEUVLCv/AZOwx8iwkRrCtEPSJ/eZ6bxCeJFu157XnQHdpAfCWNGLksffj4UcgBV+JEPxXlAp4g7LzhJon7PoAY2c+b8V/ps0jQXghIqlBgpw/XRywk0wFygx0Bb5xpdMZkekGm5h2oHCaJCEJgnQeOdIJefYEw0MIpW7y3D1uGLWsOhW977NrZ7yShihPoKswTPXtdVDcZzLhkH9VD/KvXKGrte2MJsv14vEJYHHAAAAkQGee3RCfwH52WZFUnH6KPm5yvJ1WgBfeSGqQYunNjpa4NBcKsTkPzTNpoCIawr31836Ntr78czs8MlVNU8NznvHYvZ1CMQdnRDghnDJMa7gCbsAnPEWewqo81ioFQaRqqxdsUxDhMVRh2q0E1TwzX/BHzZExP4upG550fKlEWO+4BCUe9CggF7ZCLQRiGfenSsAAAC5AZ59akJ/Afp4tCs0iaaQfZ8g/NO95v/sm5cwKUrxXD12sADwT9Uf0rfqeCFK/IRoDsVF8vUiqwzuBNfAWg6sirPzUP3LV8O4eNBs1xYUXaKIKoWRd26r4Bk9DlUp57n9NLqykVq/TtrX7f/jnfxEgNaZSaVSn+5waQ/PkRfhOl6bXLwvPYZe5X/5sH7pUXMUudUDdy2oAz+IH7/zzaWJhA6+VKRTxClqKzNN29nNfZaJUdG0Y/ZAE3AAAAE2QZpiSahBbJlMCG///qeEAAAINyD8CW1zwATJqt1+JcLGb3Jmp7kirCbwPJjd10SVV1qiSnuuFkUhzpbp2jdm86fTEjavM2GsaeJxjY5sOeowgr5Ev0ikKRTBB/lr4sls5VbcMg4EQShKS2kHSco76sBSDBJ5pM+DI/zPsU7cuEnyOjWhNwix+FLq+s/6j+sXZSOcOZBgEn28zZwi9PZnSHiu6H8QoxVDuwNdTvPLUIPFW4SD+PdRdhAiJl+QdVazSV4D3abiPgiDbTFon0Vda5HBlPq/4yr4DQkvtGBOggaYOoYV5MOU5tKcHuBFCkNP0SU/h9ZqskxXIh8cfnaqOzP4hbeo4XXCezjSu8NiTB69UGL5J0UI8g/KgG10ccW5lEdOQsyJDlAiz/MnZHJQwrDz8rnZgAAAALxBnoBFFSwr/wGTsMfIsJEawrRD0fORn3m+SUWAJ3LmRUffv5yDFNV7PUtm4FfFtjL8aN99B9uTa/guAFzjWLyL9uMAqBWJ4pbQf0nu5j/D5JN6uBwn8mE2j/RkTUVe4qFBJrWZXIh2tNw8XNhS1wjjJAmzhHRP/bMNjODW9ztNI/D8nkekdYZEix3hqmsVIWsm2BSg7A+xte58dn3rabNibmQGqOuD8fB5OtYbV2qmc4Y8htWPuU4hwU4qmQAAAKwBnr90Qn8B+dlmRVJx+ij5ucrnxFkO1fcAVszyM2zsyGH3h9wMoc10FDGO++4ksSfwie82EKICal0vSqkfWrO9J3eamcPdX2jC4ZzTCTyDNAKe3R4O76o+C1sxeRUF5WR0B0GkIgmRCwblie5HzAbRDhcnizdkXbz+q2JSjZorZmGKxrdbUcM3NfZsygdBMXMfJTcQkki4kETCu/I3bLn6UUxSNHusmETfSbBgAAAAvwGeoWpCfwH6eLQrNImmkH2fIP9zcoAUGuX6Ag1650Rrr0bJpmjtNsjbCZj1WRtadm3Soc4l85tC6QqaZm+X55WBRhdnLlGRO6par0Wfpfkr+5O9PIs2YHIz/9nxuPC4KLmu41aP7+OnZuIYRnDUDtXpIY//78zLtrZyRseHydOqhtFm1mB4KZGe8iTb+UcPi4GdaN4/M+9GZhnCC9MfMdcMJbL9ykKiCBZK9cCiSlmR+dGd6bzkF021HhpogA6ZAAABHkGapkmoQWyZTAhv//6nhAAACCqEA190iGw4gpPw0oGDvLkRwYM/ZdZdxfdrldIfxZxTjoROpYpx40O+7evAxpPLEvQg+0HqXz8yPh+iAVZGP0jnH7BDR3P0w7nsTvHrBdn1XA0cJHGQDWaCNAcQVueTxI4Kl7tRq952nCvwwWnDdDD7W9VJSIGi9BsWlXhH9JKl3y6SYn0TvlnylIIbVbHwz2mlI9PZgtYD18kgAIl9YyN4vpYD9yqjoiIG3O/d/J1Yz94Tf58ppYFq7ltmbFweN0C2Kp+bqitE6bkDDbHBmk53Czg9EqPc0BcZ0IBy5BgP8W0zJ4BSYzBMZdDM0TaXhzHzV/csCCuAzLKkcF6L8THlj7rjsChxYu70s4AAAAC6QZ7ERRUsK/8Bk7DHyLCRGsK0Q9HzkZ96/gFwBWmG5uS79xlsTOZWHXnShHnZftsATA87V/b0vJzAqDkVMSfS7AiAQdWnLU72KLpME2NCwlBA8uySuLZfvPKHOmP2yXxZ4YfxiCOyQ2XeJyJ6VhPcoANkBIFS3dUDnIf++SgKkIJyK4PKSRqvqIgx6Z/kcWFBbqHzhLn4087t+zm6bBHuwcTU6oDh69vmZpW9l/xiRf4qEl4nBJkHHII/AAAAlwGe43RCfwH52WZFUnH6KPm5yvcHZwIARJu5Bjkyes9whBZu+8H0yKw5eX9SJOMjcERw605VxvHLf0yirNhUKaItzMZT8n15nRbcslBAmYyFLjWRT98LlOTTB/qvGe2dlJ8ucwauvXGMOoIlCTce85SwoSeA9npC0/vZfFXIqnA9iPo5MwQoEixX3F79vMAMYkeYoD9IBgUAAACCAZ7lakJ/Afp4tCs0iaaQfZ8hAblchwH6TcqBHJu/a8JNmk41AHMwLG7/A8A2vriQqThscnOVq/ACMCr8m/VWh9LLLsVQRT3aSaIOrV6+fSrWTzMEm3OkPjoxqg40625Xok+ziUk7HMtsCFTSVhq0R5MqrvPjCsSMwUlrlAJTuP0lTQAAAQdBmupJqEFsmUwIb//+p4QAAAMC5+epZjOGhcvN8e044AC1Po8pfMmyz5qVhnOpicpH2ueZMKGivpNnSuCXqILQyExZFPT8+RgpEutzPHvBmzlt/WaPfkXDHj/rSRMfmvjoLECy9Y3ghH5ZkKjKmHuLegZd+hxZtTSqzbp3USspaq/Tn53sw5wnbIXeO1Xeva6dXc/XKGBiyWAHNbfeCkKsZBGPZXLHGf6+GyQBIbBuEn5YcAwGcccAkxsNMPIz3pFAejRfzAuFMs46Hum83ovhkChFqHYhBVb0rGSoxTs956WSc5QB3dAM4YwPGgY35MCZJSAmeLkZwE6AvcP4ThEOvwEREu5FwQAAAJdBnwhFFSwr/wGTsMfIsJEawrRD0fORn3WrBDJYjhVPLL3ABcYC/Wl77USLj6nz5f0Ke+j6q3ZmrwxbXliLHbDS7nYYEVo0Gvrbn6pJELiKIMkf3WQARBXCCtoEK2wUSx3Lgh7QLim9xBlUkx9ROtxJ5lVe2sl++udkxNc9oM/+u+K2D2qv6ZyG2pqa4KTDOlkjnyKR70RcAAAAhAGfJ3RCfwH52WZFUnH6KPm5yt94vfKOv2w7MgmWKfHgl8TOJVVZbwAWzyvycn26hSXRsZiwDGkrH/b1xZ3ntrDpEVQ3FjOC4pllIDe6KE0epn7IkguNz/7MdJSskTDJ57z+89NGckKj0iFRfjLVDlyLl/aTl2H7fgwT2SkmBBtKvuJk4AAAAJkBnylqQn8B+ni0KzSJppB9nyD850q6k9Hg0r1iZGOQQCIbQuLbukW+oAbvbF05uMw7TwVb6Juj5urB5Zmi08zd22Als4baoWP5nQr6oFynmcGofY3VK0Vmfr+sCzMWcfIgTsP2m+4jygLB/Q5JeX+NHbnpahR03UcyfJcH/ql9pRZRU8cVIvYF8bZqLQ0dCG8e0E1ZTYsQBX0AAAEfQZsuSahBbJlMCG///qeEAAADAuq0fKefZAByn7FMh/w6xB8+cPibhj1f2MI56B6pR05pZVfR4aLGGOyvVZdrSuxYlHLHMH7tRmWf2QUwTVl2aThZlWa/tgcm7a1ACKJloKWIdKCUtzTwkyLQfNv3K3glMoqPduRoUb5vRPX74KQICutwQVS9ZgX0cyhvSKjDYSW2fOnLAu2VSzkADKDxlxAJKb0aeg+4KFqjg8+0mrpofOJc6ZrdAzfJoUMC7gvzF4bLNFMqvucq2z6nG9uLXJ58FQng6wKqxZY2IV1vn8ALZAM+cX4STbua2xg2dJzxQguBcwfY8Kf2qTYYTwCt1ghoBMtVQFm2LgXAjEqTpzcXd6KYf00Sbtgd+EInY20AAACKQZ9MRRUsK/8Bk7DHyLCRGsK0Q9HzkZ91qwQzhr+7ePVUa0FABaKhtNz+TwiNyp3GCAkBjy7y9yE6EDuZTmDZOKzgUGYb2ODQMmm0mOClv/6d8WQj6QmK2Bspxx91/w8W+1TXVG8RsIgyjuBlXW9SSEoCyq5GrBbPu1gLP5BZtS9SERPduy/aHixoAAAApAGfa3RCfwH52WZFUnH6KPm5yqeUsbw0dqruO4F7jMwBD3U8pDZybbG5hrirCpUmwfKGPQwOjphew/DCh6nyuEwf1sOpxHu4y2tdzzu+uLQu4xzUW6FxP5EJhcJp/L9yj3ZdaWyB0XLROrqhIfAHxG1i0PIlU6Bq4ivJLk1J3nUEMbSIoTPauWKA15I/jV53ELpypiA2Ak9Cq7+At+0VTPEslwK/AAAAhgGfbWpCfwH6eLQrNImmkH2fIPCuF4bxAm8M6tK9SPAFaHDofJOELG1K2TbrcmnMa8MxEvSahUAO97NaUJ9l7wUCo/PXtTIyhMahNBdRPgraBsFHtOFfSkVAucUc4IHoKgx4QM5okHiBDzuVskTSYor0eWkHocNw6MrIma+8fh9mN0xRG4FNAAAA70GbckmoQWyZTAhv//6nhAAAAwLoHouoKaCGaqu8I5qw9Ky8HqAOhjVw1fC5hRtptVKe539UVoX02noHbSUySivZwGjMbWxsrbUrck+OIGLys6Y7MKgCuNZfjaeeO+AP1RYy8BP1Kwfckse233RmMaGfbba7ESF719vtgYkV9RRN6HG8Z0H4FtHpA/J3RTF6eCgrsTxDrdakib7eQk+LaCANAKaz4Jil+xyY8JfWrXXZK+luhTOvTtU+uyVWycI9mAZ7zDgpl7eP7zIvBk29goCxJVTeDIfFBPMpysRShg2Pc4a9hY5t9CFcKHO/QKt3AAAAkkGfkEUVLCv/AZOwx8iwkRrCtEPR85GfdasEM4a+xJT5ptkcEYO8wZQL3lsYHnnr5z1b6Skjxj9QJ+7iTqKBDkux46MwTKiwgfnb14Ym+gQd1Ysn9iF8xvlMsj+HMjC3F877IQTBxHLDEiprj7IwADpDCiEyBJN9Zbtvnk/GOliSJ+nO7UPeWjQ7spL6aropLn5gAAAAlwGfr3RCfwH52WZFUnH6KPm5yqeUrLMkJD4fxBy3V9ll474hxnPxQAWtENUd2B+xVMEjVOU6VQlN2p2oisNET/vPcKF+KdC/8PV9pH7B8v7EriTfEy14nFQ9UGqzdJxPrG/3ORUE0Cyno8u7wbXQi+LtgOUot6heF7y6+C3TxlunCgYvaU2e+cYIywC2qi7fQqiv98oAsoAAAAB6AZ+xakJ/Afp4tCs0iaaQfZ8g8K4Yd7pXrbcqEUZL9t0rmoU0kYNx17tawPF/4dXAETls+7r8ZtxSheOT4oAFa6/dv8xYWNVWh6ScX6wNwo2r3DphqTuuOKdZNW5QT4ISZJXZArJastyKpoh0UChnhNs5n8HYDIyMQu8AAAEeQZu1SahBbJlMCG///qeEAAADAuge4TjJIJKFwRg3AXRooG4CVlAUjRiuubR2YdZudPAazaxyalcDbpQyDM3HkwvUJnWEkYB5UWdkux3uvrk6W9jqFe/h9njn0I7I+RcK997ImvIaLumh85P3oW8c3Og3Uwii6nrNUPg8l1cYkbWjgd9qh8pg+RQp9JxuXjh6xKwQYPdSS+3J7lkH2tLtZIBNs1sU98nO/DsYWrBrglUMCUqhWeg6yWU0KGnqRX/68Q9GP6NatM05MsWSLl5TWp1FEsqx/H8bSJyt0LxLZzYngv4ZOTUZEm+r+m6cTo8wHyQ9jCElJDZVwx8Psj34ptefmRGp5J53AfddZ/qAEaeb0xejWpOoFgd5uM2NswAAAGBBn9NFFSwr/wGTsMfIsJEawrRD0fORn3WrBDGOZVP3/GkwrYvHNNX/Shd7+9SNeptQPYTOZfHclzgALpvs/3lKcV/BMDUayDyFXvzKrvRzL7uLvE0DDm82SYkxIz8bmUAAAACeAZ/0akJ/Afp4tCs0iaaQfZ8g8K4YeIdOmxwACrtUpUdbILg9ocxaHqGApPKmkHZ7lRI46c9INJBiYy5Cg/WIHtuY33t75R4Xwf0yyzLvIqMd1v/bw8f/wCs2cUZkUS9/DraOMPJ2+MSLjmeC1E5bPlIsYMTo6jQF8USmzeziGICLC6HddaoCa7EeQjUnxWAigEuloKuWruZqyhTYFXEAAAD7QZv5SahBbJlMCG///qeEAAADAuvMu0wTydLx0y2YAcP8E+uSTWQa82iP/4lPIt3KCXvbK8aK8vmD71RF4kjRAj2AcYHo7RolzV1keIuu5hV/7nG6SMuHDeHtqOxGq6IMXAEHatPFwP22136b5R9m9++U59qbMEGh4QgAQWn5Giv5UapFDXbdj7oNrVlGWZTc0VwGu0+bRoKMA/NDVMsCcw39NbyGCbt+A1pDCix7l47u3Db6dRKk1pDPTUJWjKABY9TNXDVDm3OGXe7jqyt9OV4e8vU+Qtz7m7jkWllSD5ZxxfpyaASS8bmWLbuTSAWCZ8zbTdp5CeJp8vAAAACEQZ4XRRUsK/8Bk7DHyLCRGsK0Q9HzkZ91qwQzYed2ohODY0gr3Ak3z3s+6QzUqko3pw0VogBIuC/KqAqCAy4XVSs7Cxjh/C/nIW+usiQa+Bb0NKJnq/LFj307LHuKHnjfoJSpqVsp1Wtg/jR+TH7o+IMH8ePls7j4FeM5wHcD9NlNF0KDAAAAgwGeNnRCfwH52WZFUnH6KPm5yqeUrT2f2aYsZ9OCiPUJa9+gA+Zk3DlyN5VrLM2HJXHlhAhKBIYIGj5KKGsE7IgOHIsx0/sKFFzI84S0slxhmTNLCaq8DBJKVnT8Z16IbA79fpYi3pOI++S79jqb9JYDbDjEFEsrU2bfgNC8AkAFMDFhAAAAcgGeOGpCfwH6eLQrNImmkH2fIPCt9VLiziHZMulZVvxkz1SKq11AASCGUyR+ZgfCxISycf+71nraMwpDANSTrvuTibRAiHghncq2v2+6uFUgvaRDESvJyFRicpC0i8YPoHdCUmCYG2NzO0twahmwYsKEXAAAAPdBmj1JqEFsmUwIb//+p4QAAAMBLS+bgBt60LdKFS77Ud4RLzv79s/dRG3m5vD4uim5/uQjMyylzMaGKnN0Zs7D31t+Vostd3cpm8xg54aV4zE/mF4YWkL+FMNQ8eX9aHJkQ56bEla9zOgkJlFW8tIhVo16naQjFtrOXHCVBEz1/EkCTG36UuSE8LH+vQJBrfWi4B9C15YiVvIgqY+i63mN2L+o0PJt/ewfQKZZ2egot5d6eoTIbQq0w3c2UQHBQwR/XYX3NHq7P60IZMpATHXFT7Hs6YOt5tHTqqYaI/MOsdAQ88jSYNn/B66wZmhIzPPBDzBRrhu7AAAA1kGeW0UVLCv/AZOwx8iwkRrCtEPR85GfdasEDUE+GXCLY18AC6juSteKwQ4E4A0aXb8Cc7+uB8u1+T4EFKJPDgCCYcZcyDvqae2lgswD8Yx7t9IOiXRRBobGoOPMjrosRE4T5uC8wxyy+UQOe8blS9kqYdiPPljBvPAUQkQDZ/cQ6xLxZjr5hbK/Z8xQuSKhP+pUgrPDl8tRCsoUQqJKAg/IjP8/gz0tbMoh7wXTkGo7O6hEwR9dObUdhxGMcBoGli0Q5RgO7oYOninFTHO7SFVjDPtoVsAAAACZAZ56dEJ/AfnZZkVScfoo+bnKp5PhOg7hVyyY5JjJteAC0Iml4kq6HxbJHTUoygQFJi0k1+lHyVStjLm1VW/ssemea1RZR9BPHsU9uEC6mjK3Yi/H6DkAMw9eLcAWrB26Vx64A7pj1mzfMX0+6qIkyAva2hlH1CI99CiVJUY91z6VOJB3hI2dQNyI8XfwB3RIt/43zZpENwLbAAAAsAGefGpCfwH6eLQrNImmkH2fIPCt+LDouEWvYoAWF46MbL4gzuwN1unTExygm2enbCpPi6S7SJdC/b3pZ0a2GGIcwFJ7VDHXI9EhDwxgVJtZsk+7YBoamuaWdOaGeJFqgW2iJdqd62vfSF450xQGEtIVNFz7y0Afx/XnOW53rpZ0XWwBVMa7h8upJ2AbyTonQ4hPRhua+LQ+tS2oWcCqlIV2q+VDQdM6qlmtqcy/NYNnAAABIUGaYUmoQWyZTAhv//6nhAAAk3yNfvj3XUlcDW9iY+JcreGfxsH5ojGcABtJ40wIDPGXaBje+fmD3bGHhXCZ9hgzzy5bdDH+L4eyynDdki+DnB1MGDgCnC0PztWkBhlvzCMf9PMnhWSAtg22OR1yZ7jkq8jGX0wAJKeptnCFIWQqrySAInnJCE0A+gyIbTdpVzNeg18g7Um/lRMGXJTIcV7SOoepvUwxsHJuvVUMcSS4xSO+cEVIgvHkIUWWJiXatDay65d0/z37vIamZ7b1akhpc3d6+mV+lt0cx964xti7ciBt4diCSekXHjDOPF4Id1oBPDADrASqamFu/QfiBOb20R5OjXVhe/8z7L05tQPOGygRDWVa2KREwdBdVWcmmwYAAAC0QZ6fRRUsK/8Bk7DHyLCRGbEVYM3AAockjIUrb9j4gCA6hoaRf3ZWm6mVptyo3MSiOT4x4z4DLZwT9R1XNlqCDfp0P0W7nKtGVbCav9iNEgY8C9Adnl44jZFeey0izUqal/FHXkIRQCqbiYx0lfDNBOE8M3bs7ON1alpIBNMFRioJv3+63k2TJUq6KNxr5tlA0OXSwfj8AYFRq8oY+w/CQagZewgv8TgvjyHCQqOgL8w1kEzAAAAAoAGevnRCfwH52WZFUnH6KPm5yqeT/skLujgBHUVgCWEzZgZAsJ/qbb8tf94cuBE1I9ldSRW4wyl3Yy23aMa/y+IDopJHYU4R5rSWkTcpWJfGVqI1DQhoHM60ozSoA4KbM34dYqlbHRKA3srm089VsHA5yS6bJ76L9IisXNfTDyTUvjuAswQHnDR6wmEWsyJkuaZn4CNpnQIoogpelHOAB3UAAACxAZ6gakJ/Afp4tCs0fNSpkEY3pey1uqTA0J4A20MF602EjSKIGaGGVMQxvGkqvLA5GDSRUoKnLmltEbmpJExg4BVclW/maa3VwSrhgtIvfhoU8vjLuAsYAr43HhnvQvi3AD6Xbz/TEWfVKxEzfjHbRHUvcFdvvxtQebCd/NJI+Qm8lFgzPNJtosQGIvyvTzXvsKmZPnpHDTgTSCMzpK/kYrhYsA1HJgg7TScCy3EtT3kCAAABOkGapUmoQWyZTAhv//6nhAAAAwElMgrgBuh76aCLfobaAddi8CEp7SW8pjxSl/dbdvSpdpOrcHjrXxbMuqf/K1k0QbKVH2w7wqApE3HJHsPxOP3VBTTwW5+1BeYeF77Lcu5xe4DPPc7Qidz8rRx2AzsanLZsHxHcDZt2lRn9ikQR3LuurosTHPopwUIGQxR4NJVtbHausVxsX4hvB2aGXqaT6Bll6bky7c5fXE87IhcoVKn1AD8Z2QK3YG3ff9rxteI3Jj0g9TEOVWhzO7QJeJ+h03YHiAzIW0bccW9w0Ja6NYmBI7uwCX1+l4jEErAxxD2vWdBpmsANbccFOkf8dnWsIiMmR2xttC+4A+ylDo0Z0m/1DelAeO6Ez9hYP/Ylk7JIKN7rmnhhAhB5hgQOJINswXlCEcdPYbsxAAAA0EGew0UVLCv/AZOwx8iwkHuFYTRNBirrCrLbJELwSKDuABdRpb+7dl/KrifTV4EBbnEZP0rGv+8GErIee5l1ZkOpUvy12z1wL9CMLYztnqh4+6fiigFex9MAMlcGA7VWt+Qj/gaQ+wb3KBJtm00qA4iSkcvgZtiYvrw6l110rNzVdg2f5ion+T3Yb6voaiBM1WdIy5sXmDT8v4sTGLzxT/DR/FmGGoISZ/Sau8hCG48KwoHoRmUNNEr+wn/mzoS+bhPrebKCVSjx+L9vSC7APSAAAACMAZ7idEJ/AfnZZkVSW/v+3kBFelth4qpMACdW7ju2jpRVqF2Rc+WSujcqFvB144IkfGBuaR+0oDgbVRTx8MEg02rpIIED6CC6aT28s2D/NFMJgQdZwPWXzj7aKAnRDQgFjSk2vtRdbvwUXJQWLWo/mM8/z1rF6aTKfIUivkw/0cwJAYmHiAt2OjyFOBEAAACXAZ7kakJ/Afp4tCs0fNSpkEY3pG2cqIAWHyrpnCp+3Je4Ko6bFDFwaAiVbSjGn8z6gfNZz9IHKK5R/fRkxxoumpaCHHJN0yov2CwT24Ho4P1BDtlKobB6RGd8sI7YLGBIquyHvUydgn8kDfeT+6nI2ITnYBFTaJUoHvX6HxZv2EJdL2eNT4nalPAABma/kdSkLfGUHSAxYQAAAShBmulJqEFsmUwIb//+p4QAAAMBJviloRHVo9JIAOjEBxwMKKZ5rqK/+Z8w3wzdQjfZN6nNifSzpIol+C7pgXRISVQUfY6/kkH22llbpVPqiZHVWptF9rWQYYSgXgwLeJRQ+OHg0JG1+hrHBVEqjlPJd651Y29NVItXVirHMkz0d8loQ5qd8XT7w1DhS0nU8x/7MdFvd2QwFqiOZjBK41xnt90AdgKPtzHp0ZfrpOaR+gLUPktVBdwF//Trcr5ryCNFmks26boN9I4pj3MjPaBZG2zkEEtSwSsAstB8i8GYlFyBpOUD/duhkaE2IiGZwYjPQ1gUHXUl2fWo9a4ckRRkJkjOOqYbMxCQhX4PhnNR4NYKTorWgltHrrp9gB1RQSYYZf9SfH76ZwAAALNBnwdFFSwr/wGTsMfIsJB7hWE0TQYq6wrUIFAZoQp0yCUJLoARgXA1jxc++o0yB0ZDePFEAQcXuYhZ2Fq+299U6367JkFW1oLJfdcN2ePbXpiQZI8aDMkgrq0Z1NUgNo9GnYj9RuDv4dinEer319hBdI7GMLA5yjmb8OR7I+wQhNhiMfv5Blz/YRRjS5MMPzrDvJmS+JBTiSz9IYgrKGsI+4DR4CmxgA6cSZmr0zRWyRAYEQAAAI0BnyZ0Qn8B+dlmRVJb+/7eQEV6dgium2hHrOP++wAjSKBsq8noKikgWusW4QKbxrUQn2gqht7dN0gjh2NQPPg59zaXRELXYwO3A1DOmCw/I6XEXIlYbZBHa4JDr7ibsCH8CxXrlTLkWWXJ1D4SgiGN/DVvPKi+5fQuAQXpubR8SGrH9Vwoas5dttCYKmAAAACpAZ8oakJ/Afp4tCs0fNSpkEY3rRCl7IeWsAFrp/FtN7/1CdINf/omQL8bsKhNRHWjcGHBh1bDHI2RO9rJzZYR+IZN29VNPHrO9hLdGQLxX1I3yJ99D8TMG8dazDXTqA1mXKGGISdXlOUd8zNW8VUcX/oJYqQc1qBqMoHOP6K/OVYtyNn4LEwV4y5kVPTAYxnqdzn4zAkOgIfbQKpwXm0HjBKL5EimfzMVsAAAATJBmy1JqEFsmUwIb//+p4QAAAMBHvpZ58I4TtgFAtBukf16f8dVm2QoZY083wC9+UjPI4HFas++H5GjWrLPtAlLdsEp6masXgbSXjgfCogr5O+o1MTB1KMpRXw53vOJGiikvoRW+pjDXc/adU1tq0qiaK9sANzympoaZRABVkVd8IkcIbZ7vbbEI27lPia3B9hxXfIlrPice+rqwGQMlMGK7f/DMb/IKYnJlqDy2Vw0yFI+foc6nQ9aYUUEx1/JF4uIRjhm30jtVJ80Las9Ks2U06hFV30mUADVSPss6kordytdD3Zk/6lPB1Xhi+rvO31tlHrg/LBTs6wf+Zkv3W8nTvctPv2mGSbJx4BP81fmO2fn7gjmPaE4W2rq0W/mPB3MkJ3Y4qKHVYZWMNqdQgRgUfEAAAChQZ9LRRUsK/8Bk7DHyLCQe4VhNE0GKusK09xJ0TATLexHiCg6clD5Gqb9nQAanPKKWmOcfX3AG+IC7ml0ENLam1rqFzgSFTpLFnZI+VCZ5dUFSa3F/B+9XxnKK7eXNlbkeINbOQSUQ+eZdlWGdah++y7t9bEcghbSSYoZL8ymbxQDOunu2vDV5sy+55y9CWh0iUgXXp0j6lfXJ4GzYswAU0AAAACaAZ9qdEJ/AfnZZkVSW/v+3kBFnQNR/p0AQjyvzUYsjD8+fxGjNII5mxeljKrC8mmlcLrq5ZnT3+LA48iC5aeyMpFQ9mqEgeFcuX1kP93BJNJeV17T6aF4ESAGeVFNY1Kmry6kMgXQ1H8U0oVY4Plqf+08wwkjV7KxVP3j7NKFbtJ1O98U3pochELmRmUT5NZa+0l/FG7r+IDegAAAAKABn2xqQn8B+ni0KzR81KmQRjetEMc7RAG34+A41Ge4hye5F8uneuaJPpaBpnm86QVORjGIXb+6ZQysSTr5/bBw6TX0ui7mWPnrXONbqJGj2d0R3a5fDm7KY2BeHJ6S3xyNZDAMQkDBkXyizIUYgHhXKuyJR0YmBp9/VqwZEepiwrBvJDk/GyosskbZDjhuD44sovjzcEmPGlkjTRqOHIuBAAABI0GbcUmoQWyZTAhv//6nhAAAAwEVWj7nl0IG/Yv7thaLC3QHosebW4qHOPate2CbotNa7a2vJyjRl8drizW6WHYzd+JwtqBIxuBX2I18ScKLY3+RYpsBFSQbswE12RDa95Xl6DwcND5GlM0ViAzzE2hlm3EiyITVeVvsbiJfoJQjBe9ycpTGiJqoWLd2sBAEkC1/66vEbQE4VGNdhhfKf5RsTrDFmrUfW62pJU3Kd+411TlkSaWmfWts29uArS6Nbz+K3fBP6CfOpuh6tSzEE1X77JzjpmC0MKmCt/PcY6TwzdiWxiFeQXoGgrM4Yg0TkQemMf8muxM1nBwuG1yqbooO+lveMNBVgaGs5Wfs44iFz2SfPHYUp7TYvCwIGeoufhjMCQAAAPFBn49FFSwr/wGTsMfIsJB7hWE0TQYq6wrT3CyxM/SRirMHx+rjgu+bYAh71se+4dOThlrPp8gfxRy3Ni6XsD2dsp6hCdAIzInPTZ3qm2W9x5TBGiwqMjT+JhgxwsmX0GABg3c//mmH6OPWVKlscoXF0uXacX8IPpctBYDAQCl+C9NopugZzRh3KALlD4we7KP3c8i/qeHIV2bMOp4sKLgI0HYwZZiregrrlNlUB9kisinN+UKe2+gaFxwC3+YesIq5pCdp7tTJLP86HAVwvIjeObGHQePbv1eD6Rnwk/6ezrEu2xXhZ62Sm78RvQmlaAYFAAAAqwGfrnRCfwH52WZFUlv7/t5ARZ0DcYz9ytLkIzZX/udgAhEaM87V31fGZerAN2cBPD8CsWPCT6SQ1SBta1oYKG7sruqyYWBob1tCy7jfUHiLHfjj2QNMGj4lu7sIiR46m/CXlywDD8U6lNyMAkw6YeOu9eS8KJLB4awGQCzoOdscigc2fSToub/tob+Fi7OvK77VIbyNCOTvdC8zIDB0kwcfLkooW4PtOyztBwAAAHQBn7BqQn8B+ni0KzR81KmQRjetEMkgsVvBMqoe5qAG3Ff6mtL8shLk0i1R3QvkG+SJVhO6npgyyLwjz60KO6R6goJB8+NclrxPkebRdb+9aTynSKS+OskFIp2jjSKDUpF6Melj6vdbEI/8TKxjlgxKk1KhqQAAAUJBm7VJqEFsmUwIb//+p4QAAAMBFum9pxHs7ONMyVnqMMcgJvrUn8TxUytcypdUlW0P9iua+EBFxLB1e2ZLhWnJFlrqkktYmgaLTxCA0UcTMOwrBAHUE9dXbiBX2jHvKNXqdhpNkfnp/uNyirggB8PZCKkqVsHo0CJyZl/gB/h5RPeNIxS+gFPgR+SJ1enzBJAAYWFPum12XatxmgRqIWmj9OOikkIbNx8i32ZVyP02Nm/Yo08/vmy1DGBUHz+mItOGm+UkMarnmUiB6QGMbSKQHfRlQ4FUieZjlp3G30db/5aaP3OVmJZWHyvm1eb7CDGkOQCE+mETvrO3OJK/8s8d9At82LUZ4AdYuGbF7mjB6wjIgl0BeKEILUOCPrUhoO4c5MFHFsClGTXOYr6UxbmZ1ti+uemTr8+sd6Yr9OfRBdHxAAAA9EGf00UVLCv/AZOwx8iwkHuFYTRNBirrCtPcXpsuiFkEbWwrxTqv+f/4MADbhUNMdML/5Px2qAqfKqsCwhh6NabCDQJYwYK8yJqc9F/CgXrzhhzwlpzbykmkrCpUNDafct88G2k4MH/qWOOJxF3hPt0ZKF/Nb6P1JZTedWdQtnT19uAp9WSYpBrnNyQo8gx6XJKJx+VYltdRkVTp3vQHH5fyTA42J1HJIeeTX9AsRhExoRcp3kRT3u10rfX0j1VSE2okX5GIGh7guNovnnIQLHgS1Z2N+DOKow0bkzIwzBG7Mw40Acv8nE0Rm3A8aPoHo43h+BAAAACvAZ/ydEJ/AfnZZkVSW/v+3kBFnQJ/njM1QOIcZvABMAHBKfbRswGahbbuWuXsUmvQNeToMsnOKVt5Ju/hn/9pzGNnZEaxdgvQ2O1eJwr4qoxnlqq9JJD47bcDNS+rh8QuvTJE4lr0w670qD0sxQbvkzHSV+MNtZTBDQlvSvL7YUlc+X3W5zLt0/r3Q5P68DVK+5HpfBLeTpQ6XDZDdgBlJW8R474QrccbkrtzpQABeQAAAM4Bn/RqQn8B+ni0KzR81KmQRjetEMzyOYXK4azLuyIAqUcspr+ASW32LgzVjZu+zJ4s0ElVrSygweqZFfAlDlihMUcEtLB6hsezvi758fBBfsJAQ7FrT0HvVZFiOrJnAub5cnofOuBTbjlETumlNvyXWV0LFeW+x7c/DUxvZRoy7+cC06DGWspe0cbjXz9H69ZGkDbDQVw4/3jgzAW36OJTZyu1XX/uBDur9pb6tJslpsyjrB1j5amxm4bmsOCMRuDVQEFHetIcKA2WJ+01LwAAATNBm/lJqEFsmUwIb//+p4QAAAMBDum9qLinr3ronkSanDV8AJprPrh2mVVZS3z/T9uVrggDoaVnzB7jK7BGi11uLM81wsPM90sJOy6Y0A5+f74eIV+YJhDrGiAz5IlowasKb0El8K5Gr8BgKlKqBXgQ1ExoJJn8jv2hr9+ufkkV9m0F6/2s/ZGvxSnxPqscXft4aZdb2HHidyv2xs6bSm0bx0iKGGoBAvY4Z2J62yBtyaFynoj6XUPJqhiP+kqE/j6whjKKaJavqjrNM1Er8MwnPD2bzmIQsXo+V6a2yAsBjEfi44aaIFXN3svpKU7GrQEYAj4UIAEZ4ArzxQ6o7gZZ+nVj+gqiU5CymuZKLA3PV3Cc9Ax9IH4itu9B26rJWpAyZqjD/PCupHCBttYRz+yDikHAAAAA1UGeF0UVLCv/AZOwx8iwkHuFYTRNBirrCtPcXk/CSIF3wxqgBenTKwLHLDOdlcv/hzgBLJT4k1MtZUGiezEU10PzdMTZJo8b31FyhcEfh+g/r1axBPCeuE8W3o6dn5dlI4MLYODbomLf33la//LQoija7egDfoSW/WSTnG8MCrbcNfbniTP+o/m2B5C6Xk9Lz9bleUAJ9iEhH4r/EpatkYXcBhtW8czEhbOPiwfdCtxx+gGarR4bNznip66Evbk+i5sjCqpi1Bx0tEA0HniPFleaMkOl4QAAAMoBnjZ0Qn8B+dlmRVJb+/7eQEWdA4R+EGv/7PfPVAHE4Kg7bTOWBMZJodvs0xJGkfywlk0p5ScfPyJosgWW0NIbWgoeGH5copnTj5cxzMw+3DEgtzLuTYFQdEuJuRTwUrh/HeeT6QLvXFNKJ+HueEcgSSepKXtfoJtIoPbPSpGpjlxchdjWMvcMwreVjigPrz+gKCzVbN6lFqo4xwwPIYM8TQdr39yNcyC++1yU3y4/f+JR6KT3YhafoArAOZd9m5oZGsh/UGxb3AOnAAAAvwGeOGpCfwH6eLQrNHzUqZBGN60QzPI5hmcAsyQrq9IAX2CNzizI6v0YfZUHzXOyuX++Fl0x0lC9a2EZPGbiGiNzMpm4YwaqWtrTVQOpoUFBo++1FF2pxli2AzHiKe3IKQUD3TeN4dbSlud1n9PfAqZPrw77bd8kHXjSYnFCQjYF10d+7rgpjYCrm8BpB609ZAz6VFrYtJvzTtjQO6VbGVAVZgfpdTq7Oajfx9pcqnB6KWVcb+Pmwl0Zi7DdagGBAAABSkGaPUmoQWyZTAhv//6nhAAAAwEG/QXM0yLoV22ebqLb/AAG1XITJ5r8MRpGvML4H2ncEl7gTZkHN1C7lXSqNUacU+T898ZHWak1fvI+ozF6enVmLljhyuNhzEL/M6i4tbTjq9bZ71wzpUf/lAtwFpeSWOKp4wRIXBukfVAEAoS55CUiig595q8XvhoaqU3FXplejNXRxCESI8EEPYEa88eg71SxtMO2bal/CibdBo7vVETVop4rjHnBebXlfl4BD4z0pHa4Mog3biw27K9C0T2/0g3mZA3EMPb0rY2FeCi1g+1dsGz3N8xlL1Cc3gGxU01oEyStseHBuUccp21tUma8XvXGihUbOq5J/mzCCnvAEauxTt/RVAngHVIYVAfC0NqeP40P28IhTn5X2+xtTMF8qF/KV3YGa2pPoeCxJGiyk8j842kxNaV3QQAAAMtBnltFFSwr/wGTsMfIsJB7hWE0TQYq6wrT3F5PxHCVXmbdHv4Aq2L+fS9WeKcUWqrwbfMIx4jFigAP0zQPYrIoNn2KP+rdZ8iogBUBQ2FB1cHJoZlap61qyQ/BiN1Rrgc7aXsDqQSstkhHeYppki83v9kNu9mKoyH8EjmrtTItIlwL2+XzbwBAbUt9X8gcBCi9CIk5V+wdkx/ElPc8elu0TLN4FqmiKoB74JqcevzLHCw1bMMxeJ/tT9XJU6KpRbqdsVpLLlzUdmQb0AAAAKgBnnp0Qn8B+dlmRVJb+/7eQEWdA4SBEkYCny9Po8AVSKZ5S2z/XOakEeFEMo2uBQuBe2ExnRGppDF9zzjpMdafs3LsYXm+JtXtpgAK8XXEY62EsTYFtnd0s//2SU14qveOsiK+Gaf50adl8iLaAX2TAnRpj12HI+yMX7CRoJRRIgKtgkpf8LcvXvUs4szG2T8ceZbIg7Np2Q3eTAuzR9zHPl7eMOFJ580AAACrAZ58akJ/Afp4tCs0fNSpkEY3rRDM8oBIgaS/AtjtEAF1G+dSiBDrUQqRbzZDuTMIqjDtWTdgW2nx8U/pNGb3ACOrYm1ruZmLoDluLGP7Py031ZCSkNsxqMoDoOPg93AhgyNdAKmxF/hlGTq73DGeAJNIIf/M5j8cQQRSD27uZ7tKz7qHT77YsoOAGA5CMptO9Ua92qSviyN+aj7od9c845QLRptIqVPoUcwJAAABPEGaYUmoQWyZTAhv//6nhAAAAwB0deCzVpvlqAEsn/eNAVsYkHsEROD3SKG8ic7Zwm8DcO5P8P/S09jvKKmy7NXoYD/2loxb0LY+lYBQMRw63evl6ZF9ztqNcaw6bXVoZB6NUYHHeS1TH3qz462O65kwbDAO3PQXjQt3LbwQw46CDhDSCCuZSUFgVkwt2nrSYp++Nn9r7sGpEQnJJwtFbxHyEH6EcMPVmXIshr4vghgEz6TXMBurDIKqrx/XespmdGM7GbuiNfQMqHeqprLzKRDg80WNq6BeXdR2Ac8f+FIm6Qa77AlE1bYif3wrnBlDwl8iAVz5O2hbgTltqAEi8WSgFBoy2xJdA2Bx3BgCHILjHpHKr+TzG1P5Mnsn0okka/PMUSH9FlzRlu8NvM0fyk0UKcPQolsqSvCTuj4AAAC/QZ6fRRUsK/8Bk7DHyLCQe4VhNE0GKusK09xeT8Ukj2A6TWZT4ARkBNEDoHIM30MmIfVkhuqv38bs1YqC+4RURiWjOQ9nf94FrwEONp27wfVfEys7fFlsLLQKhizXFu/LmLaAXuEGoVEXqNzS/6CaW7S4M/NLJp5FumN4r52E+JsL/Qr3dejweIK6VnHVuXf7t4pd+qiUEvmGsadvuckLwYxB5xkZZXrkeSq116lf/AtjoMabCtkMpib8ZE7AB6QAAACYAZ6+dEJ/AfnZZkVSW/v+3kBFnQOEgQY1A2qb82OTnK0UADjETtPD5jvd+4wKAnbw8d4upyUC7cJ4dOpYNaYajsFDu1RaiNIa25dG5BOt0LL1pxerTiNPBC0f/LIercieCWN2s8TcFixHPaXaRo5FgSCtPuYXM89qXfQMANyrZ80pxjibBM023vHU1mAZ50uXQ5EanwuCQncAAACwAZ6gakJ/Afp4tCs0fNSpkEY3rRDM8n4IBIIZVAGvHdy0UJvg8lb8LrdZJMVy3s7ncM1D4IggiM5uhtf30hOtCSTiTG6W0IjzW4Kb+LbwM68Awucfwuv5st7qQF7Mcnm8sRr00YNe0i7WkOE8OpkLp7QgmB2/Nk5FYTBPFW7hLDb/t3P7PvsEJkg5/DP4wyHIudbDaFdMg1A8O/Sz3liSz+zDyLGMlQCewEXTX63rpewAAAEbQZqlSahBbJlMCG///qeEAAADAHc178FW/uAFun9S8IK/sPJVF/9Diiy24gg3qQyKOlijqCSLtrih941JwEwBLgTbAR1XnbQBfr2zlyGdeUY33gUBhcdcS26JdhZ9Xoq2uvXAxMonSxYsR+ol7m+sTF1SGz7JpW8l7OyA8/sdGtOWjLdTgD90j/FCptSH1LrQTbUsFpos9uD0FdOo8isV/qhnzlpHDr9UANGAcyq/mT59fKhQxnPkv2nPASqP3/5pLg9WT5l4txggGXR4wu9EKb+pxHzQ4E85tD34Ha8b52gqHEjrCLNlkvucxRNFXO0S0+pVKHknT1u5GjuWcP0Q3rETYHLZuZzNv4BIZ1vZPMxAqgiO83N7NeEa2wAAAJ9BnsNFFSwr/wGTsMfIsJB7hWE0TQYq6wrT3F5IweiOTDNyCU8zIAZnCIqLCRl8xdE4usN2jUxwwP2wfCD40Xv/b8XPWh47wsj2viliN9R1k4JC6QnIRdgA2BuZcJnxJFdcUvmtruDlumkgy+nLA1Fic8GMMLhoBvcz4L3QkyXImmdpJoCSVgUycNbXHY8k/DCKasTIAr1E5jIW6bzZmjAAAAC6AZ7idEJ/AfnZZkVSW/v+3kBFnQOEgQBBULAaY/6IEAKtGmYpxoy7P4/kVVElNO7QfuTVFJBmhtxo2UyLTBKoZw2siunczDUndQ4PuSz4hTxKOxMdF9EEb3fUBEuAG6D9nlzlLtCHMbrcklcHrkROqP2iQOlVGgSp00NZ874qCWN7BXQMrBlCFZR+s+n5b/C4PA5k1v33HKaFXu0QT1Kl+Ot1VojjP8rntoHm7Kz0DLodUALQ9JObmYI/AAAAtQGe5GpCfwH6eLQrNHzUqZBGN60QzPJ+CAR/PDgXuiEACwTikoadD87kcrQTunMTSmd0UDCnlYPCXzqy9nxdlaCJGSJsAHJDMVovEoobSjAwhuQg6vqPjClWC3utQpa9ObSwN+iRNxKANwZD+bfQMI5hOWONlNMx4kmG0OWKUvHrICniUmULW6fy/mqZsYQRzP788K9ypWMt7mAqYzCLcvBRXBqvXRqaOGfdPlBMDaoks2FWUEEAAAFdQZrpSahBbJlMCG///qeEAAADAHc9lTa7urr+DoAE61+QDMTuQlVQsLE9IZpdEEAA/dOIP3NmhK/H/x8aU4dCNkOEc11OeuK4ZNHa4hQw78lKN3Whg/Rri9yCEfVNRnC+tkP6SRHMJTQDHf2EjxX8FTYmn737fHtuUdq5VcbF5xoIHlXJdAIaN/XwZ042ogdJy/H6oQbpo9YYGtsCSUiLb1EAjBukxmml0UP11RrzKo7Dwu5CKxd4GU4sQSON6r4ioVHacM7RAX/OozS555oHl+u5o0T6JPwCUs/IMWWLta3tyen5trwRtTNT6z++vXQ23Q+p37FNU8WqX1CGDG8XQjIsF6/pz1jXjrojFj8dn6OkhBIWo5ww7CGMaoLHUsI3huMfdFgPVjYcqBk3+1ccmvICk3VmhPqXLsNLu3TiqLh8q5QOKrImOByN2b2iUaGSoDyMoQb7nRWy+4x7yQAAAMVBnwdFFSwr/wGTsMfIsJB7hWE0TQYq6wrT3F5IweiOsZmDIP6IcAI6Knd9rkeQAyZBzSVwwQI8kuXJ+Rc3eFa8z9WNTdnsCfH9J7maxQDi+sQqyHq0T9zP9uoL76J5sG+PkFzdVZsOUVREONBwwoGQgt0ZA9NkwqYrecsUdjjN473AzBK9UEpVdLqcCfqIiBmS6a/p00pPvREPiB1apyQPNz+uMzLp1xtgdffroy33IRovFN4amNKuQfOHUoosFRAisQ1P3QAAAMQBnyZ0Qn8B+dlmRVJb+/7eQEWdA4R3wwkFpnsgQAXF6D75QXFMOvn7vWx6UwscQh8XzH2ET4ctEu+wGId4bkULUaWKA/jVNdH+yDP7jdx3Fa2l9Kt6LXW5Dy5Fh0/7eIW+kpBhvc+X5RAqLt4/P3dDUq9TQCMkrhdgsKvF1D40CZmVORtuu5QTbFxSjXLY47RmA9PRq8U11TSevAW4OBAbe58x20UmwvlaVhQUQ/AmNXU8z0onAJ++KK87+/JJemFbfBZQAAAA2wGfKGpCfwH6eLQrNHzUqZBGN60QzPEnYIWwLhACKvdkn8kj9gh2m2rMHX6deW5TGrBH1Mi/PG2ki9IBSUoj65hdWRlQxhD9X8W8R11jhcbfL0D5V+r5v8hMG8yfH+xvSgC97kT29+ywyz4tGyTPMvWbilcltHaPbRCqAXXlWMkroZRKmZiqOm9u7QFn8kATTNxpvdLEZ6lyHujDQSJ8WaSXWKvgImKedvlvfQbfJc4GzmRJ0vmyx4CsFSVqIF34FYlzzNgX8+BlkbnXYbKDbf7F+raKmg20MRYKpgAAAWxBmy1JqEFsmUwIb//+p4QAAAMAcb2To+cgPVEzlamyJFf/X7Lm9lzNuOCBWRwGg310M2PsIqsAobmC7KWQS6eXh/+yY98FYjMzoc2DwsaIhfytrnpE3BCj5sToRuK7NUsiwOxAaZIpITzC/9jxlsnBFGKn4c57gxDZ+NdKRFcwW05puBcf52k7CUL2Im+/qfJT/IAZMfJegPFCH5wILv4snasiXWjYp3JaweDCcKeGcMzIigEHqkbpJPVOUu3WjWHZ5Qjrjbuiq2Q/iNkcv99lB+4RUDE1foBILzDJyggIYlyjVW7mIfd7fBDpTgs7ABgkGF41YOT6DXMx0HfAnI79BefsYDjSEhTpMYA3roL5uYgWq0XZQUb0FwPbWZaX7szQH5LCUyY5SNk3XxvvlwDyI/5ODzSiJ1CdyQ0uZUxnVFGFLytArYzTQMzdYCSv+MGfTFDLyJvSAcI95pqlYJFgjq8BAq26Ty7FdNsxAAAA0kGfS0UVLCv/AZOwx8iwkHuFYTRNBirrCtPcXkdlgBpbEAUVQ6vHPm3RR8Ilp3EMUYHsayPnG0dcIEzudbGYHRrrTvFJBb3Y/ZbarlM+m8YehMbuj6K+mV1kRhGqz4DIVGVfDCuF3xEwM1acO1EwUXEm39cn1XkHsXBbWsbdYjgvwfDODnpvSpmGO9S3/Pp5d4XBsgL/yPpbnCwqOBECIneRqv/Im1BslDlfgmFBkQ9zQ0Pp214/4fEhZUxwnD2355DM7VlT+9vFuqtOyIBWrGgS8AAAAKgBn2p0Qn8B+dlmRVJb+/7eQEWdA4R3wwcf3GuAK018uMQQJmrkFkEIfQuyYf8jfX0Z52rvrAqZIH3gmzRuq8tGAjm38fxp252rlRnuOMzf0CdtHvdx7exwoWs8NQhYY7Z7/oU56wtmnl0HUcDk75WDmVodJLF5l0VlMiToZCJ7nGlYkSRPB0bHpicMl8yWhEA1WS3VmKRzACnTb4f30nFam+ZARMMgKKAAAACyAZ9sakJ/Afp4tCs0fNSpkEY3rRDM8EvlhZf/dMwA0B6xBDMcLzYVgm6WzJvZwqpEtoEJ8MZ26MgP9/OoKXQ2XZd9x4hKODzan4JpM5gf0k7vt+tBM9GG0OEIe51RUhqv6+AyTKf5X4D02dn/1T6USOOUMtWETqCO/IHIrs9xLyPqQwivP9wIhhSV4rLjSC3OdyYvJ63LLDbWQ1aunqal44aeNiotgrwU07y8xP4cyzJZAwAAAUFBm3FJqEFsmUwIb//+p4QAAAMAbv2To6owAhT3a1i9VFhcERaO+2pNn/yJunIXpzHxIK2nXZBnwunWqcCKRl3b9kzzQiyFxNty1T+S7Gdi739MbOC3Gx1VWZMvahs+ca6xhMSKIJBeMmpNRBtfo7EjltRjtsx/IE1wogq6Dk600A5yZfS82KWzBxinyCU8a9Fy7M/FAQwzGsZ6XCuyzrPKQ5z4ntMupDdB9HQvN2uAfqFHj4fJZn9KBkKACwbJJX04pRgKGUwOtyQpY0EZEYCel66HBxJ5zVFefBogcQ60QkvRUwilie8VhcIdczU4Mw350kxm73bJsQTs2T4Jt4vtNjL+zGK9YC02INEx1KlSIp037q8XtYZhJX/op64IedY1C87OHjHCRpAah3bYi3pElvYf2nhobouaTpLOKaW8R/kAAADJQZ+PRRUsK/8Bk7DHyLCQe4VhNE0GKusK09xeRmCWFxviFb1ABEuL2K0DzQqa4apTNY+NX65HF+4MeLj3vOTNH23UTjPPjKDSIv2TihsD9hus72rt05BZ6MMJUGYlaR2XM+61OWtdYnUP9dILsH20n4+ixrWhHRL2WSq8JInPYWEAnA5NsctyiJGM+MzefmtY0QqN2xIChDDPtp4tvpogKzYPGZq8eYqhZ4jUmqO30s2WoullmQn8kR6NwCvUJNdN24gMFkR42JeBAAAAnAGfrnRCfwH52WZFUlv7/t5ARZ0DhHH2UDligAKNL25IaDzzAXAxtB+pArkriV3dOqFX0GED7HfPwkf54Cvh4kPjWhTjlgu6bcpzaklO1V2Ob/qCcR9QnGXNrrON9LcY/mAz5iRLSzARjhPYuJOk9BCTubTCCVUme4Bw1UPbwyQ99WhfBa7HRmwhVvV5kOs4qo5p/QdpfVHN+lQMWAAAAJ4Bn7BqQn8B+ni0KzR81KmQRjetEMzwTDq0QBXfm/oEVX6MSiuLLMOyx4Ob1Qa3C6CcCGIJCIq1bQTeTiUYbVgTuZZfL9vcpQanu4h6qdCHVeDcrsORfS0waXDfwVGGp89qZpEA3nejW25VvXplMCvIzhv/7DLOB2SwSBMkw4XBQkE3V9cdHBcs/ojuaVigIYRzM3hvExI+OKGZr/+jFgAAAStBm7RJqEFsmUwIb//+p4QAAAMAbH2U/ksW9ihQf1uMNoIAoShpgTln80RQ5xP/HZUaQmk8n7JSa/Sc/mFMGbMcZmINo6ueTu5H+P16QnefiIVB+Rkiy8KEak5uo23VnuoG46hG8/XFRf2tODZatizQjvfySl+YGaY0bQOnWE9dZWcx3a2oG02zzmZAFJb8lJvSIzzB4MfDCZjsis1PPgVwgMWw9bt8/DpxJxjzefGDHD8lRaNmwQNjLgpryzYuzz8+4dZpzemt/XjZ6Fny/4GuZta1rMub6Dv4Z0JRT/WU/5T8iKHdIS9hdMPJKEyTMeXHm/+RB7A2cgje8GuMN6FwjD5vbz4B5TvXPJ711nAMUhtrMH7flIeuz/aq6dw0SX9/foqVuVRFL6HbgQAAAM5Bn9JFFSwr/wGTsMfIsJB7hWE0TQYq6wrT3F5GYR8NwTwA6BcCzb/LD9M8a5i3SiLS2TuEtOp1fP0YM6nR/YgTN/aVqUGYZ1INPn9G6wmkWCw6C5BpYbysyu24NncWQ3mfF6TP41L4WTqYcj+oBmGd2PyPR2isSbV5AYDR4n3HxsoZ2XEjd+72xNdN3iLeDpmlXAmKWMutRo/e/+Xg50llgbnHKP3r17R0JjzJE9ItlPnZ/PlXUY+IA0SI5/lt8jCznltiSGe+xRABV665dwAAAMIBn/NqQn8B+ni0KzR81KmQRjetEMzwS+XejNAJr5X3a0h/OImqdz1RN6++Gafqs9OpLiUJP3oTQLZku3w2MIJXiHq+HVKu7oO/uNwHCnl+s1YnmGB0LOJ5azU6FkRKFAAPw8d7rkgdprMjFRwqKT+BPMvArIJztJK5TBoHdmqNI5PjScZSnxGloa1zMdUeUzMwVz39Nq4qDrnrAjQsH4OZXIX1ttcNXofkxoC3W4DgC9uw8wcK3OQJ4v8hOZ1jYkHt7gAAAPxBm/hJqEFsmUwIb//+p4QAAAMAa+/ja9IT70x7W70QnvSiQRb6YWeF59L6QAFdkUIzkie53ikFgyObUqSNe2lklO5ARl6vjl+9kbxOBvDwF8gA6vf7cMA0fY4i29uIriKpX6FEI/BWPUeIZGK48J9+u6lzc37+vWDQWzdG/MhxlRXBpwrUItIEAdS/mqzWxz0xI72DpMkuh3WCsoxpnqWlNfH2dzlD1w0HcxQUnHtJdNMM4ubDgdlFTboxp+TdLnv2Tm3bl4iIhwA1SnizbE+TMWK8MFVIWaVZ+OhORmEwv8vOcPOhFUzJZ7Y3U2ug+MPei0Qeh+DJ4rbvNuEAAAC6QZ4WRRUsK/8Bk7DHyLCQe4VhNE0GKusK09xeRmDwvH5YEK8t28BIhWAQjyp8yhFBjl+hAhGdtDxXEZseq/L9kIM7w/0PmZnSZKDCHCFEQOMuf1nTQgd15iYi2CEyDC7zxzmtwPxZcMHvPPqH4zBxagPN88nAbtBFzIUfBomHKgCqdU7RIwwahHEOEm/tvcZ+btUmyOLBaaYlAnMFxLMTj1WS7X9azu/iHsUtveDhuzaZRO4QjvreBqHTAAAAtwGeNXRCfwH52WZFUlv7/t5ARZ0DhHHJFwi4zjSLgABt+W/UvuMlpSNRrn07eFcOC2f4eHx5EFy081F1IiyPC15RlVhJ8bipNSF9P4Iw3If5bDP1Wv62wV3kfKh8wE5djd5sVtQdDzW5V81jN3ogQLk/1pL+zo4RMjoJYPWuJgl3+k/ur+6H6lCGWRZGSfHgvWqA6atnGcLyO0/GkeWHwGtsgP6jz6afk3nhPXh4ANMPsiDpyXjugQAAAMoBnjdqQn8B+ni0KzR81KmQRjetEMzwRZZb3AxbgQAIwKmaahS5G3XYrusCm5CRGhKjSvzCAqq6X75cDsIFzhAOUYCKEQaWTgCayO4HTT43InYpw+Z4/pFFdFkPAFyXdAMzuufy2PUBKAjAvMftgu+YmPfjmnBbb32x3N+ooaNzHxiFNa58e5ROcD0OgSaElk5YhfiX+QOXQJ778AgU/nT4pW9chKrqugat9BelNAiZsE7osURlAnXCJZ2UJU6Ym1/wfoBKnur/5QqpAAABBEGaPEmoQWyZTAhv//6nhAAAAwB0de/JyFiP4ASqMIBoEnt44AdOQ+z/hQjJfxbh0u5myobviX0/wQ2PAiPXsASOFAGBw8MEgYQFSPNWgVEkdsf2E3PfKjbkryd2+Nsd1tVVsCxrqKU/4vbfi49E0cH30ApzpsbYsVn2oiGVP9oQW37OkuRKM7TlGeUdg8GALlBDodCpyiNT4AqOmOVS86dcgMZecoXk2uWH1X/4PNghAHT0a5rZY8xhQrBEu/29qAJfPBVifuQPWAEFUhWia27xlYZGv6kwxtpa9QKzVH+sJ7G8FIPmKAyEEQGPi4povblKRrgdZ2vFsTHgoq2oC5NqbOCAAAAAt0GeWkUVLCv/AZOwx8iwkHuFYTRNBirrCtPcXkZjxNt//2cOAGgV3g9VhjCWCbJvk73NDVmiAOchA8CUzzjLdvp67AxNS4q2Jb+Onkn0pvRZmGFldVotVqV+ZGZmOEAIryiZyO9CdDIbAPW+eBVZBUsLqxRueJBG+6YTHX74BasCfvLwKAfe0HtxYx9Ybpl84uuolNY1eJmhaNgjiJWkX0DpkaOY3O2dlDYwFDgX/lyvt96XyCs5gQAAAKYBnnl0Qn8B+dlmRVJb+/7eQEWdA4Rx63M0AhVDa2JMo0yQrNyEzEZqGFbpU1CLsJpTXfqKTufZQbTf7VXJOn39TFk9zAhY66wTcov977EeEVrjwiHKqVDVr5qcBDzhgtOLYwG0vWH2b17fSkQ998AnLYJDX32NHX00ftwb/2vlhOWOx0r/2+oQLy8BM/4fuOYRazz2gGK+zaIKGjc3WM6/5OQCF9wgAAAAgwGee2pCfwH6eLQrNHzUqZBGN60QzPBLmjjtABW4VKXABxCEngufua6UPea+N4L1aEo92ocdVybZoLkkmcx8f21OhMrGLbq3HK+beV/R1XUwC5H0wYgZ9NR7VC1GdzY9Ln2EZiSNMlLYjTiRUIIjiqx0nua1wlogAHuDbtu+u75Tdw45AAABCUGaYEmoQWyZTAhv//6nhAAAAwB0fZUuTD1UzvcehNkJeXRvACzwYWOCBE9g4WxLpsTsl/pCmDxkawQcGMmEPGdOvvzGHr4ZZoQROWIoo/poFxa19NDTM9G9dYgBq3IqI2PuQfLTBk5xMqMhksowG9Wkh8AmvFLxNT/aimeAG/kL0okmIHzveood6/la5H6GeuLOl6QUVBjP3CsWygQVbk2iV6Y/69z+9pC5JvElk79StsT0jFxkRn5YXJKhNG0DexTNjw8J81ASCi07GcB1TCul+eTZ2UKZBJjPQPGpvdq9y5HTbTft5ZthwRyEo6452OV09ntHFgVlQzXbnLtqOy3BmUAlwPsT04MAAACXQZ6eRRUsK/8Bk7DHyLCQe4VhNE0GKusK09xeRmP8JgwwTX+8WLdq/meTOSFQ5vGf6W24IvHviNU8q70WI/QcuA/WYA58S1y6eUtNzhrUZpdPLVm8fOTbDs6rpQKuHHhNo/7FBMnP9F2vvvbOe0DFd7Jxe7l5LjDs5flcCOm0kNqoDpFfJ9/1oC4a47vGtdBT6Tc181D0gAAAAH0Bnr10Qn8B+dlmRVJb+/7eQEWdA4RyAJ+qqGh2IMTxn1IafQwR4ATTOS1BAIyCPZFZMyCi2YmOVeeLF152tESA7hTEQo2iwZQeTO15QNpVGo870CFb/IHbKMfyeq5r/PysG3X6ZWLUU375Uw6HEAAUoQiUTNdZ+JH6NrCXgAAAAIEBnr9qQn8B+ni0KzR81KmQRjetEMzwGOu+vpJzu0CG/FSVHhU8SQvABN3ZyyiPPARqcLybUOzE27nh5puXVo7/0TG1ndL1jK27h3T410s3zD9dG0QQfkP+XIIvRnt6XbyacBsjuyrYlpSoPwLnSKrBxs0bJ7nP7LzEnXQdmPio3oEAAADRQZqkSahBbJlMCG///qeEAAADACakBaRzAGCR1GAAjIFD1oXDzhk9REt2pdmTv8IF9xEzZAdibuwDWqZ3LBn7zaBVW5rho3bpTB01zzSVipZSY95GVoJxyvYz1tYlXzc9VmNuLcfttdNRHneVGIFS/RiRH+Nzje7rcdaLxbPxgPyFHgguCCh1jmQT1qIpvCMVkaK3lIcCH7D4PFYe3+hEP71B8xDYD3o1BvCfgq0LDKOdnGfSN8tzFqD05gFSqqazrQB0lepIZwK9b4eA5FH2yr4AAACRQZ7CRRUsK/8Bk7DHyLCQe4VhNE0GKusK09xeRlXb8aUDmX55BvVAAmxDuzf30dQqruxIoKTPL+T+2pBUk8TaCUha2hXljLgCui9lXVqGHIqB6gEWK0YJcZt2vPnRX7PzYFom+ZSe1W0hMZ0sJDRUTVsauTB9hxeUyV7EBk7spSg7fDrCbKuHJRXxRS3fngEMqQAAAGoBnuF0Qn8B+dlmRVJb+/7eQEWdA4RwrINHm3kRRpdlOku7/fK+QvABOHd7reWdp8wpOELvzq3znl9Wtu9PMF5SoulO0hoGrMV7V0nYsgDk3EcM9D8mN4/dFawIsaN2YcMO1ySp+ZtQ/CHgAAAAbQGe42pCfwH6eLQrNHzUqZBGN60QzPA/jTkAPvIQFwRgAnCpCmwCL+l/t/5cHJM7DUxOj7/Kg8iCgzuwhhnFHNF7Ir9SUEFlhP95RiOyY6MPWjQVQ09hivXDY8PoEVfBm+hj3A3j4Z/7iHXLDBkAAAE2QZroSahBbJlMCG///qeEAAADAGT4TzRcJQy1895wAmZD6aBaksVL6KZD5wdqJKk4Wn5EuinBynyH8ScHRxL6XNwZcf+4CWDiLlPlzbsn95HL8Cv4Qd0sWv9muTj+VbIFKg0BXlkrCCnhk+bd/V+/nJj2USEebZ3hzOmvihqEsJK+G1OzmLv2mh8RqPArbn5VsShegVTEvtmvn9J1ELYOT2cQjRFsSxDmHZp0kDtqjkDxpCqrRTJ9G1aChJW8i6/3Ye3Eukq7zm6RB4XjqddJybMKGWJGxDq2ZdtZCjQ0HhUyjgsjFKDhCaVzeGl+VT7egpmta8c74SpNHEQpYbUl9S0YuIuS2mkLPiRI6kHjIjvAP12ohaANE4q0sYPXhmdfnifPyfu1zJ01mJ+/HVY+6Si7ZEA/4QAAAK9BnwZFFSwr/wGTsMfIsJB7hWE0TQYq6wrT3F5GVg8mUIxVtAEKoozj1ZURhEAW1YaRTruaYjgDALdMVFTafYjMxvGk+U0Y3RjH6hrj1GOXVs7M6P7cx9mJ9Vzy1zbcWHSk3WcvLuajlPkmjd7JFiAZzN91KCDMMrWT0TTOQaZKuxYeznIliHTxdFtXIJJFqIUYPLUZJyUMvXkU29f9hRBTdK0GbKERKRI0iRO3qQwJAAAAngGfJXRCfwH52WZFUlv7/t5ARZ0DhHG8mu7Qm4NLQ/AAjI6nBPR0aU43QRlQBzZFavYmqgksMldaZWhzeT99NagA2PGABR4CDTBMEPWyf8nZS20/LZ66/JHGsoHX/yJhswZY8TCqShqyOpH+nN2kahyamYnbfXg5vXCtyCroS1bP6SumpsgdSyDfEzvDt0Yv0nQtB+7c8BcVZCwi8RRRAAAAjgGfJ2pCfwH6eLQrNHzUqZBGN60QzPAa1vP7gQA0CEWN3HcWOh865oxu8L3A5s/1m/eb7lJW5OiVbjibsS3IdUO0eX40atMfba+PNoJp4L01SAieLoU9Soke/+N5QSt37Qhu8XdntLgwubFyJ1iQ13JIqsg6AhD7NtY7sUMvPkf2ztJrvje5+BgMa2wbkRcAAAFzQZssSahBbJlMCG///qeEAAADACo+8Kwds0IBWiBMOe5SiPbdSqA7Yj+r+zMFP+nJrZznE5/nlIL24/sWCZrPAWrFRLsd0LnuavMTpaoH7abVFzzL6hoY7l1bihIfBQXMNqYfwhkmdT/R8uJpDd9bhdZe4Jff4568qT/2MRstbkNFe2HZL/HAH4PUOopYxkihuCrTB6UBwAZzZnLYe8x2QNTg6HdJ4zK4lI+Q3sYcWBCO1dqAaeJL0z1UnLvCmTvLeqstvyAmXFH8q7gtNmgKm+odvT1TUHhSkluNcUu1qNdYzEg/UewTINtj6y3CQvkZ5fq7ggjS0yP4ZtlW6foI7UMpkgM3yNEtLH3dX1U3mqfc6gElh34cQeC64nX9jMI7xGR4+1sW5stL3rV9jGPjnekN8OwLeesCdd+/D2DEShnWZXSInx2cA/vSDRefPgphIeVA7yd5DAah9oTRLh78fWl5gcjqqL0O34EqFLdeZUTxqmAAAACpQZ9KRRUsK/8Bk7DHyLCQe4VhNE0GKusK09xeRkr0U6hch4ISuAARqr5LqS2DGSyXApdelmGZnHfojf01juNi8u44hKvuUHizbAfNOuExMWwF6pGC56YuPjEkc5I33CfpNmyvEdko3tlh5XePQQfdphkMssVmVAtlFk3yntONg3S85drVeDLDDaLILC0lR49OrtQT8AnoXjYe9aB9wdNQcu0zz4Yo9ZAUEQAAAHcBn2l0Qn8B+dlmRVJb+/7eQEWdA4RwxjntxQAFFtZyRnX2reDbLCV7kfur3cEv/gaafA+2olVX/dGN5kPVSa6GKo41szWCu8pf9fn42wwab/uIaPk/E/bsqCVZKYnU2g3YN+T7oXEP6R64pnhKRnLGnhoQQG+FtAAAAGsBn2tqQn8B+ni0KzR81KmQRjetEMzwHDxKqZ3ptdBRee9XBS+CzBAB5eA+FNvSxRZ6kaal4P36c/oxx7CXPXF80Djsp8P7ciMtqzqNl5bzh55bSH3EVwHOfHHODnDZgAvydNshoCcWSwAKmAAAAU5Bm3BJqEFsmUwIb//+p4QAAAMAJt03OeaKN5UKesAG+5dYebhaHPVqpozkVEl2+9CM7XvLkkGXvVUI7lNkRoCSxQbWmbZYdS722RMSwcrm/6gtajd6qHE9VNnM+skoSjpKth9qZ585uyZKUyLM891xRmdCJTHaXjN5JGSrbHWPLd6vpKrsKcSOLqJF0fwLK8/WG5hg8Yo5AnaTwx6Hog7bZuqyBS9d46BmInlD7+Byp42nf30+Byt0pebMSq23H1C2nAQlx04/8spmzf192cob8YxK9/i6FTI7mtcOn0/tgs77n4+MUktrO9PKC9KSMZ2AFI5KUJFhTRo3LhFtnYZZ+4BS4xfDTte/+3SRYjWkkl/6QUwgbmcBICYXSF0qKHB/4BdbNUOBuXh7zJh+pkK63CaJcitqqM7f2TRe/MjVv3H9brlhI5S5PWbefythAAAArkGfjkUVLCv/AZOwx8iwkHuFYTRNBirrCtPcXkZK9AlqnfZv/QAA8q4nirx1Za9lB/i0MIaTb+s7WqYs86CTi6JWBTyHZraJnsv/4KUBM+e/B+QjBj41D8KU9i4nkoAfO07fzWBLsgmSb0TPHxO7ezC+36v6xMOcDJSXoV49mruqbzePMYSGoJmM7Cc8Qv3P/J6EGRDN08nUSqgkc6QsjkgJdnJzBwNqPvsSzYAg4QAAAIIBn610Qn8B+dlmRVJb+/7eQEWdA4RwrvhsiM0AH0kxC1p5j6CSToHEJJi7m7FsYasXn+gov+NlNUHx0xnIn4+dl/+GdpXp5m4om4mqAYxQ7HJ6yt9B2o0kBzVv5rcEx7Xq7gUguXM7fK4t/0147UtgYt11B/fzbrh9hsj3zdXeThnxAAAAbgGfr2pCfwH6eLQrNHzUqZBGN60QzPAXVDpXI3QfhxChbxUQAAN2S36nzuoeHCEgjldQbhXnj+0HC0Le/weMERgBzDfj4KQT1QW2dRxCKGIiOP6ybH1JcpTbeuPXlyfiqS8u4JcUmXe98LYKUAy4AAAA70GbtEmoQWyZTAhv//6nhAAAAwAlpgvwBffLH/7/I3eUaQW1VkRDRDgFV5HRHSMReCm3jgomhkz8yGhf3PV6k9fMtmXOJFGLreF+3DPHvVbUbdRPaZZRLNPwrn5geimDiZ4gico70D59h3GJJ2pqkCpuUqDi+OE1W3ZIR/Q/qKHXMokO971OAnqZZvMnkG6SG8KonElSIQSU8w5togKyP1oRex5mAzg+HL/OTRCOc64B3kV0lyWhhVesi6naGxU+3k09boy1QpTPR9tQ3MoXkB+FpjYavfWEwLxK+9icKtTzLyK5HAAlAS6K1Ss8tcwsAAAAjUGf0kUVLCv/AZOwx8iwkHuFYTRNBirrCtPcXkZK9AfbCpn3LcAH9IdtHOOEbYHbO3lGjJ5O1TFBiz2FGOhDvvtyBLGbmq1tIOrQ/gNzXHaJGblFWywZN9IGc2CNgSZNcx4nGCt7gKWMhwlz9ofe/vGaKNYQmeNyfin7mvKEz5abpK6N+J/Xv1dEraAPWQAAAHEBn/F0Qn8B+dlmRVJb+/7eQEWdA4RwqWs2eXshutk7N+8CAK0MKrPLPG7D8vSVzS13c5G7wtROL0654gWJcItPADZw9o8dv8s+WMruIGDpRNl+bO4Y4Dimflox0XsORrTpj5khNadDRakK7SZSqj2C2gAAAHABn/NqQn8B+ni0KzR81KmQRjetEMzwGPSRq32aZwGCvFMagAQJzJTVchq8E71kWMz7uz6HDOZuHsaNO4AM90DkrlvdkukPiv0jQr8bds5c4PAfsiHTMVbco82AP/DDcKGkRyjyo39V971gCAJG6oHHAAABSUGb+EmoQWyZTAhv//6nhAAAAwAkpgvwBfwJBJAvXR26ldzcJekCLniDOgTZDCsz/i+gwu1M6Iy8Bw7aMBWjoy4NISf6kZR43eugqSuho+7pSB+GbXmi2GPJZ3a0MlC3GbyX4oV5tf9w3PMOSVA100pGctx8umrRUO829x82GlrB1gtMa3wRWfaBbdHUvRs2RdUkDEJld4e4FfGsi6tMIUxc1s9FBrmmb8Oy47sDDXnxt4d5QsxJlXDU0DtK4v8IUrRHB4NFDqsIrh4WWcgP5daKp6dvC8t+7oR8lCOXVhToBwjMnEZfVX3Ss+9lK7FI6lo8GNpnH6zJzubHKtsWSxLhKiikLUzkgpS16IxfbmreeigTc1ZqBVa/NT7wD4v9WfLC2P6q3cW2Z6zVP2Nolm1ynDS4NMbMhO5X5jtEXvlL3ZBdoHo+e15xAAAAtUGeFkUVLCv/AZOwx8iwkHuFYTRNBirrCtPcXkZK9AWdj4ZiFnlQMvpnl/VKAEKLTYo7lSJbda11tmuJ1oTvU8E0cmnT9+ckjRp4mPieI9RAmoxdbejWmb8tb3S9OR/KLvsYPE+08teusAUkk/shObMx5oyvDizSZVe7U84A+oUE9dR/EBaZdeOq7ZaqaSGsXSny7iROgAPlFWcG8QoatyLBE1+pZInDSlODCa+RInE2AGwALKAAAAB+AZ41dEJ/AfnZZkVSW/v+3kBFnQOEcK3oX9Frg8h4hL8n6V6IAH4Tcd20dNJ8Nyv6h8HQ0TVKzlQxiQKNFbtnxpI9KWiZQztL5eCoJN1kZcKiUSMLTXi1Mp+ls24j4oqEhLrhRllDYqS00HcB7rKw4VPcNMbENYM+4AgA5QMXAAAAkgGeN2pCfwH6eLQrNHzUqZBGN60QzPAY9FoWj1UlmA6vhEzxcVaQATti/KzW4AqcZzbSmJ4ESc2cGL46q5e9GgrqwRsLUP/8uWTjYr/umO6Yc1R468v6Eli737dCIs0IPqOS2Pr7kJnTz8X1lW9sWUUYVdiruNyOQJVBIyvrorBxQ67fRenGPuLiGXjXN+Ih2Aa1AAABc0GaO0moQWyZTAhv//6nhAAAAwAkpdUQBQC5yVaWFh1prWM73zmeYFKvv6tqx7l4im3MnTd8Sd5oINkH6XIQia2b7sTYSX1GR2Z2ktP9xB8E8vJYf3PhNO09uxX66+L3tV+LrpFj44io/KB1NDNcpsHQixGk+TSKf4pBBId3hbiV24TWqy1iDeleqsdbWF5A3e/M70Sfs6C6ooWt0q31gn+lmVq042qx1859G6N3mTVIppT0kw3aqTtDDKKKl/2phCz/Ts3lPV2H5z46Q+zCnUfXGRdZHUK30QHiB/cEbPAnr/+wV3wR9+FAVqP314hZuXy3hS6q95thj+1YXpFAkpOifADQLfEhKgF6hutuiYjkUSZxHOtGiWdCAZfMmGKvCW8ZwSGarLdpEyfMUJAYoU/nAWISZt25jzcM/6SPbzwxJmpLnc/+Iolg2LeoFiupUP5tpcuQmJc3s9E7yFdfnBXePbFM8Df27VI754V+Od2RAng4AAAA0kGeWUUVLCv/AZOwx8iwkHuFYTRNBirrCtPcXkZK9AWAISFHzvoArfdUOPsHP97IOmsdxhSKlA3jZ+PavKapttyc2aEz0q+pEE/jjMcIqOfGM6YeoPlqJc6xnrKgXSheyt4cnMhOp4w0tbgvMOGTiP3KghzJHto9m4bWFGSVSAQ/4vTnPXeENOfFInfGz2R/R/FCuRl1PO5qxV67B17+Ys1uVTw62NgBYDYopyBM0jwu0VoeMJ+3cNWijyEK2GMrcglKU3gOd6dvfmcCqMCXFOQIuQAAALcBnnpqQn8B+ni0KzR81KmQRjetEMzwGNyqAwe6FMDjoXeIARH2Jj9W2rduqUYMhvRoCyqiL2eLVAy7jdQiHVUFjLwdETTNhNkZ4NptQPsYLMBpvJO/6NVN8UeNlahnXCTcQ84lASxRUHPYL+LFMSgaext0gMBjO8mEJfJX8lVxthlkylSm+jNlm6u+ccUChHTUnS1E28fo1bDYJb4I0Bl7O5ops3WeeWCeHOYQ1ZJs+XTCf8A9gY8AAAEYQZp/SahBbJlMCG///qeEAAADAA8/re5CPu4KvT+xBWQDAEBezU0CJK7a5O7qP8YJtgn+TF5X0nr9skI6IJMkLN0mYq0TuBYdypfupkC8Z8DQosqHXIwfYWHfeHlk0ZwvjxeVmmpWaSekVWX42OdRCY9R4SS4XrEGCoQhje+EegXq0+Q5FDkK+ZTA73gbzlrM40E18zONrgvAHKLAnEQ8po9oZMcmdGpzcjn2OcY2bUN/ojLCPExEZh97adMZ6ryC+SaeHe6VRnCKDyv/bjzGJoXFkm1p876SYUG5b9RYlglq/7Ol197cj98zN4GJG2sMmy/5ylL2Vm783lAyzYiTWmZcWMIXvHVPUY2ThlQEl0J1jDMruBWYMQAAAN1Bnp1FFSwr/wGTsMfIsJB7hWE0TQYq6wrT3F5GSvPLMzWfuzoAglDszid4xlNufCGDlt9qmF1iAFQmWTyHr5xH2PTBEy69wL6ngW7uoSeY3mLTBXHDZ5ib8WZm4DJudXLjoevKLFjxz1O3WiGCVgWBBltM8S6HkbdagMOF6l6WYfVMxRnaqGZ8DNi6QiuAMLWw4mzL0/wp+0Ju6I8GXWliVqkJ3zczPt4zYLEQ1244XzKWjm6L2uM8aAeFNSfhxRvV0DXRhYXqmv7D9PBRhleQeTzbgIX7Nras0gCygQAAAL4Bnrx0Qn8B+dlmRVJb+/7eQEWdA4RwnOnXjtMlB4gCbokod3EzwRE4T/w6YlZsX3e/G9yn2HnCwY+GAaPwPhJVaap0vAlJA8YQMMDGz6G9K+ietjDAWGtcicn2PzFqkSFbo0iNxtlb+Z7JA363YAmpnuifz2Ley9maUgUCRRK1y2N0L3qWDtcO6d6wa67BMK3NJzJOh7/HpMQ/fwFAc8WTULJ9KK0CM8jeAhiTTzfQSDe+t4FJpJ7Dx/N9nAwoAAAAggGevmpCfwH6eLQrNHzUqZBGN60QzPAWtj12ypJxmbZXZcnEFtQw2fABaKS6MygaxnY5eSben6Dsqg3d6g+SBXeYlUduBl0OojGqTeH13CVMjIGiLPF3GdofJcKNizWymdxL2JWfDP6IvvwdM6mgd0XG2Xj07tuIXkv3hRf7zIDog6YAAAEpQZqiSahBbJlMCG///qeEAAADAA8+vfgg39wAmZD5ft1hHWCvzS9CRmBjC6wbK/j2fgdLSGyRtEpH8JmzNHqjBbb6VBnD3+Ke+l+c2slphsX1PUStZ+286uvzWAkQjhmmON4VxOD9A4sIo74zMjnmRd0SYYUA8b8Ho2Zqtuh8874R9/gSaVPODR9xZ6mP8xUnujLAOUsnzTqXKNCYIgo+zS57K8PR7hCo6yK3/Ma7mxji1RPEcSQD69aHXOOfYrlbNKMeW3kLjj4nCGo173sl/pINwPuEsVwGgyMXKwL6vqIrginImB8qmG3SG+kJR08VfN7zVNTwaOYYrKmEmCBp7Il5uU6hmjlfmNvz7YyTkfhwA66VbYf90fzdo+yTxMbzzUln9pAALKbhAAAAskGewEUVLCv/AZOwx8iwkHuFYTRNBirrCtPcXkZK89/neH3ilcPoxxkn9Ghd9GcgA1tEqPGr5EVRuqV0TAn20YUMjRVXB/euh5nIHHK5VLwCAeIXUuI8lms2Mkl0AT+fp1I/Z9pz/yjxZ7WNn23/cgRJGP34p1MvtwpSuEinMTmSdYa1HbPfDnLZbONpJSadXutFTdPypZTb5nc7p77bKAqFosmXwiZAoB1pn8d7SkZoBSQAAAC9AZ7hakJ/Afp4tCs0fNSpkEY3rRDM8BcT1cb/nHfwBxOpxcAidGUFjHEcAMSGoZML8X5PDLnV06l46ZmuxgLsfTr1XYYahCIu21wl99IVK8gmNIqzv2O5Thkn7Km44Ly7F/ZDiWc5Zg/uLSPnBP6ER7huoNujwfL9GzTSe+CnuzcmWMdR+4frL5KswKEwDPLc9HUw3i8ZYySLRsgE/naz7zor4EQGWkJdQkS6ftjXNPXQE90t7/aRZoicagN/AAABYEGa5kmoQWyZTAhv//6nhAAAAwAQUvm4AiDWW2UZnagpL8Ilfm0OuBRpV5bxi+4WpQnqT6SbJzhJS0TJgwgADGQ4ecHF9KHraYxAG+m9XmYUlswGM+zFRYS0jxJnLkDedSStdQr3gYCoNflCwLsV9ymK2xKOYp5blwIaBFIKcVY5bpQV7vFRD5T4wDTgx4U0+i4orhqfjTvahWTDTRzpxHlPGZFU+IJd1zyK8whbUpk+36UqKg1Bio+lc+ShlOrSeXI2Xi2DBHIVjCGrVAAynuUxO6w+WKqj2Ijx4U05j40fb4n5UnVeiSazQBRxBaQzWgSC0RzIsoT4tGNvyNU3neZRYIVMTO3lCGiPYsZKSMeJLI1vlCd+aqblxtf1M+4ObDaL6KmxepaLRxNEZK2vaLF9SUkDQkfxiFSU138Oe3IGPYNdd4wOceUJbMgbFl60H/qiGlGjZf0Tvklqx1sv0LgAAADgQZ8ERRUsK/8Bk7DHyLCQe4VhNE0GKusK09xeRkrz3+d4rgCnEyBwrADaqcz+7B89UdnWKKSYXKKKRyA5h+QYB2xZR9u7R6rgnT24xC/DMiKyAERGhigRLGLXx4O53Zua3zFodEu6OGXAgr5fDScum4IbBUJZUKn3jVnAbAXD/3izjbW7NVxwzhbkqMqKP+CWcwfkTD+r93UZ7OrDp5u8++wGrYeeo/LkYmoxEBRxI8ZTf8Rc5YzQI+qRnaF13hVKS4ilQfMdWJ3zZ3Fu5kkZzltVmFBV2y+XBKb3p/CaBd0AAAB7AZ8jdEJ/AfnZZkVSW/v+3kBFnQOEcJg07KcmFSfDkG18cAEdnSE9Zo49LaV25dO280iUov89MLxRL4ZJxI92vteYXYgwMlxovhYdJd15iURCY6+4WxH6VP9a56Xxzx2z/ndHhB2mPCpqyn6m05wTMvCBnYhDXABFgHpBAAAAnQGfJWpCfwH6eLQrNHzUqZBGN60QzPAVfidsm+Ujdoy8X8cQALBMzjKZoW21kKKUGjL7MKZuGMGqml7iVROTiJAw6kM4eEpYkBNQBfJX3l3J0LdQjOUj90tqcccHF9g8U0uVdjAonOIb6YyNZA2cOBu1rWWFIX90CON1OH4j7oa5bORDIDJQNLSXqrsQbyMKZoA1TtQyrS/G40V8K2EAAAE2QZsqSahBbJlMCG///qeEAAADABBvkat4Tde+CrHPABy3+/pH2w0yU0z5YiKyap/o3CGldswDO1QHR1cc8ZJlBIm5UkILiDQBqn8DSpPY75UJ6GBGVeRgD9plEPWV5cZW8ldZ/p3Fj+3NhiWi8U8M21ag7qKmtTrNcfPD9UW/8KRK6YYqSr1whSiMjB/uGMfLXYpZOya300gU7xlAI0ipcz7Xo865N0CsXJpZjVN5EfW8k7csjcwvWwpD9IofVcy9nb4gXiBLCX5ZPq4+mUuPckMsVrfC79ZGtwhdqFymIL709vkzezl5Q8eZyLEaQ6GTMMJMxf7aL0VqYP5YL7INv2ugGirpT3HZ1zc1oFgZ/csWqRkAE67dHf/UfBXn6UloOW3mO1x8uLAGwQkrhd5/1CrxVph2kQAAAL5Bn0hFFSwr/wGTsMfIsJB7hWE0TQYq6wrT3F5GSvPhU9mdtdx7ONP/f7WgP9kAAlGhEjwDyhGtyk59UuPBtyyHnCuLH3d7FS4e+hizMFKWOlSHCWOhhIWVW5biA8GQL/JENkkbuAcWs51tK5PBCgqUL924iKWXIQVdnKBUVdKeYg3FLKwr06a78hTJ5gF4xeenIeC55Aj9CXSOk31fzaDVqDNQ0pk8yojON13c8vnFFPVQnnj7WnUfi4p3uBBwAAAAhwGfZ3RCfwH52WZFUlv7/t5ARZ0DhHCTPVoUIzMgDo/SlLCJHyyEujyKNUhdvWz9kNS2hNNmpxyePh9s1KYvHBeSWZoAZ7dgafZHF1tWV/NAK85Uw/RVySbkNBnA5HbYRezJ/JLUQBtHgYQIw/0y8ECjy9eSzlC7hVzLV8aPLcnp5v+ZfFAQcAAAAHwBn2lqQn8B+ni0KzR81KmQRjetEMzwFWZHIINyWoQAGu5ahRojqnefET9IiMWoJZdjrgQn/or0Hk+z2swii98mGMOTVBqUPltJg2sbVRBq/8PdCMqoeCeIjHoaJmqlMiS2hZQEZ739MZbkhoPPsWe3TOo+i11nFx6CCBxxAAABXEGbbkmoQWyZTAhv//6nhAAAAwAOj7Km0kgtQ/FBOiilRDPWAE7dm4XXeFEFlAyNdMFUXoQxT7GuS6JllnCUKEzAWv6ex15AFZHZ2/0sR+b/Ev9M8en8DGTdR9lC8xgJeQ8zp/aOlfoHwGNnjqnDiFUjRFbawLikKmBkBkf5JzrZTp1L+eDPSicxoc5cWcHgGVHAL5MKFhqN1VVjdFGAYwLVApOWfVTnVwLGgPzUOAILAxeTb/x/oCPyRXYO54yOwIQx9NKev62QLEFwx8oDWHObvA5DOwf2aFckrSAcw9Ntnu0Nk5Q5sCpFGrDR3Ubl+V5r60W5uI44RGlJJ/QAs+awgJDEuIHDTqQfjk1VQvzOetsH2d1Ez0+4u8Aky9zIEKFbHmUIS06CfaGObeead2XJb9S3EBkFRvFep4RlsPEOMvSJuxUl3EY8sowdT8Q4K9Aw4bqONk3MdE3tkAAAANNBn4xFFSwr/wGTsMfIsJB7hWE0TQYq6wrT3F5GSvMht81FWUgC/FQLWPfthzk1TTRJwRJdrzkXzN7zn8rWkCfibVc3wj9p6+bixyBSg2klh6CRdhwUUVH5pPvWdQH/WcfXGMvnsZmOCRCFhCiQilQ4o3G9or01v/fn4or8s8zq24oWPWySRGKGp1oP0YfUELvP/uOlTU/F7403vuAfp/4+bbNCaforgo6darhkqQu/XrRUiDkFBwhiHj8kleoXPiqqoct+nq693AA9kBD9nRqt4D5gAAAAiQGfq3RCfwH52WZFUlv7/t5ARZ0DhHCfba4oQ/gHABeY8D/LrEwjNmSDBxn87QZrOMewuYx5hWZMaL7EvG8K3Upqk7i6lsXIbKhS09f2hN/lo8uFI+o3V82Yt7zLGpjtrybbKbGIhBTy3OY591ZVdwihx4QNINB6Ob4mr3kq9M79wwPzqqjEoD1hAAAAkgGfrWpCfwH6eLQrNHzUqZBGN60QzPAU60wbu/gBz4alm/Yg7t2Jmxiqs8VcNgWISl1QJolGkOuqXwjwkQfb/8kjT+TkKZRRESZ7fzwLogsO/xmTHBFPHU5iz/R3XTHzbcDb8CMa/FzSXjCh0MoLRFcLA85IB1neAzVd9tBBM7EEqlKudVG64lr/aypL1ZgA+As5AAABEUGbskmoQWyZTAhv//6nhAAAAwAfAgEgBQD+/J81Gwr0w9oMQiCFc2zM4o8Qg0nzvdikEmBmW7+4Wm4xYvO9TQDdo5pk805B3o7XVIOUZx0Kk2flioa2Xev6ln0sHt3thdWMTF/+qs4uapNWZ7w9EpKWCAeL7xweCmUVvbTIW9cm3cfhIjLMASSbCRAhqj4g0zlXqPhKeYKYzslW0EqTN+GTC2U7Y1VnMgt9wvr9OXI+IK8n2nV4VWpAZPHXhFEQlZ6KAiv7F+9lZGOM0KgV/UliqlZAY+KTUMKtUq7X+pxLhjjuVrPhFh0E9R7laCZC+mq2Nww1A5KZFjZqQR0/j7jnd+D3fAfr50UW0tBE7Mg5rQAAAKRBn9BFFSwr/wGTsMfIsJB7hWE0TQYq6wrT3F5GSvPf53UA5xYzOovni3ogPxhG8kAQSiAMde0RkGYB6+Zz8I3j8NQ5C90eltWdNeB7/J2uDQiuQOdWrWpiWFmzI3jnwgS808HeS6rFoFUt3MREBCfwqCA2s1oP8++3pliYZSl0DjYqRwxdifAjUbxZpk6RQf/kzJSOdefZL7zcdnTXLKQiReKCPgAAAJABn+90Qn8B+dlmRVJb+/7eQEWdA4RwoGkbi2fYa0nvfUAHrJ7LhluUXYRv/9uEBA7maAbgmTlJv2euYLUZ03Mf+7jhhWujbTEqfK+GuvUt9PoruVZKdCTTJ/SIL5DUhnsQuduD33OPGnqJMGUxOL3F+edF2xvDymJPZaafdaKXq2fE+7Q++eSZJEVDZpyA+4AAAAB7AZ/xakJ/Afp4tCs0fNSpkEY3rRDM8Bcs5UA+bPANvyKjW8XgQv2JfpeU6j+9a85qn95LrI9PiBFkBPQ2+bZjM5c/WnLZAx6U8wcOQjYsT6xL6Apcx64R3jnNqcTaB8sRBkTWMKp7Lieg8jgd91lG04CCAm30UKRvsBJxAAABZUGb9kmoQWyZTAhv//6nhAAAAwAfBPFmKfDC3gAFlTgirt0YeWruRtW3iQTUqhy1ikEStmKV2Ail1aa8V9xvwcEisTq61KzavOwCJt+GavCLucHI4mGH6bfmdp0Y/V+6GkhVDXGc7sO91KTUpFruN6e+70T6ZOsT/VSWlcJOzaMw5xIMs+0f/CsfLGRGGNeWjU5GEvGF+hvGPDc1IJhQlP5g2tusapFMoeZSpW2OgItneCfK12HmotKYBxFmNAbaXEqdv7hDyDUoYOyyTvjLW/QVFGZtj3HmafgZ5uFAKoKY2fq6LJcwtSGiZVHooo2qKf0jAcrBLIjLX2shX6Uj+Ip42ueokT4AmP8j8Hqvb6JdQ4NkEb3Lo8UblOW2laI8+brLtJBzf6Z40b48MuRwNAzEcvdg1/0uXU+5A75wZ3iFGc1VViEck4j7NsZpAyOwjNL4AcJmrKwDq/4yyB2DNYAdj+8eVAAAAMVBnhRFFSwr/wGTsMfIsJB7hWE0TQYq6wrT3F5GSvPfx9wRkLWQAsPkk4DpEGaQBjPxttlsOr2ZL/V4KNcA/5fgxnxR2dJ7EtaRipW6nnudJZFk7UQu1SA7rYXt/+OUM0+Y+CQN0Yk98nUR/YFM052hBA8a7q6MGM3CLp+blJRArzuKVul9M8cZ5wPjWmUx2gwu14iigvR1Z/B6wL12776EfWSkceMbSjRNI2DcKNLu/iIzH8sIA8/7xTydc5Z48pd9wHCBgAAAAHkBnjN0Qn8B+dlmRVJb+/7eQEWdA4Rwn1LS0TR1fyWt5bhACdu0/M/h2HkWvpfBdXAapyRnX3jFXy2ceIwN8kDAqY8zQbtJ7bdttKCstl1LAdbUhAIB/JF3BohDh0Sjt8buOTXIYG+hc9flZ7TWKMOm9MhpQ4r8BwIfAAAAogGeNWpCfwH6eLQrNHzUqZBGN60QzPAXE9Tq76VsH4AdI5cXwskSJaicZ25wYvXmE9itn2eLbkx0e8DHoaF7j/qn/auOidDuk2pL8isKsnTcDXkMGEQcuZb/Be6+H4+b7lVTfHZ3LqQZnyNAZGZ9smQERr1hxtcNDEVXtVsdCSPKkTCpHI3m9s1CQeW7SZ3DA4Z2W4vg56MCr/sZdeRTzqQKCAAAAHpBmjlJqEFsmUwIT//98QAAAwAB/OsJaCHZelQACY1BVFjBtbEnHxh3KR4BA9tSpVT80YWxN8jcrK3PPf41++4MQxGhknYrdWzkay5Y057rqecbWEIvTy/qyHj4OQS7C3kZWLQyYBPT7RvpQhAVH0SdZW3aBX1VViWS8QAAAHxBnldFFSwn/wH6vdmBBhqUD94BDVWzK/nhDmRLYStS537OkAB+4NrYnO3gwbkzxy/VlKlVPzTQ9iqAMnm/YgknoKSuyy4b1cC1dm5PWPu3v3U9fttK2/70rk7wFOZr/51E06s8lRzJ3x+mjCM06sQsw6FFIlM9raS91HTBAAAAgAGeeGpCfwH6eLQCj0f1jWdtHx6xsM2xdj//BAAmrjEVCKB08YPzC20D1w5JKVFT1koI5i5Zqs2LVyFC0sMDcrR5f+rGwx2Qe4+Bk7+5I1HGSb3LUC+aNvbHienHbToWX2fseF/m110/SgAPIyt5cThEoijRr6noi/W3F6hUAFbAAAAIuWWIggAEP/73gb8yy2Q/qslx+ed9LKzPPOQ8cl2JrrjQAAADAAADAAFHh7Xrjd2DW0nQAAAawAOkH8F5GDHQI+PkcI6BwESLwC3FfYLCqGZgDLN2lITYUwqvUSNd9rVDXl/W3OPHdI0gUqcrdOcjGRsybnOvczZyIF2tDIDgAeUUCXDJIn3xZY6B7uQCDVRIe+X9Sj5ra3ZSRo+LCWTsDSPgKI/5uAljkW+9ScKawe+Q+YjP6U+MFkMuqReYyiNt+alB8epMDKuoRx9y3eRjLGohsQVyMb/wpzD+rYWg7xzREJei56qb6plGSrfgExgzsCwUWiOTh01nj4cgn6+1QAnYGEjFZA/PZBXNO8ZUH28wEqBK7APB3zM2QcR4h9EDZkj7XiCk+tUcXUoaphikjQKyM2IoSDDdIpVbjTcYohFpBT1l1spqBpypvSqkzZ/x4iUWYe75rAAEFlHBtMag8fzjFPAGWLfipT5DXXVBO1rNM4mGqy7iPIBTENHTPirf1UkIxTXmS/21/YCSe7mwlWYafxwp4FXTGMzOehsU+dGhOVOEtR14zjZxM3+88VBJBD1GpW9BIAxnqklfhN++tymt9FKymxfaE9hgG3oAORwfVBPkde2RVyZkSggGhzManMtP9PCE7encOc3QNZ654wNtbIRW2dKs/sZ2UGe8v4/G6VKZVIs5FOOScBxgMET01FtqFgyHMlfvHf1XfqU6BDvN/c4YT0WMk055FE5IWKpC5g6PYTjUxyvMyD6tdTF6l1m+Pm145WnosIw/um4X6K1niHrMikmVXQELgyCX/G8Klv4+s/UBD+6K3pmYSlrOz/IY/6qT7ZuAx0L/iIz4pZ0kw5x/05BolR6Oo5OeY+J+HMSPBMzgBRZHVUJjlKIrzSIvgQNcS0yy/whbLXUcJFLn5qemkyYr9Je4NRnJZ179ju7hLJ+SKxpwHW3V1iJ4aDDTQCbW2lJGYNUPy06wiE9/HxyGKyabWr6/EcgjJdwKAFR/QFOETvJqmpfjrRX52sHPygmnmeyeiq21TJfCRi+TdiPWlnu1fr0sOqqTPiA99Yzibw8laYSGJMWAdP77pFNgq0isuo0Sc1aKGwK1VChwssRNsvRF13OJOWFo59lXkPJ68uBvW5OTR3TcNul3fzNEN/7b6cn51J2d34Vmfe9kcTTLzeARn3btEdFYESAsXNrx+XNUXgaF8cTn3VRB0SyYXzZRI40ws0gT7kKi1oVZFfSdZFQ78OiVW8Mb1lzFVgCnvClueZXnxKiIPvik2BHHgs8aCCouLHI1j3CVMhrVR0FgqBv4OfhSo0prkL3iojWPNbXeQ8ANPi7EY3B//yy0A0YFXebACZDoaPapXzO3N+Jzoe9u28jeCC3mGUBzNNbo29Ubnnjtj+Q/Vu6QAXxY5xrTidfUXjYjc7F+9SbaSyW1O5ONNQvG/+uRAq+hGPhFM9wsL/UdQcHQz9tIZTw5YeOaLSDiKaRtNa2a2nKCF4s7vIzv4VUET6rjfwZI/J6P4GLwuoyg41OgXJi64bAOqy2Ut8DatYQqPSOL7QogsfSAX3PX79M51cy2WlesEDADoybukn7XCxDCpfUe+s3nvLJP5MXAShR/eNczNs6mrKP1X+GyFkJeJlqdKAxQenwhp3PIczqn+upkw7jePMXdl2XY89Uz6kAWLR6w1lBuufqM73p2/bFMjaJX+jnzHPxoqP8oZms7DeoId2Mi9cubZvvIH10wsPoPRAgknZFCnHjjs2FKjw8MfOAe2gMTDtx29WP3yntjbUpGAinFa21Ln+zu7rM2gN334FOBp96Qaez2dURbGLT3Fz+EhivAnVoKDPDKrRody2kX9FDmOyPapFJZVV1x5+4sjQbLoYhx3ubRJu/t9C41tuv7J5hhuVSA79k/OfL7uu0tZ8FiWQi37iJ89qVglnpzgyI8lLIUH9PVAbixej6A6iBAUxSt1JaUkajGAosMrwd4/noKsJAEXNWGlOxLL0prfUe0D7u4Dlz4lW3wFHrbbB5CiH5oobbUUmZo97iUtuqK9CjU2NCwNdW2mH/bpQ4ABIpXa0UfYp7d6an4VMavWrqtmgObXXyAC+x99hXOJ1zj5zxIjuF+FrhNp0HUR5Yb1M+gOGhYRZP9IMlzStWY68pkAibb6MF6v//+dddsadtLrK5YL/05nwbY4cRmCA+byTJl08u/M4RYTnnG7lsM21DG32PunlA1REAmzp87VxcU8++lBDnygrVWrbL9x1hTVdcc8D/DzcUrVqeifr8ki+kM8AxpqKstC3sIXDIbTlEhTxmYiARHqRPGFDY0joyERgTIxdtzr6tESERGOE6m4JkDRE6HVrTdnma+n3kYckwsssUQd0IIHTbe0B+v8dfFS0q4fFHOJjgSYrkAnfKZ0AheQgMwfR6hmvJonYxungcq/0QmfgknkBSmsKK09yX0ZlZcWcD89TYc603ziXgKnAttBVCOofnwgnR2U+4MZIt0YbJkX/6JxRob3+kr9d0h+pfk7mOSdTqm6jY6CH7/c9zUAb0vaZAqBwHJ8V2wblxYTpHTOmsseE+urcOLeiuh4WtsLddLGMge90Fd/jXWYEyPwc2hqVvMlOukYUczkHtB3ZPYbIvzEmCqcHOob+KgeZFXej0Ji/bB8qU83jjsW1ksqWEPKBTdqiBov2yqvux+mg5hnUszryeRj3GMcZ8FRlOJcEZofNToU6cA7T7JLKQokXRFT9jZFbz76ZWW403uO4CFcUpa7mb8mQl9wVy3zJw8JRgFi352C3s21u3GFCCd6vZRQ8TXZk54t9lz5Tu7UKQDv7pFrAE+qylIvom2EQW5yDJ9LzA0mL/rbtMt+69DrMg7TuAObZ4H5XHS1NhMZJyuZIcAdXEgXnHLD6rPvm4ppKI1QEJmHFjfxQTRMLBy2GGu6ckB4lJ2DzUSbHBeBHbf7oLChp2Eujn/8F0P0IAOG4AAAAMAAAMAA0sAAADbQZokbEN//qeEAAADACW+PQkAcb66BRm58XkQthcrbMZI/buL9zXwE1IoKZlHVXzm+IdeLuTv2ozkUJDXMFbGk+lHXzJu5hZMxdVsppAaEoi1uaeSgJrhnkXo8czbhZy89IqM04TZh+aBkAUbnGcTOLTb2XJc1LYJj6///j2W9LGSaCvblyx9FNgO0yCy/lQC2+SittSpIZ4dSUKLUet7ZyhtQy7y8OvrnrWWkTCSvQGKDgWHwrMaTV+NSoLpVIQD0uImFPitQvoPaqy8VHDSeB2AUAB7L5D2tnYrAAAATUGeQniFfwAAAwAdCG5QGeLjyczd0skMYAQp5Wvu6klDBWkPxg1m8L4gQhzhDCOOJYU1+y8F3XBgsn1LRfrDpVw5uE6TdY+GUlHZvA6ZAAAATQGeYXRCfwAAAwANL4WO4Ijs6AHSOM4ymaFuAOPZBmK5hWh/xO4GenLWUsSsDs20fWRWz3YsNh0S9beA3NiG5Z2tMDnhCZBpNGZRSOLBAAAAUgGeY2pCfwAAAwAlu2tMIJsK9g/4ASuxO4YOuD5lxalHypvc6OQDNJN9xcBVcmts9f+/qq8fHF4jUDCXLirjTE/YloghgiJBZ7Xgos0aZydNScAAAADlQZpoSahBaJlMCG///qeEAAADACWz4C4A4x3p8kY2Up+ABMB2XE6FX3ch4VuygiE/VBSmSZpbiipgDwHlZ1a9bD4OcV4ENDml3Ct5Xo9i7hEfH2uavve9dm8SnukD6Bkctv8T3r5wNvU+RTvb9cCKvUHWSFaxFL6pU1DBu34qybZYGGzNJB2b0Mtdl8WAomH9DJGd4/3+mZUDnfvuQHZDYro52H1H0yRYoWlEuLJb/UNDE4wSEIyDJn2BfyFn1D7D1739zQenFQ/oW7rFuak75v1Nrcx95h94/4B+RO+7xoUOqsSz7gAAADFBnoZFESwr/wAAAwAeYB17nJNWsUrygAZQ3eSxzUfWrDdvXT7JWHD1FnQ8ckuaYmBBAAAAIgGepXRCfwAAAwAnyKd40RIIJXlncKD9GJUER4eiK6u6C2gAAAAlAZ6nakJ/AAADACW7ftK7VtruAG6lM+e+xgWuFgy0zBMAhcdmwQAAAK9BmqxJqEFsmUwIb//+p4QAAAMADdrYlwYAGdlAwSDPbhnsbCkcAB7xu4yIRmHu6/yVkH9Jfj44ZaO07CxYFTNoxZ+5B8goe6apLFRd33yRNQgCQpJPqxQYwI+CusI68LJI2bE9J3rKaDCOhJTunL7MWCLH53YqynTGN8ylPEqP8pnhtB+Wy0yAtQpl1RyI4n95n59eZG7NBAbjo2AM3FtjpDK7ZWDEvdMZIEVfjrxvAAAALEGeykUVLCv/AAADAB0K9KpG787EAG8c9vsjVDBPDAaCkaywZYYIJGlum3hRAAAAIAGe6XRCfwAAAwAlrUnQXduUPLGIRGDirDBY60PRQKbhAAAAGgGe62pCfwAAAwAlu4BPpoi1EedHjl8XisIvAAAAeEGa8EmoQWyZTAhv//6nhAAAAwANzFyQA20WZaUrvsm/05HvkF3ha9G9BxrShKl9RZxEQlzp3ObZPF0PouHT4QGEE0/0WMypCzxok2d+7E2LjF60PiePCYDTrBnqxjzpxjLB84LWPbDO8x+XCaR4m6JHJ9AgUF9r/wAAACJBnw5FFSwr/wAAAwAdCvSfrobGL6zdVYoqVkvRDSg2K5NwAAAAGQGfLXRCfwAAAwAlrUl7sZmJyIU/lGPAkWAAAAAaAZ8vakJ/AAADACW7gE+mjjT1LK37eD+ixYEAAAAfQZs0SahBbJlMCG///qeEAAADAAVAFCyqUtW3qbuTgAAAAB1Bn1JFFSwr/wAAAwAdCvSfroJqAwMmoMo3IZuvgAAAABgBn3F0Qn8AAAMAJa1Je7HNP3UAHoBB4IEAAAAXAZ9zakJ/AAADACW7gE+mOGO8ToJRlMEAAAAYQZt4SahBbJlMCG///qeEAAADAAADANSBAAAAG0GflkUVLCv/AAADAB0K9J+ugmX6SsQF9Ze5ZwAAABYBn7V0Qn8AAAMAJa1Je7HMr3ZPWfObAAAAFwGft2pCfwAAAwAlu4BPpjhjvE6CUZTBAAAAGEGbvEmoQWyZTAhv//6nhAAAAwAAAwDUgAAAABtBn9pFFSwr/wAAAwAdCvSfroJl+krEBfWXuWcAAAAWAZ/5dEJ/AAADACWtSXuxzK92T1nzmwAAABcBn/tqQn8AAAMAJbuAT6Y4Y7xOglGUwAAAABhBm+BJqEFsmUwIb//+p4QAAAMAAAMA1IEAAAAbQZ4eRRUsK/8AAAMAHQr0n66CZfpKxAX1l7lnAAAAFgGePXRCfwAAAwAlrUl7scyvdk9Z85sAAAAXAZ4/akJ/AAADACW7gE+mOGO8ToJRlMEAAAAXQZokSahBbJlMCGf//p4QAAADAAADAz4AAAAbQZ5CRRUsK/8AAAMAHQr0n66CZfpKxAX1l7lnAAAAFgGeYXRCfwAAAwAlrUl7scyvdk9Z85sAAAAXAZ5jakJ/AAADACW7gE+mOGO8ToJRlMAAAAAXQZpoSahBbJlMCF///oywAAADAAADA0IAAAAbQZ6GRRUsK/8AAAMAHQr0n66CZfpKxAX1l7lnAAAAFgGepXRCfwAAAwAlrUl7scyvdk9Z85sAAAAXAZ6nakJ/AAADACW7gE+mOGO8ToJRlMEAAAAYQZqqSahBbJlMFEwn//3xAAADAAADAB6QAAAAGQGeyWpCfwAAAwAlwvCy5UcMrgyoqEt4cs8AABB6bW9vdgAAAGxtdmhkAAAAAAAAAAAAAAAAAAAD6AAAJicAAQAAAQAAAAAAAAAAAAAAAAEAAAAAAAAAAAAAAAAAAAABAAAAAAAAAAAAAAAAAABAAAAAAAAAAAAAAAAAAAAAAAAAAAAAAAAAAAAAAAAAAgAAD6R0cmFrAAAAXHRraGQAAAADAAAAAAAAAAAAAAABAAAAAAAAJicAAAAAAAAAAAAAAAAAAAAAAAEAAAAAAAAAAAAAAAAAAAABAAAAAAAAAAAAAAAAAABAAAAAAmAAAAGQAAAAAAAkZWR0cwAAABxlbHN0AAAAAAAAAAEAACYnAAAEAAABAAAAAA8cbWRpYQAAACBtZGhkAAAAAAAAAAAAAAAAAAA8AAACSgBVxAAAAAAALWhkbHIAAAAAAAAAAHZpZGUAAAAAAAAAAAAAAABWaWRlb0hhbmRsZXIAAAAOx21pbmYAAAAUdm1oZAAAAAEAAAAAAAAAAAAAACRkaW5mAAAAHGRyZWYAAAAAAAAAAQAAAAx1cmwgAAAAAQAADodzdGJsAAAAl3N0c2QAAAAAAAAAAQAAAIdhdmMxAAAAAAAAAAEAAAAAAAAAAAAAAAAAAAAAAmABkABIAAAASAAAAAAAAAABAAAAAAAAAAAAAAAAAAAAAAAAAAAAAAAAAAAAAAAAAAAAGP//AAAAMWF2Y0MBZAAe/+EAGGdkAB6s2UCYM6EAAAMAAQAAAwA8DxYtlgEABmjr48siwAAAABhzdHRzAAAAAAAAAAEAAAElAAACAAAAABhzdHNzAAAAAAAAAAIAAAABAAAA+wAACOBjdHRzAAAAAAAAARoAAAABAAAEAAAAAAEAAAgAAAAAAgAAAgAAAAABAAAKAAAAAAEAAAQAAAAAAQAAAAAAAAABAAACAAAAAAEAAAgAAAAAAgAAAgAAAAABAAAKAAAAAAEAAAQAAAAAAQAAAAAAAAABAAACAAAAAAEAAAoAAAAAAQAABAAAAAABAAAAAAAAAAEAAAIAAAAAAQAACAAAAAACAAACAAAAAAEAAAYAAAAAAQAAAgAAAAABAAAIAAAAAAIAAAIAAAAAAQAABgAAAAABAAACAAAAAAEAAAgAAAAAAgAAAgAAAAABAAAIAAAAAAIAAAIAAAAAAQAACgAAAAABAAAEAAAAAAEAAAAAAAAAAQAAAgAAAAABAAAKAAAAAAEAAAQAAAAAAQAAAAAAAAABAAACAAAAAAEAAAoAAAAAAQAABAAAAAABAAAAAAAAAAEAAAIAAAAAAQAACgAAAAABAAAEAAAAAAEAAAAAAAAAAQAAAgAAAAABAAAKAAAAAAEAAAQAAAAAAQAAAAAAAAABAAACAAAAAAEAAAoAAAAAAQAABAAAAAABAAAAAAAAAAEAAAIAAAAAAQAACgAAAAABAAAEAAAAAAEAAAAAAAAAAQAAAgAAAAABAAAKAAAAAAEAAAQAAAAAAQAAAAAAAAABAAACAAAAAAEAAAoAAAAAAQAABAAAAAABAAAAAAAAAAEAAAIAAAAAAQAACgAAAAABAAAEAAAAAAEAAAAAAAAAAQAAAgAAAAABAAAKAAAAAAEAAAQAAAAAAQAAAAAAAAABAAACAAAAAAEAAAoAAAAAAQAABAAAAAABAAAAAAAAAAEAAAIAAAAAAQAACgAAAAABAAAEAAAAAAEAAAAAAAAAAQAAAgAAAAABAAAKAAAAAAEAAAQAAAAAAQAAAAAAAAABAAACAAAAAAEAAAoAAAAAAQAABAAAAAABAAAAAAAAAAEAAAIAAAAAAQAACgAAAAABAAAEAAAAAAEAAAAAAAAAAQAAAgAAAAABAAAKAAAAAAEAAAQAAAAAAQAAAAAAAAABAAACAAAAAAEAAAoAAAAAAQAABAAAAAABAAAAAAAAAAEAAAIAAAAAAQAACgAAAAABAAAEAAAAAAEAAAAAAAAAAQAAAgAAAAABAAAKAAAAAAEAAAQAAAAAAQAAAAAAAAABAAACAAAAAAEAAAgAAAAAAgAAAgAAAAABAAAKAAAAAAEAAAQAAAAAAQAAAAAAAAABAAACAAAAAAEAAAoAAAAAAQAABAAAAAABAAAAAAAAAAEAAAIAAAAAAQAACgAAAAABAAAEAAAAAAEAAAAAAAAAAQAAAgAAAAABAAAKAAAAAAEAAAQAAAAAAQAAAAAAAAABAAACAAAAAAEAAAoAAAAAAQAABAAAAAABAAAAAAAAAAEAAAIAAAAAAQAACgAAAAABAAAEAAAAAAEAAAAAAAAAAQAAAgAAAAABAAAKAAAAAAEAAAQAAAAAAQAAAAAAAAABAAACAAAAAAEAAAoAAAAAAQAABAAAAAABAAAAAAAAAAEAAAIAAAAAAQAACgAAAAABAAAEAAAAAAEAAAAAAAAAAQAAAgAAAAABAAAKAAAAAAEAAAQAAAAAAQAAAAAAAAABAAACAAAAAAEAAAoAAAAAAQAABAAAAAABAAAAAAAAAAEAAAIAAAAAAQAACgAAAAABAAAEAAAAAAEAAAAAAAAAAQAAAgAAAAABAAAKAAAAAAEAAAQAAAAAAQAAAAAAAAABAAACAAAAAAEAAAoAAAAAAQAABAAAAAABAAAAAAAAAAEAAAIAAAAAAQAACgAAAAABAAAEAAAAAAEAAAAAAAAAAQAAAgAAAAABAAAIAAAAAAIAAAIAAAAAAQAACgAAAAABAAAEAAAAAAEAAAAAAAAAAQAAAgAAAAABAAAKAAAAAAEAAAQAAAAAAQAAAAAAAAABAAACAAAAAAEAAAoAAAAAAQAABAAAAAABAAAAAAAAAAEAAAIAAAAAAQAACgAAAAABAAAEAAAAAAEAAAAAAAAAAQAAAgAAAAABAAAKAAAAAAEAAAQAAAAAAQAAAAAAAAABAAACAAAAAAEAAAoAAAAAAQAABAAAAAABAAAAAAAAAAEAAAIAAAAAAQAACgAAAAABAAAEAAAAAAEAAAAAAAAAAQAAAgAAAAABAAAKAAAAAAEAAAQAAAAAAQAAAAAAAAABAAACAAAAAAEAAAoAAAAAAQAABAAAAAABAAAAAAAAAAEAAAIAAAAAAQAACAAAAAACAAACAAAAAAEAAAoAAAAAAQAABAAAAAABAAAAAAAAAAEAAAIAAAAAAQAACAAAAAACAAACAAAAAAEAAAoAAAAAAQAABAAAAAABAAAAAAAAAAEAAAIAAAAAAQAACgAAAAABAAAEAAAAAAEAAAAAAAAAAQAAAgAAAAABAAAKAAAAAAEAAAQAAAAAAQAAAAAAAAABAAACAAAAAAEAAAoAAAAAAQAABAAAAAABAAAAAAAAAAEAAAIAAAAAAQAACgAAAAABAAAEAAAAAAEAAAAAAAAAAQAAAgAAAAABAAAIAAAAAAIAAAIAAAAAAQAABAAAAAABAAAKAAAAAAEAAAQAAAAAAQAAAAAAAAABAAACAAAAAAEAAAoAAAAAAQAABAAAAAABAAAAAAAAAAEAAAIAAAAAAQAACgAAAAABAAAEAAAAAAEAAAAAAAAAAQAAAgAAAAABAAAKAAAAAAEAAAQAAAAAAQAAAAAAAAABAAACAAAAAAEAAAoAAAAAAQAABAAAAAABAAAAAAAAAAEAAAIAAAAAAQAACgAAAAABAAAEAAAAAAEAAAAAAAAAAQAAAgAAAAABAAAKAAAAAAEAAAQAAAAAAQAAAAAAAAABAAACAAAAAAEAAAoAAAAAAQAABAAAAAABAAAAAAAAAAEAAAIAAAAAAQAACgAAAAABAAAEAAAAAAEAAAAAAAAAAQAAAgAAAAABAAAKAAAAAAEAAAQAAAAAAQAAAAAAAAABAAACAAAAAAEAAAYAAAAAAQAAAgAAAAAcc3RzYwAAAAAAAAABAAAAAQAAASUAAAABAAAEqHN0c3oAAAAAAAAAAAAAASUAAAmBAAAA4QAAAFAAAAAwAAABBAAAAE0AAAA0AAAAOgAAASQAAABRAAAANQAAATEAAABlAAAANQAAAGEAAAFmAAAAdAAAAGQAAACCAAABDwAAAH4AAABUAAAAzgAAAFgAAADxAAAAYQAAAGcAAAEBAAAAfQAAAecAAACeAAAAtAAAAS0AAAD6AAAAuQAAAS4AAADQAAAAwQAAAMwAAAEhAAAA0wAAANwAAAD4AAABJAAAAL8AAADnAAAAswAAATsAAADtAAAAvQAAAMkAAAEPAAAAwQAAAKsAAACEAAABBgAAAJcAAACUAAAAygAAAPMAAAC/AAAAkAAAAMIAAAEOAAAApAAAAJoAAACYAAABNgAAALMAAABsAAAAngAAATQAAADVAAAAswAAALgAAAE7AAAA4AAAALoAAADTAAABDQAAANwAAACrAAAAiAAAAPgAAACvAAAAhAAAAJQAAAFPAAAAtwAAAJQAAACsAAABMAAAALQAAACVAAAAvQAAAToAAADAAAAAsAAAAMMAAAEiAAAAvgAAAJsAAACGAAABCwAAAJsAAACIAAAAnQAAASMAAACOAAAAqAAAAIoAAADzAAAAlgAAAJsAAAB+AAABIgAAAGQAAACiAAAA/wAAAIgAAACHAAAAdgAAAPsAAADaAAAAnQAAALQAAAElAAAAuAAAAKQAAAC1AAABPgAAANQAAACQAAAAmwAAASwAAAC3AAAAkQAAAK0AAAE2AAAApQAAAJ4AAACkAAABJwAAAPUAAACvAAAAeAAAAUYAAAD4AAAAswAAANIAAAE3AAAA2QAAAM4AAADDAAABTgAAAM8AAACsAAAArwAAAUAAAADDAAAAnAAAALQAAAEfAAAAowAAAL4AAAC5AAABYQAAAMkAAADIAAAA3wAAAXAAAADWAAAArAAAALYAAAFFAAAAzQAAAKAAAACiAAABLwAAANIAAADGAAABAAAAAL4AAAC7AAAAzgAAAQgAAAC7AAAAqgAAAIcAAAENAAAAmwAAAIEAAACFAAAA1QAAAJUAAABuAAAAcQAAAToAAACzAAAAogAAAJIAAAF3AAAArQAAAHsAAABvAAABUgAAALIAAACGAAAAcgAAAPMAAACRAAAAdQAAAHQAAAFNAAAAuQAAAIIAAACWAAABdwAAANYAAAC7AAABHAAAAOEAAADCAAAAhgAAAS0AAAC2AAAAwQAAAWQAAADkAAAAfwAAAKEAAAE6AAAAwgAAAIsAAACAAAABYAAAANcAAACNAAAAlgAAARUAAACoAAAAlAAAAH8AAAFpAAAAyQAAAH0AAACmAAAAfgAAAIAAAACEAAAIvQAAAN8AAABRAAAAUQAAAFYAAADpAAAANQAAACYAAAApAAAAswAAADAAAAAkAAAAHgAAAHwAAAAmAAAAHQAAAB4AAAAjAAAAIQAAABwAAAAbAAAAHAAAAB8AAAAaAAAAGwAAABwAAAAfAAAAGgAAABsAAAAcAAAAHwAAABoAAAAbAAAAGwAAAB8AAAAaAAAAGwAAABsAAAAfAAAAGgAAABsAAAAcAAAAHQAAABRzdGNvAAAAAAAAAAEAAAAwAAAAYnVkdGEAAABabWV0YQAAAAAAAAAhaGRscgAAAAAAAAAAbWRpcmFwcGwAAAAAAAAAAAAAAAAtaWxzdAAAACWpdG9vAAAAHWRhdGEAAAABAAAAAExhdmY1OC4yOS4xMDA=\" type=\"video/mp4\" />\n",
              "             </video>"
            ]
          },
          "metadata": {}
        }
      ],
      "source": [
        "import glob\n",
        "import io\n",
        "import base64\n",
        "import imageio\n",
        "from IPython.display import HTML, display\n",
        "\n",
        "def show_video_of_model(agent, env_name):\n",
        "    env = gym.make(env_name, render_mode='rgb_array')\n",
        "    state, _ = env.reset()\n",
        "    done = False\n",
        "    frames = []\n",
        "    while not done:\n",
        "        frame = env.render()\n",
        "        frames.append(frame)\n",
        "        action = agent.act(state)\n",
        "        state, reward, done, _, _ = env.step(action.item())\n",
        "    env.close()\n",
        "    imageio.mimsave('video.mp4', frames, fps=30)\n",
        "\n",
        "show_video_of_model(agent, 'LunarLander-v3')\n",
        "\n",
        "def show_video():\n",
        "    mp4list = glob.glob('*.mp4')\n",
        "    if len(mp4list) > 0:\n",
        "        mp4 = mp4list[0]\n",
        "        video = io.open(mp4, 'r+b').read()\n",
        "        encoded = base64.b64encode(video)\n",
        "        display(HTML(data='''<video alt=\"test\" autoplay\n",
        "                loop controls style=\"height: 400px;\">\n",
        "                <source src=\"data:video/mp4;base64,{0}\" type=\"video/mp4\" />\n",
        "             </video>'''.format(encoded.decode('ascii'))))\n",
        "    else:\n",
        "        print(\"Could not find video\")\n",
        "\n",
        "show_video()"
      ]
    }
  ],
  "metadata": {
    "colab": {
      "provenance": []
    },
    "kernelspec": {
      "display_name": "Python 3",
      "name": "python3"
    },
    "language_info": {
      "name": "python"
    }
  },
  "nbformat": 4,
  "nbformat_minor": 0
}